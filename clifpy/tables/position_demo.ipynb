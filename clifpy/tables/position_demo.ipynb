{
 "cells": [
  {
   "cell_type": "code",
   "execution_count": 1,
   "metadata": {},
   "outputs": [],
   "source": [
    "# 📌 Step 0 — Environment setup and imports  \n",
    "# This cell brings in standard libraries and adds the project root to `sys.path`  \n",
    "# so that we can import the local `clifpy` package from within the notebook.\n",
    "import sys\n",
    "import os\n",
    "from pathlib import Path\n",
    "\n",
    "from datetime import datetime, timedelta\n",
    "from clifpy import Position\n",
    " "
   ]
  },
  {
   "cell_type": "code",
   "execution_count": 2,
   "metadata": {},
   "outputs": [
    {
     "name": "stdout",
     "output_type": "stream",
     "text": [
      "Loading clif_position.parquet\n",
      "Data loaded successfully from clif_position.parquet\n",
      "recorded_dttm: null count before conversion= 0\n",
      "recorded_dttm: Your timezone is UTC, Converting to your site timezone (UTC).\n",
      "recorded_dttm: null count after conversion= 0\n"
     ]
    }
   ],
   "source": [
    "# 📌 Step 1 — Load the Position table  \n",
    "# The `Position.from_file` helper reads the Parquet files, attaches the DataFrame to  \n",
    "# `position.df`, and sets up logging & schema information automatically.\n",
    "position = Position.from_file(data_directory=\"/Users/dema/WD/clifpy/clifpy/data/clif_demo\", filetype=\"parquet\", timezone=\"UTC\")"
   ]
  },
  {
   "cell_type": "code",
   "execution_count": 3,
   "metadata": {},
   "outputs": [
    {
     "data": {
      "text/html": [
       "<div>\n",
       "<style scoped>\n",
       "    .dataframe tbody tr th:only-of-type {\n",
       "        vertical-align: middle;\n",
       "    }\n",
       "\n",
       "    .dataframe tbody tr th {\n",
       "        vertical-align: top;\n",
       "    }\n",
       "\n",
       "    .dataframe thead th {\n",
       "        text-align: right;\n",
       "    }\n",
       "</style>\n",
       "<table border=\"1\" class=\"dataframe\">\n",
       "  <thead>\n",
       "    <tr style=\"text-align: right;\">\n",
       "      <th></th>\n",
       "      <th>hospitalization_id</th>\n",
       "      <th>recorded_dttm</th>\n",
       "      <th>position_name</th>\n",
       "      <th>position_category</th>\n",
       "    </tr>\n",
       "  </thead>\n",
       "  <tbody>\n",
       "    <tr>\n",
       "      <th>0</th>\n",
       "      <td>23559586</td>\n",
       "      <td>2137-08-25 09:00:00-05:00</td>\n",
       "      <td>Sitting</td>\n",
       "      <td>not_prone</td>\n",
       "    </tr>\n",
       "    <tr>\n",
       "      <th>1</th>\n",
       "      <td>23559586</td>\n",
       "      <td>2137-08-25 10:00:00-05:00</td>\n",
       "      <td>Sitting</td>\n",
       "      <td>not_prone</td>\n",
       "    </tr>\n",
       "    <tr>\n",
       "      <th>2</th>\n",
       "      <td>23559586</td>\n",
       "      <td>2137-09-01 10:00:00-05:00</td>\n",
       "      <td>Left Side</td>\n",
       "      <td>not_prone</td>\n",
       "    </tr>\n",
       "    <tr>\n",
       "      <th>3</th>\n",
       "      <td>23559586</td>\n",
       "      <td>2137-08-25 12:00:00-05:00</td>\n",
       "      <td>Right Side</td>\n",
       "      <td>not_prone</td>\n",
       "    </tr>\n",
       "    <tr>\n",
       "      <th>4</th>\n",
       "      <td>23559586</td>\n",
       "      <td>2137-09-01 12:00:00-05:00</td>\n",
       "      <td>Left Side</td>\n",
       "      <td>not_prone</td>\n",
       "    </tr>\n",
       "  </tbody>\n",
       "</table>\n",
       "</div>"
      ],
      "text/plain": [
       "  hospitalization_id             recorded_dttm position_name position_category\n",
       "0           23559586 2137-08-25 09:00:00-05:00       Sitting         not_prone\n",
       "1           23559586 2137-08-25 10:00:00-05:00       Sitting         not_prone\n",
       "2           23559586 2137-09-01 10:00:00-05:00     Left Side         not_prone\n",
       "3           23559586 2137-08-25 12:00:00-05:00    Right Side         not_prone\n",
       "4           23559586 2137-09-01 12:00:00-05:00     Left Side         not_prone"
      ]
     },
     "execution_count": 3,
     "metadata": {},
     "output_type": "execute_result"
    }
   ],
   "source": [
    "# 📌 Step 2 — Optional data wrangling  \n",
    "# 1. Convert timezone-aware datetime columns to your preferred zone.  \n",
    "# 2. Drop columns you no longer need (`lab_order_dttm`).  \n",
    "# 3. Display the first few rows to verify the changes.\n",
    "datetime_cols = position.df.select_dtypes(include=[\"datetimetz\"]).columns\n",
    "position.df[datetime_cols] = position.df[datetime_cols].apply(lambda col: col.dt.tz_convert(\"America/New_York\"))\n",
    "position.df.head()"
   ]
  },
  {
   "cell_type": "code",
   "execution_count": 4,
   "metadata": {},
   "outputs": [
    {
     "data": {
      "text/html": [
       "<div>\n",
       "<style scoped>\n",
       "    .dataframe tbody tr th:only-of-type {\n",
       "        vertical-align: middle;\n",
       "    }\n",
       "\n",
       "    .dataframe tbody tr th {\n",
       "        vertical-align: top;\n",
       "    }\n",
       "\n",
       "    .dataframe thead th {\n",
       "        text-align: right;\n",
       "    }\n",
       "</style>\n",
       "<table border=\"1\" class=\"dataframe\">\n",
       "  <thead>\n",
       "    <tr style=\"text-align: right;\">\n",
       "      <th></th>\n",
       "      <th>attribute</th>\n",
       "      <th>value</th>\n",
       "    </tr>\n",
       "  </thead>\n",
       "  <tbody>\n",
       "    <tr>\n",
       "      <th>0</th>\n",
       "      <td>table_name</td>\n",
       "      <td>position</td>\n",
       "    </tr>\n",
       "    <tr>\n",
       "      <th>1</th>\n",
       "      <td>num_rows</td>\n",
       "      <td>4742</td>\n",
       "    </tr>\n",
       "    <tr>\n",
       "      <th>2</th>\n",
       "      <td>num_columns</td>\n",
       "      <td>4</td>\n",
       "    </tr>\n",
       "    <tr>\n",
       "      <th>3</th>\n",
       "      <td>columns</td>\n",
       "      <td>['hospitalization_id', 'recorded_dttm', 'posit...</td>\n",
       "    </tr>\n",
       "    <tr>\n",
       "      <th>4</th>\n",
       "      <td>memory_usage_mb</td>\n",
       "      <td>0.923881</td>\n",
       "    </tr>\n",
       "    <tr>\n",
       "      <th>5</th>\n",
       "      <td>validation_errors</td>\n",
       "      <td>0</td>\n",
       "    </tr>\n",
       "    <tr>\n",
       "      <th>6</th>\n",
       "      <td>is_valid</td>\n",
       "      <td>True</td>\n",
       "    </tr>\n",
       "  </tbody>\n",
       "</table>\n",
       "</div>"
      ],
      "text/plain": [
       "           attribute                                              value\n",
       "0         table_name                                           position\n",
       "1           num_rows                                               4742\n",
       "2        num_columns                                                  4\n",
       "3            columns  ['hospitalization_id', 'recorded_dttm', 'posit...\n",
       "4    memory_usage_mb                                           0.923881\n",
       "5  validation_errors                                                  0\n",
       "6           is_valid                                               True"
      ]
     },
     "execution_count": 4,
     "metadata": {},
     "output_type": "execute_result"
    }
   ],
   "source": [
    "# 📌 Step 3 — Quick table summary  \n",
    "# Produces a dictionary with counts, memory usage, missing-data metrics, and validity flag.\n",
    "position.get_summary()"
   ]
  },
  {
   "cell_type": "code",
   "execution_count": 5,
   "metadata": {},
   "outputs": [],
   "source": [
    "# 📌 Step 4 — Persist the summary to disk  \n",
    "# Saves the dictionary above to `output/summary_position.json`.\n",
    "position.save_summary()"
   ]
  },
  {
   "cell_type": "code",
   "execution_count": 6,
   "metadata": {},
   "outputs": [
    {
     "name": "stdout",
     "output_type": "stream",
     "text": [
      "Validation completed successfully.\n"
     ]
    }
   ],
   "source": [
    "# 📌 Step 5 — Run full validation suite  \n",
    "# Executes all schema and data-quality checks for the Labs table.\n",
    "position.validate()"
   ]
  },
  {
   "cell_type": "code",
   "execution_count": 7,
   "metadata": {},
   "outputs": [],
   "source": [
    "# 📌 Step 6 — Inspect validation errors (if any)\n",
    "for error in position.errors:\n",
    "    print(error)"
   ]
  },
  {
   "cell_type": "code",
   "execution_count": 8,
   "metadata": {},
   "outputs": [
    {
     "data": {
      "text/html": [
       "<div>\n",
       "<style scoped>\n",
       "    .dataframe tbody tr th:only-of-type {\n",
       "        vertical-align: middle;\n",
       "    }\n",
       "\n",
       "    .dataframe tbody tr th {\n",
       "        vertical-align: top;\n",
       "    }\n",
       "\n",
       "    .dataframe thead th {\n",
       "        text-align: right;\n",
       "    }\n",
       "</style>\n",
       "<table border=\"1\" class=\"dataframe\">\n",
       "  <thead>\n",
       "    <tr style=\"text-align: right;\">\n",
       "      <th></th>\n",
       "      <th>count</th>\n",
       "      <th>unique</th>\n",
       "      <th>missing_pct</th>\n",
       "    </tr>\n",
       "    <tr>\n",
       "      <th>position_category</th>\n",
       "      <th></th>\n",
       "      <th></th>\n",
       "      <th></th>\n",
       "    </tr>\n",
       "  </thead>\n",
       "  <tbody>\n",
       "    <tr>\n",
       "      <th>not_prone</th>\n",
       "      <td>4741</td>\n",
       "      <td>128</td>\n",
       "      <td>0.0</td>\n",
       "    </tr>\n",
       "    <tr>\n",
       "      <th>prone</th>\n",
       "      <td>1</td>\n",
       "      <td>1</td>\n",
       "      <td>0.0</td>\n",
       "    </tr>\n",
       "  </tbody>\n",
       "</table>\n",
       "</div>"
      ],
      "text/plain": [
       "                   count  unique  missing_pct\n",
       "position_category                            \n",
       "not_prone           4741     128          0.0\n",
       "prone                  1       1          0.0"
      ]
     },
     "execution_count": 8,
     "metadata": {},
     "output_type": "execute_result"
    }
   ],
   "source": [
    "# 📌 Step 7 - Explore position statistics by category\n",
    "# Provides count, central-tendency, dispersion metrics, missingness, and unique-patient counts per position variable.\n",
    "position.get_position_category_stats()"
   ]
  }
 ],
 "metadata": {
  "kernelspec": {
   "display_name": ".venv",
   "language": "python",
   "name": "python3"
  },
  "language_info": {
   "codemirror_mode": {
    "name": "ipython",
    "version": 3
   },
   "file_extension": ".py",
   "mimetype": "text/x-python",
   "name": "python",
   "nbconvert_exporter": "python",
   "pygments_lexer": "ipython3",
   "version": "3.9.6"
  }
 },
 "nbformat": 4,
 "nbformat_minor": 4
}
