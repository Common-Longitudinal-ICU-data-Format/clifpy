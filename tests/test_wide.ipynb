{
 "cells": [
  {
   "cell_type": "markdown",
   "id": "550fb6f4",
   "metadata": {},
   "source": [
    "## Standard test for wide function"
   ]
  },
  {
   "cell_type": "code",
   "execution_count": null,
   "id": "027b7e28",
   "metadata": {
    "vscode": {
     "languageId": "python"
    }
   },
   "outputs": [],
   "source": [
    "import pandas as pd\n",
    "from clifpy import ClifOrchestrator\n",
    "\n",
    "# Initialize the ClifOrchestrator\n",
    "# You'll need to adjust the data_directory path to your actual data location\n",
    "co = ClifOrchestrator(\n",
    "    data_directory='../clifpy/data/clif_demo/',  # Adjust this path\n",
    "    filetype='parquet',  # or 'csv' depending on your data format\n",
    "    timezone='UTC',\n",
    "    output_directory=None  # Will create 'output' directory in current working directory\n",
    ")\n",
    "\n",
    "# Create the cohort DataFrame\n",
    "cohort_df = pd.DataFrame({\n",
    "    'hospitalization_id': ['23559586', '20626031'],\n",
    "    'start_time': pd.to_datetime(['2137-01-01 14:29:00-06:00', '2132-12-14 08:00:00-06:00']),\n",
    "    'end_time': pd.to_datetime(['2137-08-25 14:00:00-06:00', '2132-12-20 01:00:00-06:00'])\n",
    "})\n",
    "\n",
    "# Load the required tables\n",
    "co.load_table('vitals')\n",
    "co.load_table('labs')\n",
    "co.load_table('patient_assessments')\n",
    "co.load_table('medication_admin_continuous')\n",
    "\n",
    "# Create the wide dataset\n",
    "wide_df = co.create_wide_dataset(\n",
    "   # tables_to_load=['vitals', 'labs', 'patient_assessments', 'medication_admin_continuous'],\n",
    "   \n",
    "    category_filters={\n",
    "        'labs': ['creatinine','platelet_count','po2_arterial','bilirubin_total'],\n",
    "        'vitals': ['map','spo2', 'weight_kg'],\n",
    "        'patient_assessments': ['gcs_total'],\n",
    "        \"medication_admin_continuous\": [\"norepinephrine\",\"epinephrine\",\"phenylephrine\",\"vasopressin\",\n",
    "                \"dopamine\",\"angiotensin\",\"dobutamine\",\"milrinone\"]\n",
    "    },\n",
    "    sample=True,  # Use 20 random hospitalizations\n",
    "    cohort_df=cohort_df\n",
    ")\n",
    "\n",
    "# Optional: Display the resulting DataFrame\n",
    "print(f\"Wide dataset created with shape: {co.wide_df.shape}\")\n",
    "print(f\"Columns: {list(co.wide_df.columns)}\")\n",
    "\n",
    "## expected shape -> Wide dataset created with shape: (879, 27)"
   ]
  },
  {
   "cell_type": "markdown",
   "id": "44888726",
   "metadata": {},
   "source": [
    "## Wide df test with encounter Stitching"
   ]
  },
  {
   "cell_type": "code",
   "execution_count": null,
   "id": "5367fdd5",
   "metadata": {
    "vscode": {
     "languageId": "python"
    }
   },
   "outputs": [],
   "source": [
    "import pandas as pd\n",
    "from clifpy import ClifOrchestrator\n",
    "import sys\n",
    "from pathlib import Path\n",
    "import pandas as pd\n",
    "import numpy as np\n",
    "\n",
    "def find_project_root(start=None):\n",
    "    p = Path(start or Path.cwd())\n",
    "    for d in [p, *p.parents]:\n",
    "        if (d / \"pyproject.toml\").exists() or (d / \"clifpy\").is_dir():\n",
    "            return d\n",
    "    return p\n",
    "\n",
    "project_root = find_project_root()\n",
    "if str(project_root) not in sys.path:\n",
    "    sys.path.insert(0, str(project_root))\n",
    "DATA_DIR = (project_root / \"clifpy\" / \"data\" / \"clif_demo\").resolve()\n",
    "OUTPUT_DIR = (project_root / \"examples\" / \"output\").resolve()\n",
    "FILETYPE = \"parquet\"\n",
    "TIMEZONE = \"US/Eastern\"\n",
    "\n",
    "print(f\"Data directory: {DATA_DIR}\")\n",
    "print(f\"Output directory: {OUTPUT_DIR}\")\n",
    "\n",
    "\n",
    "# Initialize orchestrator with encounter stitching enabled\n",
    "clif = ClifOrchestrator(\n",
    "    data_directory=str(DATA_DIR),\n",
    "    filetype=FILETYPE,\n",
    "    timezone=TIMEZONE,\n",
    "    output_directory=str(OUTPUT_DIR),\n",
    "    stitch_encounter=True,  # Enable encounter stitching\n",
    "    stitch_time_interval=6  # 6-hour window (default)\n",
    ")\n",
    "\n",
    "clif.initialize(['hospitalization', 'adt'])\n",
    "\n",
    "# Access the encounter mapping\n",
    "encounter_mapping = clif.get_encounter_mapping()\n",
    "\n",
    "if encounter_mapping is not None:\n",
    "    print(f\"Total hospitalizations: {len(encounter_mapping)}\")\n",
    "    print(f\"Total encounter blocks: {encounter_mapping['encounter_block'].nunique()}\")\n",
    "    print(f\"\\nEncounter mapping shape: {encounter_mapping.shape}\")"
   ]
  },
  {
   "cell_type": "code",
   "execution_count": null,
   "id": "0c415ad2",
   "metadata": {
    "vscode": {
     "languageId": "python"
    }
   },
   "outputs": [],
   "source": [
    "# Create the cohort DataFrame\n",
    "cohort_df = pd.DataFrame({\n",
    "    'hospitalization_id': ['23559586', '20626031'],\n",
    "    'start_time': pd.to_datetime(['2137-01-01 14:29:00-06:00', '2132-12-14 08:00:00-06:00']),\n",
    "    'end_time': pd.to_datetime(['2137-08-25 14:00:00-06:00', '2132-12-20 01:00:00-06:00'])\n",
    "})\n",
    "\n",
    "# Load the required tables\n",
    "clif.load_table('vitals')\n",
    "clif.load_table('labs')\n",
    "clif.load_table('patient_assessments')\n",
    "clif.load_table('medication_admin_continuous')\n",
    "\n",
    "# Create the wide dataset\n",
    "clif.create_wide_dataset(\n",
    "   # tables_to_load=['vitals', 'labs', 'patient_assessments', 'medication_admin_continuous'],\n",
    "   \n",
    "    category_filters={\n",
    "        'labs': ['creatinine','platelet_count','po2_arterial','bilirubin_total'],\n",
    "        'vitals': ['map','spo2', 'weight_kg'],\n",
    "        'patient_assessments': ['gcs_total'],\n",
    "        \"medication_admin_continuous\": [\"norepinephrine\",\"epinephrine\",\"phenylephrine\",\"vasopressin\",\n",
    "                \"dopamine\",\"angiotensin\",\"dobutamine\",\"milrinone\"]\n",
    "    },\n",
    "    sample=True,  # Use 20 random hospitalizations\n",
    "    cohort_df=cohort_df\n",
    ")\n",
    "\n",
    "# Optional: Display the resulting DataFrame\n",
    "print(f\"Wide dataset created with shape: {clif.wide_df.shape}\")\n",
    "print(f\"Columns: {list(clif.wide_df.columns)}\")"
   ]
  }
 ],
 "metadata": {
  "language_info": {
   "name": "plaintext"
  }
 },
 "nbformat": 4,
 "nbformat_minor": 5
}
