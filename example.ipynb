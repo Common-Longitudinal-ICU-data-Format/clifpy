{
 "cells": [
  {
   "cell_type": "code",
   "execution_count": 7,
   "metadata": {},
   "outputs": [],
   "source": [
    "import pandas as pd\n",
    "import numpy as np\n",
    "import duckdb\n",
    "import pyarrow\n",
    "import matplotlib.pyplot as plt\n",
    "import datetime\n",
    "import re\n",
    "import os\n",
    "import json"
   ]
  },
  {
   "cell_type": "code",
   "execution_count": 2,
   "metadata": {},
   "outputs": [],
   "source": [
    "from src.pyclif.clif import CLIF"
   ]
  },
  {
   "cell_type": "code",
   "execution_count": 3,
   "metadata": {},
   "outputs": [
    {
     "name": "stdout",
     "output_type": "stream",
     "text": [
      "Loaded configuration from config.json\n"
     ]
    }
   ],
   "source": [
    "## get site specific details from project config file\n",
    "import json\n",
    "def load_config():\n",
    "    json_path = 'config/config.json'\n",
    "    \n",
    "    with open(json_path, 'r') as file:\n",
    "        config = json.load(file)\n",
    "    print(\"Loaded configuration from config.json\")\n",
    "    \n",
    "    return config\n",
    "\n",
    "try:\n",
    "    config = load_config()\n",
    "    site_name = config[\"site_name\"]\n",
    "    tables_path = config[\"tables_path\"]\n",
    "    file_type = config[\"file_type\"]\n",
    "except KeyError as e:\n",
    "    print(f\"Missing key in configuration: {e}\")\n",
    "except Exception as e:\n",
    "    print(f\"An error occurred while loading configuration: {e}\")"
   ]
  },
  {
   "cell_type": "code",
   "execution_count": 4,
   "metadata": {},
   "outputs": [
    {
     "name": "stdout",
     "output_type": "stream",
     "text": [
      "CLIF Object Initialized.\n"
     ]
    }
   ],
   "source": [
    "## figure out a way to get config elements from the terminal arguments or \n",
    "# ask for input while setting up the clif class\n",
    "clif = CLIF(data_dir=tables_path, filetype=file_type)"
   ]
  },
  {
   "cell_type": "code",
   "execution_count": 6,
   "metadata": {},
   "outputs": [
    {
     "ename": "TypeError",
     "evalue": "load_table() got an unexpected keyword argument 'filters'",
     "output_type": "error",
     "traceback": [
      "\u001b[0;31m---------------------------------------------------------------------------\u001b[0m",
      "\u001b[0;31mTypeError\u001b[0m                                 Traceback (most recent call last)",
      "Cell \u001b[0;32mIn[6], line 1\u001b[0m\n\u001b[0;32m----> 1\u001b[0m \u001b[43mclif\u001b[49m\u001b[38;5;241;43m.\u001b[39;49m\u001b[43mload\u001b[49m\u001b[43m(\u001b[49m\u001b[43m[\u001b[49m\u001b[38;5;124;43m\"\u001b[39;49m\u001b[38;5;124;43mclif_patient\u001b[39;49m\u001b[38;5;124;43m\"\u001b[39;49m\u001b[43m,\u001b[49m\u001b[43m \u001b[49m\u001b[38;5;124;43m\"\u001b[39;49m\u001b[38;5;124;43mclif_hospitalization\u001b[39;49m\u001b[38;5;124;43m\"\u001b[39;49m\u001b[43m]\u001b[49m\u001b[43m)\u001b[49m\n",
      "File \u001b[0;32m~/Desktop/CLIF/personal_repos/pyCLIF/src/pyclif/clif.py:47\u001b[0m, in \u001b[0;36mCLIF.load\u001b[0;34m(self, table_list, columns, filters, sample_size)\u001b[0m\n\u001b[1;32m     45\u001b[0m c \u001b[38;5;241m=\u001b[39m columns[table] \u001b[38;5;28;01mif\u001b[39;00m (columns \u001b[38;5;129;01mand\u001b[39;00m table \u001b[38;5;129;01min\u001b[39;00m columns) \u001b[38;5;28;01melse\u001b[39;00m \u001b[38;5;28;01mNone\u001b[39;00m\n\u001b[1;32m     46\u001b[0m f \u001b[38;5;241m=\u001b[39m filters[table] \u001b[38;5;28;01mif\u001b[39;00m (filters \u001b[38;5;129;01mand\u001b[39;00m table \u001b[38;5;129;01min\u001b[39;00m filters) \u001b[38;5;28;01melse\u001b[39;00m \u001b[38;5;28;01mNone\u001b[39;00m\n\u001b[0;32m---> 47\u001b[0m df \u001b[38;5;241m=\u001b[39m \u001b[43mload_table\u001b[49m\u001b[43m(\u001b[49m\u001b[43mtable_path\u001b[49m\u001b[43m,\u001b[49m\u001b[43m \u001b[49m\u001b[43mfiletype\u001b[49m\u001b[38;5;241;43m=\u001b[39;49m\u001b[38;5;28;43mself\u001b[39;49m\u001b[38;5;241;43m.\u001b[39;49m\u001b[43mfiletype\u001b[49m\u001b[43m,\u001b[49m\u001b[43m \u001b[49m\u001b[43mcolumns\u001b[49m\u001b[38;5;241;43m=\u001b[39;49m\u001b[43mc\u001b[49m\u001b[43m,\u001b[49m\u001b[43m \u001b[49m\u001b[43mfilters\u001b[49m\u001b[38;5;241;43m=\u001b[39;49m\u001b[43mf\u001b[49m\u001b[43m,\u001b[49m\u001b[43m \u001b[49m\u001b[43msample_size\u001b[49m\u001b[38;5;241;43m=\u001b[39;49m\u001b[43msample_size\u001b[49m\u001b[43m)\u001b[49m\n\u001b[1;32m     49\u001b[0m \u001b[38;5;66;03m# Instantiate table-specific class\u001b[39;00m\n\u001b[1;32m     50\u001b[0m \u001b[38;5;28;01mif\u001b[39;00m table \u001b[38;5;241m==\u001b[39m \u001b[38;5;124m'\u001b[39m\u001b[38;5;124mclif_patient\u001b[39m\u001b[38;5;124m'\u001b[39m:\n",
      "\u001b[0;31mTypeError\u001b[0m: load_table() got an unexpected keyword argument 'filters'"
     ]
    }
   ],
   "source": [
    "clif.load([\"patient\", \"hospitalization\"])"
   ]
  },
  {
   "cell_type": "code",
   "execution_count": null,
   "metadata": {},
   "outputs": [],
   "source": []
  },
  {
   "cell_type": "code",
   "execution_count": 10,
   "metadata": {},
   "outputs": [
    {
     "name": "stdout",
     "output_type": "stream",
     "text": [
      "current table patient\n",
      "Generated data/patient.json\n",
      "current table hospitalization\n",
      "Generated data/hospitalization.json\n",
      "current table adt\n",
      "Generated data/adt.json\n",
      "current table vitals\n",
      "Generated data/vitals.json\n",
      "current table labs\n",
      "Generated data/labs.json\n",
      "current table patient_assessments\n",
      "Generated data/patient_assessments.json\n",
      "current table respiratory_support\n",
      "Generated data/respiratory_support.json\n",
      "current table medication_admin_continuous\n",
      "Generated data/medication_admin_continuous.json\n",
      "current table position\n",
      "Generated data/position.json\n",
      "current table microbiology_culture\n",
      "Generated data/microbiology_culture.json\n"
     ]
    }
   ],
   "source": [
    "# Paths\n",
    "DATA_DIR = \"data\"\n",
    "OUTPUT_DIR = \"data\"\n",
    "\n",
    "# Load the all_tables.json\n",
    "with open(os.path.join(DATA_DIR, \"all_tables.json\"), \"r\") as f:\n",
    "    all_tables = json.load(f)\n",
    "\n",
    "# Ensure output directory exists\n",
    "os.makedirs(OUTPUT_DIR, exist_ok=True)\n",
    "\n",
    "for table_name, columns_def in all_tables.items():\n",
    "    # columns_def is a dict: {column_name: data_type, ...}\n",
    "    print(\"current table\", table_name)\n",
    "    # Determine which are category or group columns\n",
    "    category_columns = [col for col in columns_def.keys() if col.endswith(\"_category\")]\n",
    "    group_columns = [col for col in columns_def.keys() if col.endswith(\"_group\")]\n",
    "\n",
    "    # All columns are considered required for demonstration purposes\n",
    "    required_columns = list(columns_def.keys())\n",
    "\n",
    "    columns_info = []\n",
    "    for col_name, col_type in columns_def.items():\n",
    "        # Determine if this column is category/group\n",
    "        is_category = col_name in category_columns\n",
    "        is_group = col_name in group_columns\n",
    "        \n",
    "        # Initialize permissible values\n",
    "        permissible_values = []\n",
    "        \n",
    "        # If category or group, attempt to load permissible values\n",
    "        if is_category:\n",
    "            variable_name = col_name.rsplit(\"_\", 1)[0]\n",
    "            csv_filename = f\"clif_{table_name}_{variable_name}_categories.csv\"\n",
    "            csv_path = os.path.join(DATA_DIR, csv_filename)\n",
    "            if os.path.exists(csv_path):\n",
    "                df_cat = pd.read_csv(csv_path)\n",
    "                # Assuming the first column of the csv contains the permissible values\n",
    "                # Adjust if needed\n",
    "                permissible_values = df_cat.iloc[:,0].dropna().unique().tolist()\n",
    "        \n",
    "        if is_group:\n",
    "            csv_filename = f\"clif_{table_name}_{col_name}_groups.csv\"\n",
    "            csv_path = os.path.join(DATA_DIR, csv_filename)\n",
    "            if os.path.exists(csv_path):\n",
    "                df_grp = pd.read_csv(csv_path)\n",
    "                permissible_values = df_grp.iloc[:,0].dropna().unique().tolist()\n",
    "\n",
    "        # Build the column structure\n",
    "        col_info = {\n",
    "            \"name\": col_name,\n",
    "            \"data_type\": col_type,\n",
    "            \"required\": col_name in required_columns,\n",
    "            \"is_category_column\": is_category,\n",
    "            \"is_group_column\": is_group\n",
    "        }\n",
    "\n",
    "        # Add permissible values if category or group\n",
    "        if is_category or is_group:\n",
    "            col_info[\"permissible_values\"] = permissible_values\n",
    "\n",
    "        columns_info.append(col_info)\n",
    "\n",
    "    # Create the final JSON structure for the table\n",
    "    table_json = {\n",
    "        \"table_name\": table_name,\n",
    "        \"columns\": columns_info,\n",
    "        \"required_columns\": required_columns,\n",
    "        \"category_columns\": category_columns,\n",
    "        \"group_columns\": group_columns\n",
    "    }\n",
    "\n",
    "    # Write out to a JSON file\n",
    "    output_path = os.path.join(OUTPUT_DIR, f\"{table_name}.json\")\n",
    "    with open(output_path, \"w\") as outfile:\n",
    "        json.dump(table_json, outfile, indent=4)\n",
    "\n",
    "    print(f\"Generated {output_path}\")"
   ]
  },
  {
   "cell_type": "code",
   "execution_count": null,
   "metadata": {},
   "outputs": [],
   "source": []
  },
  {
   "cell_type": "code",
   "execution_count": null,
   "metadata": {},
   "outputs": [],
   "source": []
  },
  {
   "cell_type": "code",
   "execution_count": null,
   "metadata": {},
   "outputs": [],
   "source": []
  }
 ],
 "metadata": {
  "kernelspec": {
   "display_name": "base",
   "language": "python",
   "name": "python3"
  },
  "language_info": {
   "codemirror_mode": {
    "name": "ipython",
    "version": 3
   },
   "file_extension": ".py",
   "mimetype": "text/x-python",
   "name": "python",
   "nbconvert_exporter": "python",
   "pygments_lexer": "ipython3",
   "version": "3.9.6"
  }
 },
 "nbformat": 4,
 "nbformat_minor": 2
}
