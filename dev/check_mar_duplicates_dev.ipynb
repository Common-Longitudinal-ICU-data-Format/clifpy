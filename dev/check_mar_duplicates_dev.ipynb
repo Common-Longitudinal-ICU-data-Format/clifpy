{
 "cells": [
  {
   "cell_type": "markdown",
   "id": "b8b5861d",
   "metadata": {},
   "source": [
    "# Init"
   ]
  },
  {
   "cell_type": "markdown",
   "id": "2d6c58f9",
   "metadata": {},
   "source": [
    "## Load"
   ]
  },
  {
   "cell_type": "code",
   "execution_count": 8,
   "id": "62f030e7",
   "metadata": {},
   "outputs": [
    {
     "name": "stdout",
     "output_type": "stream",
     "text": [
      "/Users/wliao0504/code/clif\n"
     ]
    },
    {
     "name": "stderr",
     "output_type": "stream",
     "text": [
      "/Users/wliao0504/code/clif/pyCLIF/.venv/lib/python3.10/site-packages/IPython/core/magics/osm.py:417: UserWarning: This is now an optional IPython functionality, setting dhist requires you to install the `pickleshare` library.\n",
      "  self.shell.db['dhist'] = compress_dhist(dhist)[-100:]\n"
     ]
    },
    {
     "data": {
      "text/plain": [
       "'/Users/wliao0504/code/clif'"
      ]
     },
     "execution_count": 8,
     "metadata": {},
     "output_type": "execute_result"
    }
   ],
   "source": [
    "%cd ..\n",
    "%pwd"
   ]
  },
  {
   "cell_type": "code",
   "execution_count": null,
   "id": "e8e8cc80",
   "metadata": {},
   "outputs": [],
   "source": [
    "from clifpy import MedicationAdminContinuous \n",
    "\n",
    "mac = MedicationAdminContinuous.from_file(\n",
    "    data_directory = '/Users/wliao0504/code/clif/ucmc-clif-data',\n",
    "    filetype = 'parquet'\n",
    ")"
   ]
  },
  {
   "cell_type": "code",
   "execution_count": 49,
   "id": "96608ae4",
   "metadata": {},
   "outputs": [],
   "source": [
    "mac_df = mac.df"
   ]
  },
  {
   "cell_type": "code",
   "execution_count": null,
   "id": "f38ad7de",
   "metadata": {},
   "outputs": [
    {
     "name": "stdout",
     "output_type": "stream",
     "text": [
      "Checking for duplicates to enable pivoting to wide format\n",
      "Found 10312 duplicate entries\n"
     ]
    }
   ],
   "source": [
    "import pandas as pd\n",
    "import duckdb\n",
    "\n",
    "def find_mar_duplicates(meds_df: pd.DataFrame, ignore_zero_dose: bool = False) -> pd.DataFrame:\n",
    "    print(f\"Checking for duplicates to enable pivoting to wide format\")\n",
    "\n",
    "    med_category_column_name = 'med_category'\n",
    "    # first drop exact-value, non-conflicting duplicates\n",
    "    meds_df.drop_duplicates(subset=['hospitalization_id', 'admin_dttm', med_category_column_name, 'med_dose'], inplace=True)\n",
    "    mask = meds_df.duplicated(subset=['hospitalization_id', 'admin_dttm', med_category_column_name], keep=False)\n",
    "    dups = meds_df[mask]\n",
    "    q = \"\"\"\n",
    "    SELECT *\n",
    "        , combo: STRING_AGG(mar_action_name, '; ' ORDER BY mar_action_name) OVER (PARTITION BY hospitalization_id, med_category, admin_dttm)\n",
    "    FROM dups\n",
    "    \"\"\"\n",
    "    dups_w_combo = duckdb.sql(q).df()\n",
    "    if not ignore_zero_dose:\n",
    "        print(f\"Found {len(dups_w_combo)} duplicate entries\")\n",
    "        return dups_w_combo.sort_values(by=['hospitalization_id', 'med_category', 'admin_dttm', 'mar_action_name'])\n",
    "    non_zero_dups = dups_w_combo.query('med_dose > 0')\n",
    "    mask = non_zero_dups.duplicated(subset=['hospitalization_id', 'admin_dttm', med_category_column_name], keep=False)\n",
    "    non_zero_dups = non_zero_dups[mask]\n",
    "    print(f\"Found {len(non_zero_dups)} non-zero-dose duplicate entries\")\n",
    "    return non_zero_dups.sort_values(by=['hospitalization_id', 'med_category', 'admin_dttm', 'mar_action_name'])\n",
    "    \n",
    "def generate_combo_counts(dups_df: pd.DataFrame) -> pd.DataFrame:\n",
    "    q = \"\"\"\n",
    "    SELECT \n",
    "        combo, COUNT(*) as count\n",
    "    FROM dups_df\n",
    "    GROUP BY combo\n",
    "    ORDER BY count DESC\n",
    "    \"\"\"\n",
    "    combo_counts = duckdb.sql(q).df()\n",
    "    \n",
    "    q = \"\"\"\n",
    "    SELECT *\n",
    "    FROM dups_df\n",
    "    WHERE combo in (\n",
    "        SELECT combo FROM combo_counts \n",
    "        WHERE contains(combo, 'Given; Rate Change') OR contains(combo, 'Given; New Bag')\n",
    "        --WHERE count > 100 AND NOT contains(combo, 'Canceled') AND NOT contains(combo, 'Verif')\n",
    "    )\n",
    "    \"\"\"\n",
    "    top_dups = duckdb.sql(q).df()\n",
    "    \n",
    "    return combo_counts, top_dups\n",
    "\n",
    "dups = find_mar_duplicates(mac.df, ignore_zero_dose = False)#.head(10)\n",
    "combo_counts, top_dups = generate_combo_counts(dups)"
   ]
  },
  {
   "cell_type": "code",
   "execution_count": null,
   "id": "facdec12",
   "metadata": {},
   "outputs": [],
   "source": []
  }
 ],
 "metadata": {
  "kernelspec": {
   "display_name": ".venv",
   "language": "python",
   "name": "python3"
  },
  "language_info": {
   "codemirror_mode": {
    "name": "ipython",
    "version": 3
   },
   "file_extension": ".py",
   "mimetype": "text/x-python",
   "name": "python",
   "nbconvert_exporter": "python",
   "pygments_lexer": "ipython3",
   "version": "3.10.4"
  }
 },
 "nbformat": 4,
 "nbformat_minor": 5
}
