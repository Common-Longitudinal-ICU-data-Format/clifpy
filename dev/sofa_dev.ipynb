{
 "cells": [
  {
   "cell_type": "markdown",
   "id": "57d6d1b1",
   "metadata": {},
   "source": [
    "# Init"
   ]
  },
  {
   "cell_type": "code",
   "execution_count": 1,
   "id": "715a7428",
   "metadata": {},
   "outputs": [
    {
     "data": {
      "text/plain": [
       "'/Users/wliao0504/code/clif/pyCLIF'"
      ]
     },
     "execution_count": 1,
     "metadata": {},
     "output_type": "execute_result"
    }
   ],
   "source": [
    "import os\n",
    "os.chdir('..')\n",
    "os.getcwd()"
   ]
  },
  {
   "cell_type": "markdown",
   "id": "0e5c937e",
   "metadata": {},
   "source": [
    "## Reload"
   ]
  },
  {
   "cell_type": "code",
   "execution_count": 2,
   "id": "6052907c",
   "metadata": {},
   "outputs": [
    {
     "data": {
      "text/plain": [
       "<module 'clifpy.utils.sofa' from '/Users/wliao0504/code/clif/pyCLIF/clifpy/utils/sofa.py'>"
      ]
     },
     "execution_count": 2,
     "metadata": {},
     "output_type": "execute_result"
    }
   ],
   "source": [
    "import pandas as pd\n",
    "from pathlib import Path\n",
    "import duckdb\n",
    "\n",
    "# Import individual table classes\n",
    "from clifpy.tables.vitals import Vitals\n",
    "from clifpy.tables.labs import Labs\n",
    "from clifpy.tables.medication_admin_continuous import MedicationAdminContinuous\n",
    "\n",
    "from importlib import reload\n",
    "\n",
    "import yaml\n",
    "\n",
    "with open('config/config.yaml', 'r') as file:\n",
    "    config = yaml.safe_load(file)\n",
    "    \n",
    "from clifpy.utils import sofa\n",
    "reload(sofa)"
   ]
  },
  {
   "cell_type": "markdown",
   "id": "2bbba2ef",
   "metadata": {},
   "source": [
    "# Archive"
   ]
  },
  {
   "cell_type": "code",
   "execution_count": 3,
   "id": "68aab568",
   "metadata": {},
   "outputs": [],
   "source": [
    "# # Initialize the tables\n",
    "# vitals = Vitals.from_file(\n",
    "#     data_directory=config['tables_path'],\n",
    "#     filetype='parquet', \n",
    "#     timezone='UTC'\n",
    "# )\n",
    "\n",
    "# vitals_df = vitals.df\n",
    "\n",
    "# # Initialize the tables\n",
    "# labs = Labs.from_file(\n",
    "#     data_directory=config['tables_path'],\n",
    "#     filetype='parquet', \n",
    "#     timezone='UTC'\n",
    "# )\n",
    "\n",
    "# labs_df = labs.df\n",
    "\n",
    "# # Initialize the tables\n",
    "# mac = MedicationAdminContinuous.from_file(\n",
    "#     data_directory=config['tables_path'],\n",
    "#     filetype='parquet', \n",
    "#     timezone='UTC'\n",
    "# )\n",
    "\n",
    "# mac_df = mac.df"
   ]
  },
  {
   "cell_type": "code",
   "execution_count": 4,
   "id": "0e8834a2",
   "metadata": {},
   "outputs": [],
   "source": [
    "# Mock DataFrame creation for ids_w_dttm\n",
    "cohort_df = pd.DataFrame({\n",
    "    'hospitalization_id': ['23559586', '20626031'],\n",
    "    'start_time': pd.to_datetime(['2132-12-15 14:29:00+00:00', '2132-12-14 21:00:00+00:00']),\n",
    "    'end_time': pd.to_datetime(['2137-08-25 14:00:00+00:00', '2137-09-02 09:00:00+00:00'])\n",
    "})"
   ]
  },
  {
   "cell_type": "markdown",
   "id": "b045379d",
   "metadata": {},
   "source": [
    "# Using Wide"
   ]
  },
  {
   "cell_type": "code",
   "execution_count": 5,
   "id": "a2d51881",
   "metadata": {},
   "outputs": [],
   "source": [
    "from clifpy.utils import create_wide_dataset\n",
    "from clifpy.clif_orchestrator import ClifOrchestrator"
   ]
  },
  {
   "cell_type": "code",
   "execution_count": 6,
   "id": "940fc0ad",
   "metadata": {},
   "outputs": [
    {
     "name": "stdout",
     "output_type": "stream",
     "text": [
      "Using directly provided parameters\n",
      "ClifOrchestrator initialized.\n",
      "Using directly provided parameters\n",
      "Loading clif_vitals.parquet\n",
      "Data loaded successfully from clif_vitals.parquet\n",
      "recorded_dttm: Already in your timezone (UTC), no conversion needed.\n",
      "Using directly provided parameters\n",
      "Loading clif_labs.parquet\n",
      "Data loaded successfully from clif_labs.parquet\n",
      "lab_order_dttm: Already in your timezone (UTC), no conversion needed.\n",
      "lab_collect_dttm: Already in your timezone (UTC), no conversion needed.\n",
      "lab_result_dttm: Already in your timezone (UTC), no conversion needed.\n",
      "Using directly provided parameters\n",
      "Loading clif_patient_assessments.parquet\n",
      "Data loaded successfully from clif_patient_assessments.parquet\n",
      "recorded_dttm: Already in your timezone (UTC), no conversion needed.\n",
      "Using directly provided parameters\n",
      "Loading clif_medication_admin_continuous.parquet\n",
      "Data loaded successfully from clif_medication_admin_continuous.parquet\n",
      "admin_dttm: Already in your timezone (UTC), no conversion needed.\n",
      "Using directly provided parameters\n",
      "Loading clif_respiratory_support.parquet\n",
      "Data loaded successfully from clif_respiratory_support.parquet\n",
      "recorded_dttm: Already in your timezone (UTC), no conversion needed.\n"
     ]
    },
    {
     "data": {
      "text/plain": [
       "<clifpy.tables.respiratory_support.RespiratorySupport at 0x117a1e260>"
      ]
     },
     "execution_count": 6,
     "metadata": {},
     "output_type": "execute_result"
    }
   ],
   "source": [
    "co = ClifOrchestrator(\n",
    "    data_directory='/Users/wliao0504/code/clif/pyCLIF/clifpy/data/clif_demo',\n",
    "    filetype='parquet',\n",
    "    timezone='UTC',\n",
    "    output_directory= None)\n",
    "\n",
    "co.load_table('vitals')\n",
    "co.load_table('labs')\n",
    "co.load_table('patient_assessments')\n",
    "co.load_table('medication_admin_continuous')\n",
    "co.load_table('respiratory_support')"
   ]
  },
  {
   "cell_type": "code",
   "execution_count": 7,
   "id": "22a9227b",
   "metadata": {},
   "outputs": [
    {
     "name": "stdout",
     "output_type": "stream",
     "text": [
      "Loading patient table...\n",
      "Using directly provided parameters\n",
      "Loading clif_patient.parquet\n",
      "Data loaded successfully from clif_patient.parquet\n",
      "death_dttm: Already in your timezone (UTC), no conversion needed.\n",
      "Loading hospitalization table...\n",
      "Using directly provided parameters\n",
      "Loading clif_hospitalization.parquet\n",
      "Data loaded successfully from clif_hospitalization.parquet\n",
      "admission_dttm: Already in your timezone (UTC), no conversion needed.\n",
      "discharge_dttm: Already in your timezone (UTC), no conversion needed.\n",
      "Loading adt table...\n",
      "Using directly provided parameters\n",
      "Loading clif_adt.parquet\n",
      "Data loaded successfully from clif_adt.parquet\n",
      "in_dttm: Already in your timezone (UTC), no conversion needed.\n",
      "out_dttm: Already in your timezone (UTC), no conversion needed.\n",
      "Starting wide dataset creation...\n",
      "Using cohort_df with time windows for 2 hospitalizations\n",
      "Using 2 hospitalization IDs from cohort_df\n",
      "\n",
      "Loading and filtering base tables...\n",
      "  ADT time filtering: 11 → 6 records\n",
      "Base tables filtered - Hospitalization: 2, Patient: 100, ADT: 6\n",
      "\n",
      "=== Processing Tables ===\n",
      "Base cohort created with 2 records\n",
      "\n",
      "Processing labs...\n",
      "Loaded 931 records from labs\n",
      "  Time filtering: 931 → 553 records\n",
      "Filtering labs categories to: ['creatinine', 'platelet_count', 'po2_arterial', 'bilirubin_total']\n",
      "Pivoted labs: 76 combo_ids with 4 category columns\n",
      "\n",
      "Processing vitals...\n",
      "Loaded 3437 records from vitals\n",
      "  Time filtering: 3437 → 1660 records\n",
      "Filtering vitals categories to: ['map', 'spo2', 'weight_kg']\n",
      "Pivoted vitals: 422 combo_ids with 3 category columns\n",
      "\n",
      "Processing patient_assessments...\n",
      "Loaded 1202 records from patient_assessments\n",
      "  Time filtering: 1202 → 616 records\n",
      "Filtering patient_assessments categories to: ['gcs_total']\n",
      "Pivoted patient_assessments: 58 combo_ids with 1 category columns\n",
      "\n",
      "Processing medication_admin_continuous...\n",
      "Loaded 256 records from medication_admin_continuous\n",
      "  Time filtering: 256 → 205 records\n",
      "Filtering medication_admin_continuous categories to: ['norepinephrine', 'epinephrine', 'phenylephrine', 'vasopressin', 'dopamine', 'angiotensin', 'dobutamine', 'milrinone']\n",
      "Pivoted medication_admin_continuous: 85 combo_ids with 3 category columns\n",
      "\n",
      "Processing respiratory_support...\n",
      "Filtered respiratory_support to 13 columns: ['hospitalization_id', 'recorded_dttm', 'device_category', 'device_name', 'mode_name', 'mode_category', 'peep_set', 'fio2_set', 'lpm_set', 'resp_rate_set', 'tracheostomy', 'resp_rate_obs', 'tidal_volume_set']\n",
      "Loaded 90 records from respiratory_support\n",
      "  Time filtering: 90 → 74 records\n",
      "\n",
      "=== Creating wide dataset ===\n",
      "Executing join query...\n",
      "Applying cohort time window filtering to final dataset...\n",
      "  Final time filtering: 765 → 765 records\n",
      "Added missing column: epinephrine\n",
      "Added missing column: dopamine\n",
      "Added missing column: angiotensin\n",
      "Added missing column: dobutamine\n",
      "Added missing column: milrinone\n",
      "Wide dataset created: 765 records with 39 columns\n"
     ]
    }
   ],
   "source": [
    "cohort_df = pd.DataFrame({\n",
    "    'hospitalization_id': ['23559586', '20626031'],\n",
    "    'start_time': pd.to_datetime(['2137-01-01 14:29:00+00:00', '2132-12-14 21:00:00+00:00']),\n",
    "    'end_time': pd.to_datetime(['2137-08-25 14:00:00+00:00', '2132-12-15 09:00:00+00:00'])\n",
    "})\n",
    "\n",
    "required_sofa_categories_by_table = {\n",
    "    'labs': ['creatinine','platelet_count','po2_arterial','bilirubin_total'],\n",
    "    'vitals': ['map','spo2', 'weight_kg'],\n",
    "    'patient_assessments': ['gcs_total'],\n",
    "    \"medication_admin_continuous\": [\n",
    "        \"norepinephrine\",\"epinephrine\",\"phenylephrine\",\"vasopressin\", \"dopamine\",\"angiotensin\",\n",
    "        \"dobutamine\",\"milrinone\"\n",
    "        ],\n",
    "    'respiratory_support': [\n",
    "        'device_category','device_name','mode_name','mode_category','peep_set','fio2_set','lpm_set',\n",
    "        'resp_rate_set','tracheostomy', 'resp_rate_obs','tidal_volume_set'\n",
    "    ] \n",
    "}\n",
    "\n",
    "wide_df = co.create_wide_dataset(\n",
    "    tables_to_load=[\n",
    "        'vitals', 'labs', 'patient_assessments', 'medication_admin_continuous', 'respiratory_support'\n",
    "        ],\n",
    "    category_filters=required_sofa_categories_by_table,\n",
    "    # sample=True,  # Use 20 random hospitalizations\n",
    "    cohort_df=cohort_df,\n",
    "    batch_size=-1\n",
    ")"
   ]
  },
  {
   "cell_type": "code",
   "execution_count": 8,
   "id": "8b8993d4",
   "metadata": {},
   "outputs": [],
   "source": [
    "device_rank_dict = {\n",
    "    'IMV': 1,\n",
    "    'NIPPV': 2,\n",
    "    'CPAP': 3,\n",
    "    'High Flow NC': 4,\n",
    "    'Face Mask': 5,\n",
    "    'Trach Collar': 6,\n",
    "    'Nasal Cannula': 7,\n",
    "    'Other': 8,\n",
    "    'Room Air': 9\n",
    "}\n",
    "\n",
    "# create a mappping df\n",
    "device_rank_mapping = pd.DataFrame({\n",
    "    'device_category': device_rank_dict.keys(),\n",
    "    'device_rank': device_rank_dict.values()\n",
    "})\n",
    "\n",
    "# q = \"\"\"\n",
    "# FROM wide_df\n",
    "# LEFT JOIN device_rank_mapping USING (device_category)\n",
    "# SELECT *\n",
    "#     , device_rank_min: MIN(device_rank)\n",
    "#     , fio2_max: MAX(fio2_set)\n",
    "# GROUP BY hospitalization_id\n",
    "# \"\"\"\n",
    "# device_ranked = duckdb.sql(q).df()"
   ]
  },
  {
   "cell_type": "code",
   "execution_count": 9,
   "id": "554460d2",
   "metadata": {},
   "outputs": [],
   "source": [
    "required_sofa_categories = [item for sublist in required_sofa_categories_by_table.values() for item in sublist] "
   ]
  },
  {
   "cell_type": "code",
   "execution_count": null,
   "id": "f56d2e23",
   "metadata": {},
   "outputs": [],
   "source": [
    "def generate_extremal_values_by_id(\n",
    "    wide_df: pd.DataFrame,\n",
    "    extremal_type: str # worst or latest\n",
    ") -> pd.DataFrame:\n",
    "    pass\n"
   ]
  },
  {
   "cell_type": "code",
   "execution_count": null,
   "id": "7bc05988",
   "metadata": {},
   "outputs": [],
   "source": [
    "q = f\"\"\"\n",
    "FROM wide_df\n",
    "LEFT JOIN device_rank_mapping USING (device_category)\n",
    "SELECT hospitalization_id\n",
    "    -- , MAX(COLUMNS({required_sofa_categories})) AS 'max_\\\\0'\n",
    "    , any_value(COLUMNS({required_sofa_categories}) ORDER BY event_time DESC) -- AS 'latest_\\\\0'\n",
    "    , device_rank_min: MIN(device_rank)\n",
    "GROUP BY hospitalization_id\n",
    "\"\"\"\n",
    "latest_by_id = duckdb.sql(q).df()"
   ]
  },
  {
   "cell_type": "code",
   "execution_count": 16,
   "id": "741fa99e",
   "metadata": {},
   "outputs": [],
   "source": [
    "max_items = required_sofa_categories_by_table['medication_admin_continuous'] \\\n",
    "    + ['fio2_set', 'creatinine', 'bilirubin_total']\n",
    "min_items = ['map', 'spo2', 'po2_arterial', 'platelet_count', 'gcs_total']"
   ]
  },
  {
   "cell_type": "code",
   "execution_count": 17,
   "id": "24b67956",
   "metadata": {},
   "outputs": [],
   "source": [
    "q = f\"\"\"\n",
    "FROM wide_df\n",
    "LEFT JOIN device_rank_mapping USING (device_category)\n",
    "SELECT hospitalization_id\n",
    "    , MAX(COLUMNS({max_items})) -- AS 'max_\\\\0'\n",
    "    , MIN(COLUMNS({min_items})) -- AS 'min_\\\\0'\n",
    "    , device_rank_min: MIN(device_rank)\n",
    "GROUP BY hospitalization_id\n",
    "\"\"\"\n",
    "worst_by_id = duckdb.sql(q).df()"
   ]
  },
  {
   "cell_type": "code",
   "execution_count": 19,
   "id": "d783a233",
   "metadata": {},
   "outputs": [],
   "source": [
    "extremals_by_id = 'worst_by_id'\n",
    "q = f\"\"\"\n",
    "FROM {extremals_by_id} df\n",
    "LEFT JOIN device_rank_mapping m on df.device_rank_min = m.device_rank\n",
    "SELECT hospitalization_id\n",
    "    , p_f: po2_arterial / fio2_set\n",
    "    , sofa_cv_97: CASE WHEN dopamine > 15 OR epinephrine > 0.1 OR norepinephrine > 0.1 THEN 4\n",
    "        WHEN dopamine > 5 OR epinephrine <= 0.1 OR norepinephrine <= 0.1 THEN 3\n",
    "        WHEN dopamine <= 5 OR dobutamine > 0 THEN 2\n",
    "        WHEN map < 70 THEN 1\n",
    "        WHEN map >= 70 THEN 0 END\n",
    "    , sofa_coag: CASE WHEN platelet_count < 20 THEN 4\n",
    "        WHEN platelet_count < 50 THEN 3\n",
    "        WHEN platelet_count < 100 THEN 2\n",
    "        WHEN platelet_count < 150 THEN 1\n",
    "        WHEN platelet_count >= 150 THEN 0 END \n",
    "    , sofa_liver: CASE WHEN bilirubin_total >= 12 THEN 4\n",
    "        WHEN bilirubin_total < 12 AND bilirubin_total >= 6 THEN 3\n",
    "        WHEN bilirubin_total < 6 AND bilirubin_total >= 2 THEN 2\n",
    "        WHEN bilirubin_total < 2 AND bilirubin_total >= 1.2 THEN 1\n",
    "        WHEN bilirubin_total < 1.2 THEN 0 END\n",
    "    , sofa_resp: CASE WHEN p_f < 100 AND m.device_category IN ('imv', 'nippv', 'cpap') THEN 4 \n",
    "        WHEN p_f >= 100 and p_f < 200 AND m.device_category IN ('imv', 'nippv', 'cpap') THEN 3\n",
    "        WHEN p_f >= 200 AND p_f < 300 THEN 2\n",
    "        WHEN p_f >= 300 AND p_f < 400 THEN 1\n",
    "        WHEN p_f >= 400 THEN 0 END\n",
    "    , sofa_cns: CASE WHEN gcs_total < 6 THEN 4\n",
    "        WHEN gcs_total >= 6 AND gcs_total <= 9 THEN 3\n",
    "        WHEN gcs_total >= 10 AND gcs_total <= 12 THEN 2\n",
    "        WHEN gcs_total >= 13 AND gcs_total <= 14 THEN 1\n",
    "        WHEN gcs_total == 15 THEN 0 END\n",
    "    , sofa_renal: CASE WHEN creatinine >= 5 THEN 4\n",
    "        WHEN creatinine < 5 AND creatinine >= 3.5 THEN 3\n",
    "        WHEN creatinine < 3.5 AND creatinine >= 2 THEN 2\n",
    "        WHEN creatinine < 2 AND creatinine >= 1.2 THEN 1\n",
    "        WHEN creatinine < 1.2 THEN 0 END\n",
    "    , sofa_total: sofa_cv_97 + sofa_coag + sofa_liver + sofa_resp + sofa_renal + sofa_cns\n",
    "\"\"\"\n",
    "df = duckdb.sql(q).df()"
   ]
  },
  {
   "cell_type": "code",
   "execution_count": null,
   "id": "2a0d9010",
   "metadata": {},
   "outputs": [],
   "source": []
  },
  {
   "cell_type": "code",
   "execution_count": null,
   "id": "67af00af",
   "metadata": {},
   "outputs": [],
   "source": []
  }
 ],
 "metadata": {
  "kernelspec": {
   "display_name": ".venv",
   "language": "python",
   "name": "python3"
  },
  "language_info": {
   "codemirror_mode": {
    "name": "ipython",
    "version": 3
   },
   "file_extension": ".py",
   "mimetype": "text/x-python",
   "name": "python",
   "nbconvert_exporter": "python",
   "pygments_lexer": "ipython3",
   "version": "3.10.4"
  }
 },
 "nbformat": 4,
 "nbformat_minor": 5
}
