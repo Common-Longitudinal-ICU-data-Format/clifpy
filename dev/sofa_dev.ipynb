{
 "cells": [
  {
   "cell_type": "markdown",
   "id": "57d6d1b1",
   "metadata": {},
   "source": [
    "# Init"
   ]
  },
  {
   "cell_type": "code",
   "execution_count": 9,
   "id": "715a7428",
   "metadata": {},
   "outputs": [
    {
     "data": {
      "text/plain": [
       "'/Users/wliao0504/code/clif/pyCLIF'"
      ]
     },
     "execution_count": 9,
     "metadata": {},
     "output_type": "execute_result"
    }
   ],
   "source": [
    "import os\n",
    "os.chdir('..')\n",
    "os.getcwd()"
   ]
  },
  {
   "cell_type": "markdown",
   "id": "0e5c937e",
   "metadata": {},
   "source": [
    "## Reload"
   ]
  },
  {
   "cell_type": "code",
   "execution_count": 10,
   "id": "6052907c",
   "metadata": {},
   "outputs": [
    {
     "data": {
      "text/plain": [
       "<module 'clifpy.utils.sofa' from '/Users/wliao0504/code/clif/pyCLIF/clifpy/utils/sofa.py'>"
      ]
     },
     "execution_count": 10,
     "metadata": {},
     "output_type": "execute_result"
    }
   ],
   "source": [
    "import pandas as pd\n",
    "from pathlib import Path\n",
    "import duckdb\n",
    "\n",
    "# Import individual table classes\n",
    "from clifpy.tables.vitals import Vitals\n",
    "from clifpy.tables.labs import Labs\n",
    "from clifpy.tables.medication_admin_continuous import MedicationAdminContinuous\n",
    "\n",
    "from importlib import reload\n",
    "\n",
    "import yaml\n",
    "\n",
    "with open('config/config.yaml', 'r') as file:\n",
    "    config = yaml.safe_load(file)\n",
    "    \n",
    "from clifpy.utils import sofa\n",
    "reload(sofa)"
   ]
  },
  {
   "cell_type": "code",
   "execution_count": null,
   "id": "68aab568",
   "metadata": {},
   "outputs": [
    {
     "name": "stdout",
     "output_type": "stream",
     "text": [
      "Loading clif_vitals.parquet\n",
      "Data loaded successfully from clif_vitals.parquet\n",
      "recorded_dttm: null count before conversion= 0\n",
      "recorded_dttm: Your timezone is UTC, Converting to your site timezone (UTC).\n",
      "recorded_dttm: null count after conversion= 0\n",
      "Validation completed with 1 error(s). See `errors` attribute.\n",
      "Loading clif_labs.parquet\n",
      "Data loaded successfully from clif_labs.parquet\n",
      "lab_order_dttm: null count before conversion= 43419\n",
      "lab_order_dttm: Your timezone is UTC, Converting to your site timezone (UTC).\n",
      "lab_order_dttm: null count after conversion= 43419\n",
      "lab_collect_dttm: null count before conversion= 0\n",
      "lab_collect_dttm: Your timezone is UTC, Converting to your site timezone (UTC).\n",
      "lab_collect_dttm: null count after conversion= 0\n",
      "lab_result_dttm: null count before conversion= 0\n",
      "lab_result_dttm: Your timezone is UTC, Converting to your site timezone (UTC).\n",
      "lab_result_dttm: null count after conversion= 0\n",
      "Validation completed with 24 error(s). See `errors` attribute.\n",
      "Loading clif_medication_admin_continuous.parquet\n",
      "Data loaded successfully from clif_medication_admin_continuous.parquet\n",
      "admin_dttm: null count before conversion= 0\n",
      "admin_dttm: Your timezone is UTC, Converting to your site timezone (UTC).\n",
      "admin_dttm: null count after conversion= 0\n",
      "Validation completed with 4 error(s). See `errors` attribute.\n"
     ]
    }
   ],
   "source": [
    "# Initialize the tables\n",
    "vitals = Vitals.from_file(\n",
    "    data_directory=config['tables_path'],\n",
    "    filetype='parquet', \n",
    "    timezone='UTC'\n",
    ")\n",
    "\n",
    "vitals_df = vitals.df\n",
    "\n",
    "# Initialize the tables\n",
    "labs = Labs.from_file(\n",
    "    data_directory=config['tables_path'],\n",
    "    filetype='parquet', \n",
    "    timezone='UTC'\n",
    ")\n",
    "\n",
    "labs_df = labs.df\n",
    "\n",
    "# Initialize the tables\n",
    "mac = MedicationAdminContinuous.from_file(\n",
    "    data_directory=config['tables_path'],\n",
    "    filetype='parquet', \n",
    "    timezone='UTC'\n",
    ")\n",
    "\n",
    "mac_df = mac.df"
   ]
  },
  {
   "cell_type": "code",
   "execution_count": null,
   "id": "0e8834a2",
   "metadata": {},
   "outputs": [],
   "source": [
    "# Mock DataFrame creation for ids_w_dttm\n",
    "cohort_df = pd.DataFrame({\n",
    "    'hospitalization_id': ['23559586', '20626031'],\n",
    "    'start_time': pd.to_datetime(['2132-12-15 14:29:00+00:00', '2132-12-14 21:00:00+00:00']),\n",
    "    'end_time': pd.to_datetime(['2137-08-25 14:00:00+00:00', '2137-09-02 09:00:00+00:00'])\n",
    "})"
   ]
  },
  {
   "cell_type": "code",
   "execution_count": null,
   "id": "ccfde9a5",
   "metadata": {},
   "outputs": [],
   "source": [
    "query_dict = {'weight_kg': ['latest', 'max'], 'spo2': ['max', 'min']}\n",
    "\n",
    "# pivoted = sofa.lookup_extremal_vital_values(ids_w_dttm, query_dict, vitals_df, )"
   ]
  },
  {
   "cell_type": "markdown",
   "id": "58bd6825",
   "metadata": {},
   "source": [
    "### Generic"
   ]
  },
  {
   "cell_type": "code",
   "execution_count": null,
   "id": "cfb826e4",
   "metadata": {},
   "outputs": [
    {
     "data": {
      "text/html": [
       "<div>\n",
       "<style scoped>\n",
       "    .dataframe tbody tr th:only-of-type {\n",
       "        vertical-align: middle;\n",
       "    }\n",
       "\n",
       "    .dataframe tbody tr th {\n",
       "        vertical-align: top;\n",
       "    }\n",
       "\n",
       "    .dataframe thead th {\n",
       "        text-align: right;\n",
       "    }\n",
       "</style>\n",
       "<table border=\"1\" class=\"dataframe\">\n",
       "  <thead>\n",
       "    <tr style=\"text-align: right;\">\n",
       "      <th></th>\n",
       "      <th>hospitalization_id</th>\n",
       "      <th>start_dttm</th>\n",
       "      <th>end_dttm</th>\n",
       "      <th>spo2_max</th>\n",
       "      <th>spo2_min</th>\n",
       "      <th>weight_kg_latest</th>\n",
       "      <th>weight_kg_max</th>\n",
       "    </tr>\n",
       "  </thead>\n",
       "  <tbody>\n",
       "    <tr>\n",
       "      <th>0</th>\n",
       "      <td>20626031</td>\n",
       "      <td>2132-12-14 15:00:00-06:00</td>\n",
       "      <td>2137-09-02 03:00:00-06:00</td>\n",
       "      <td>100.0</td>\n",
       "      <td>91.0</td>\n",
       "      <td>95.1</td>\n",
       "      <td>95.1</td>\n",
       "    </tr>\n",
       "    <tr>\n",
       "      <th>1</th>\n",
       "      <td>23559586</td>\n",
       "      <td>2132-12-15 08:29:00-06:00</td>\n",
       "      <td>2137-08-25 08:00:00-06:00</td>\n",
       "      <td>100.0</td>\n",
       "      <td>87.0</td>\n",
       "      <td>123.6</td>\n",
       "      <td>124.5</td>\n",
       "    </tr>\n",
       "  </tbody>\n",
       "</table>\n",
       "</div>"
      ],
      "text/plain": [
       "  hospitalization_id                start_dttm                  end_dttm  \\\n",
       "0           20626031 2132-12-14 15:00:00-06:00 2137-09-02 03:00:00-06:00   \n",
       "1           23559586 2132-12-15 08:29:00-06:00 2137-08-25 08:00:00-06:00   \n",
       "\n",
       "   spo2_max  spo2_min  weight_kg_latest  weight_kg_max  \n",
       "0     100.0      91.0              95.1           95.1  \n",
       "1     100.0      87.0             123.6          124.5  "
      ]
     },
     "execution_count": 6,
     "metadata": {},
     "output_type": "execute_result"
    }
   ],
   "source": [
    "df = sofa.lookup_extremal_values_in_long_table(cohort_df, query_dict, vitals_df, \"vitals\")\n",
    "\n",
    "df"
   ]
  },
  {
   "cell_type": "code",
   "execution_count": null,
   "id": "8d5bd26c",
   "metadata": {},
   "outputs": [
    {
     "data": {
      "text/html": [
       "<div>\n",
       "<style scoped>\n",
       "    .dataframe tbody tr th:only-of-type {\n",
       "        vertical-align: middle;\n",
       "    }\n",
       "\n",
       "    .dataframe tbody tr th {\n",
       "        vertical-align: top;\n",
       "    }\n",
       "\n",
       "    .dataframe thead th {\n",
       "        text-align: right;\n",
       "    }\n",
       "</style>\n",
       "<table border=\"1\" class=\"dataframe\">\n",
       "  <thead>\n",
       "    <tr style=\"text-align: right;\">\n",
       "      <th></th>\n",
       "      <th>hospitalization_id</th>\n",
       "      <th>start_dttm</th>\n",
       "      <th>end_dttm</th>\n",
       "      <th>fentanyl_latest</th>\n",
       "      <th>fentanyl_min</th>\n",
       "      <th>propofol_latest</th>\n",
       "      <th>propofol_max</th>\n",
       "      <th>propofol_min</th>\n",
       "    </tr>\n",
       "  </thead>\n",
       "  <tbody>\n",
       "    <tr>\n",
       "      <th>0</th>\n",
       "      <td>20626031</td>\n",
       "      <td>2132-12-14 15:00:00-06:00</td>\n",
       "      <td>2137-09-02 03:00:00-06:00</td>\n",
       "      <td>NaN</td>\n",
       "      <td>NaN</td>\n",
       "      <td>0.0</td>\n",
       "      <td>50.229695</td>\n",
       "      <td>0.0</td>\n",
       "    </tr>\n",
       "    <tr>\n",
       "      <th>1</th>\n",
       "      <td>23559586</td>\n",
       "      <td>2132-12-15 08:29:00-06:00</td>\n",
       "      <td>2137-08-25 08:00:00-06:00</td>\n",
       "      <td>0.0</td>\n",
       "      <td>0.0</td>\n",
       "      <td>0.0</td>\n",
       "      <td>30.026425</td>\n",
       "      <td>0.0</td>\n",
       "    </tr>\n",
       "  </tbody>\n",
       "</table>\n",
       "</div>"
      ],
      "text/plain": [
       "  hospitalization_id                start_dttm                  end_dttm  \\\n",
       "0           20626031 2132-12-14 15:00:00-06:00 2137-09-02 03:00:00-06:00   \n",
       "1           23559586 2132-12-15 08:29:00-06:00 2137-08-25 08:00:00-06:00   \n",
       "\n",
       "   fentanyl_latest  fentanyl_min  propofol_latest  propofol_max  propofol_min  \n",
       "0              NaN           NaN              0.0     50.229695           0.0  \n",
       "1              0.0           0.0              0.0     30.026425           0.0  "
      ]
     },
     "execution_count": 7,
     "metadata": {},
     "output_type": "execute_result"
    }
   ],
   "source": [
    "query_dict = {\"propofol\": [\"latest\", \"max\"], \"fentanyl\": [\"latest\", \"min\"]}\n",
    "\n",
    "sofa.lookup_extremal_values_in_long_table(cohort_df, query_dict, \"medication_admin_continuous\")"
   ]
  },
  {
   "cell_type": "code",
   "execution_count": null,
   "id": "c807a1bc",
   "metadata": {},
   "outputs": [
    {
     "data": {
      "text/html": [
       "<div>\n",
       "<style scoped>\n",
       "    .dataframe tbody tr th:only-of-type {\n",
       "        vertical-align: middle;\n",
       "    }\n",
       "\n",
       "    .dataframe tbody tr th {\n",
       "        vertical-align: top;\n",
       "    }\n",
       "\n",
       "    .dataframe thead th {\n",
       "        text-align: right;\n",
       "    }\n",
       "</style>\n",
       "<table border=\"1\" class=\"dataframe\">\n",
       "  <thead>\n",
       "    <tr style=\"text-align: right;\">\n",
       "      <th></th>\n",
       "      <th>hospitalization_id</th>\n",
       "      <th>start_dttm</th>\n",
       "      <th>end_dttm</th>\n",
       "      <th>bicarbonate_latest</th>\n",
       "      <th>bicarbonate_min</th>\n",
       "      <th>hemoglobin_latest</th>\n",
       "      <th>hemoglobin_max</th>\n",
       "      <th>platelet_count_latest</th>\n",
       "      <th>platelet_count_max</th>\n",
       "      <th>platelet_count_min</th>\n",
       "    </tr>\n",
       "  </thead>\n",
       "  <tbody>\n",
       "    <tr>\n",
       "      <th>0</th>\n",
       "      <td>20626031</td>\n",
       "      <td>2132-12-14 15:00:00-06:00</td>\n",
       "      <td>2137-09-02 03:00:00-06:00</td>\n",
       "      <td>27.0</td>\n",
       "      <td>22.0</td>\n",
       "      <td>7.9</td>\n",
       "      <td>9.8</td>\n",
       "      <td>NaN</td>\n",
       "      <td>375.0</td>\n",
       "      <td>192.0</td>\n",
       "    </tr>\n",
       "    <tr>\n",
       "      <th>1</th>\n",
       "      <td>23559586</td>\n",
       "      <td>2132-12-15 08:29:00-06:00</td>\n",
       "      <td>2137-08-25 08:00:00-06:00</td>\n",
       "      <td>21.0</td>\n",
       "      <td>18.0</td>\n",
       "      <td>7.4</td>\n",
       "      <td>9.3</td>\n",
       "      <td>61.0</td>\n",
       "      <td>115.0</td>\n",
       "      <td>61.0</td>\n",
       "    </tr>\n",
       "  </tbody>\n",
       "</table>\n",
       "</div>"
      ],
      "text/plain": [
       "  hospitalization_id                start_dttm                  end_dttm  \\\n",
       "0           20626031 2132-12-14 15:00:00-06:00 2137-09-02 03:00:00-06:00   \n",
       "1           23559586 2132-12-15 08:29:00-06:00 2137-08-25 08:00:00-06:00   \n",
       "\n",
       "   bicarbonate_latest  bicarbonate_min  hemoglobin_latest  hemoglobin_max  \\\n",
       "0                27.0             22.0                7.9             9.8   \n",
       "1                21.0             18.0                7.4             9.3   \n",
       "\n",
       "   platelet_count_latest  platelet_count_max  platelet_count_min  \n",
       "0                    NaN               375.0               192.0  \n",
       "1                   61.0               115.0                61.0  "
      ]
     },
     "execution_count": 8,
     "metadata": {},
     "output_type": "execute_result"
    }
   ],
   "source": [
    "query_dict = {\n",
    "    'hemoglobin': ['latest', 'max'], \n",
    "    'platelet_count': ['max', 'min'],\n",
    "    'bicarbonate': ['latest', 'min']\n",
    "    }\n",
    "\n",
    "sofa.lookup_extremal_values_in_long_table(cohort_df, query_dict, labs_df, \"labs\")"
   ]
  },
  {
   "cell_type": "markdown",
   "id": "bac77665",
   "metadata": {},
   "source": [
    "## New"
   ]
  },
  {
   "cell_type": "code",
   "execution_count": 9,
   "id": "efa9ff4e",
   "metadata": {},
   "outputs": [
    {
     "ename": "NameError",
     "evalue": "name 'qualified' is not defined",
     "output_type": "error",
     "traceback": [
      "\u001b[0;31m---------------------------------------------------------------------------\u001b[0m",
      "\u001b[0;31mNameError\u001b[0m                                 Traceback (most recent call last)",
      "Cell \u001b[0;32mIn[9], line 1\u001b[0m\n\u001b[0;32m----> 1\u001b[0m melted \u001b[38;5;241m=\u001b[39m \u001b[43mqualified\u001b[49m\u001b[38;5;241m.\u001b[39mmelt(\n\u001b[1;32m      2\u001b[0m     id_vars\u001b[38;5;241m=\u001b[39m[\u001b[38;5;124m'\u001b[39m\u001b[38;5;124mhospitalization_id\u001b[39m\u001b[38;5;124m'\u001b[39m, \u001b[38;5;124m'\u001b[39m\u001b[38;5;124mstart_dttm\u001b[39m\u001b[38;5;124m'\u001b[39m, \u001b[38;5;124m'\u001b[39m\u001b[38;5;124mend_dttm\u001b[39m\u001b[38;5;124m'\u001b[39m, \u001b[38;5;124m'\u001b[39m\u001b[38;5;124mvital_category\u001b[39m\u001b[38;5;124m'\u001b[39m, \u001b[38;5;124m'\u001b[39m\u001b[38;5;124mvital_value\u001b[39m\u001b[38;5;124m'\u001b[39m],\n\u001b[1;32m      3\u001b[0m     value_vars\u001b[38;5;241m=\u001b[39m[\u001b[38;5;124m'\u001b[39m\u001b[38;5;124mrn_max\u001b[39m\u001b[38;5;124m'\u001b[39m, \u001b[38;5;124m'\u001b[39m\u001b[38;5;124mrn_latest\u001b[39m\u001b[38;5;124m'\u001b[39m, \u001b[38;5;124m'\u001b[39m\u001b[38;5;124mrn_min\u001b[39m\u001b[38;5;124m'\u001b[39m],\n\u001b[1;32m      4\u001b[0m     var_name\u001b[38;5;241m=\u001b[39m\u001b[38;5;124m'\u001b[39m\u001b[38;5;124mextreme\u001b[39m\u001b[38;5;124m'\u001b[39m,\n\u001b[1;32m      5\u001b[0m     value_name\u001b[38;5;241m=\u001b[39m\u001b[38;5;124m'\u001b[39m\u001b[38;5;124mrn\u001b[39m\u001b[38;5;124m'\u001b[39m\n\u001b[1;32m      6\u001b[0m )\u001b[38;5;241m.\u001b[39mquery(\u001b[38;5;124m'\u001b[39m\u001b[38;5;124mrn == 1\u001b[39m\u001b[38;5;124m'\u001b[39m)\u001b[38;5;241m.\u001b[39mdrop(columns\u001b[38;5;241m=\u001b[39m[\u001b[38;5;124m'\u001b[39m\u001b[38;5;124mrn\u001b[39m\u001b[38;5;124m'\u001b[39m])\n",
      "\u001b[0;31mNameError\u001b[0m: name 'qualified' is not defined"
     ]
    }
   ],
   "source": [
    "melted = qualified.melt(\n",
    "    id_vars=['hospitalization_id', 'start_dttm', 'end_dttm', 'vital_category', 'vital_value'],\n",
    "    value_vars=['rn_max', 'rn_latest', 'rn_min'],\n",
    "    var_name='extreme',\n",
    "    value_name='rn'\n",
    ").query('rn == 1').drop(columns=['rn'])"
   ]
  },
  {
   "cell_type": "code",
   "execution_count": null,
   "id": "6fa7657c",
   "metadata": {},
   "outputs": [],
   "source": [
    "# Create column names like 'spo2_max', 'weight_kg_latest'\n",
    "melted['column_name'] = melted['vital_category'] + '_' + melted['extreme'].str.replace('rn_', '')\n",
    "\n",
    "# Pivot to get the desired column structure\n",
    "pivoted = melted.pivot_table(\n",
    "    index=['hospitalization_id', 'start_dttm', 'end_dttm'],\n",
    "    columns='column_name',\n",
    "    values='vital_value'\n",
    ").reset_index()"
   ]
  },
  {
   "cell_type": "code",
   "execution_count": null,
   "id": "7ad45f14",
   "metadata": {},
   "outputs": [
    {
     "data": {
      "text/html": [
       "<div>\n",
       "<style scoped>\n",
       "    .dataframe tbody tr th:only-of-type {\n",
       "        vertical-align: middle;\n",
       "    }\n",
       "\n",
       "    .dataframe tbody tr th {\n",
       "        vertical-align: top;\n",
       "    }\n",
       "\n",
       "    .dataframe thead th {\n",
       "        text-align: right;\n",
       "    }\n",
       "</style>\n",
       "<table border=\"1\" class=\"dataframe\">\n",
       "  <thead>\n",
       "    <tr style=\"text-align: right;\">\n",
       "      <th></th>\n",
       "      <th>hospitalization_id</th>\n",
       "      <th>start_dttm</th>\n",
       "      <th>end_dttm</th>\n",
       "      <th>spo2_max</th>\n",
       "      <th>spo2_min</th>\n",
       "      <th>weight_kg_latest</th>\n",
       "      <th>weight_kg_max</th>\n",
       "    </tr>\n",
       "  </thead>\n",
       "  <tbody>\n",
       "    <tr>\n",
       "      <th>0</th>\n",
       "      <td>20626031</td>\n",
       "      <td>2132-12-14 15:00:00-06:00</td>\n",
       "      <td>2137-09-02 03:00:00-06:00</td>\n",
       "      <td>100.0</td>\n",
       "      <td>91.0</td>\n",
       "      <td>95.1</td>\n",
       "      <td>95.1</td>\n",
       "    </tr>\n",
       "    <tr>\n",
       "      <th>1</th>\n",
       "      <td>23559586</td>\n",
       "      <td>2132-12-15 08:29:00-06:00</td>\n",
       "      <td>2137-08-25 08:00:00-06:00</td>\n",
       "      <td>100.0</td>\n",
       "      <td>87.0</td>\n",
       "      <td>123.6</td>\n",
       "      <td>124.5</td>\n",
       "    </tr>\n",
       "  </tbody>\n",
       "</table>\n",
       "</div>"
      ],
      "text/plain": [
       "  hospitalization_id                start_dttm                  end_dttm  \\\n",
       "0           20626031 2132-12-14 15:00:00-06:00 2137-09-02 03:00:00-06:00   \n",
       "1           23559586 2132-12-15 08:29:00-06:00 2137-08-25 08:00:00-06:00   \n",
       "\n",
       "   spo2_max  spo2_min  weight_kg_latest  weight_kg_max  \n",
       "0     100.0      91.0              95.1           95.1  \n",
       "1     100.0      87.0             123.6          124.5  "
      ]
     },
     "execution_count": 7,
     "metadata": {},
     "output_type": "execute_result"
    }
   ],
   "source": [
    "pivoted"
   ]
  },
  {
   "cell_type": "code",
   "execution_count": null,
   "id": "6d852f40",
   "metadata": {},
   "outputs": [],
   "source": []
  },
  {
   "cell_type": "markdown",
   "id": "b045379d",
   "metadata": {},
   "source": [
    "# Using Wide"
   ]
  },
  {
   "cell_type": "code",
   "execution_count": 11,
   "id": "a2d51881",
   "metadata": {},
   "outputs": [],
   "source": [
    "from clifpy.utils import create_wide_dataset\n",
    "from clifpy.clif_orchestrator import ClifOrchestrator"
   ]
  },
  {
   "cell_type": "code",
   "execution_count": 24,
   "id": "940fc0ad",
   "metadata": {},
   "outputs": [
    {
     "name": "stdout",
     "output_type": "stream",
     "text": [
      "ClifOrchestrator initialized.\n",
      "Loading clif_vitals.parquet\n",
      "Data loaded successfully from clif_vitals.parquet\n",
      "recorded_dttm: Already in your timezone (UTC), no conversion needed.\n",
      "Loading clif_labs.parquet\n",
      "Data loaded successfully from clif_labs.parquet\n",
      "lab_order_dttm: Already in your timezone (UTC), no conversion needed.\n",
      "lab_collect_dttm: Already in your timezone (UTC), no conversion needed.\n",
      "lab_result_dttm: Already in your timezone (UTC), no conversion needed.\n",
      "Loading clif_patient_assessments.parquet\n",
      "Data loaded successfully from clif_patient_assessments.parquet\n",
      "recorded_dttm: Already in your timezone (UTC), no conversion needed.\n",
      "Loading clif_medication_admin_continuous.parquet\n",
      "Data loaded successfully from clif_medication_admin_continuous.parquet\n",
      "admin_dttm: Already in your timezone (UTC), no conversion needed.\n",
      "Loading clif_respiratory_support.parquet\n",
      "Data loaded successfully from clif_respiratory_support.parquet\n",
      "recorded_dttm: Already in your timezone (UTC), no conversion needed.\n"
     ]
    },
    {
     "data": {
      "text/plain": [
       "<clifpy.tables.respiratory_support.RespiratorySupport at 0x11f3aeef0>"
      ]
     },
     "execution_count": 24,
     "metadata": {},
     "output_type": "execute_result"
    }
   ],
   "source": [
    "co = ClifOrchestrator(\n",
    "    data_directory='/Users/wliao0504/code/clif/pyCLIF/clifpy/data/clif_demo',\n",
    "    filetype='parquet',\n",
    "    timezone='UTC',\n",
    "    output_directory= None\n",
    ")\n",
    "\n",
    "co.load_table('vitals')\n",
    "co.load_table('labs')\n",
    "co.load_table('patient_assessments')\n",
    "co.load_table('medication_admin_continuous')\n",
    "co.load_table('respiratory_support')"
   ]
  },
  {
   "cell_type": "code",
   "execution_count": 25,
   "id": "22a9227b",
   "metadata": {},
   "outputs": [
    {
     "name": "stdout",
     "output_type": "stream",
     "text": [
      "Loading patient table...\n",
      "Loading clif_patient.parquet\n",
      "Data loaded successfully from clif_patient.parquet\n",
      "death_dttm: Already in your timezone (UTC), no conversion needed.\n",
      "Loading hospitalization table...\n",
      "Loading clif_hospitalization.parquet\n",
      "Data loaded successfully from clif_hospitalization.parquet\n",
      "admission_dttm: Already in your timezone (UTC), no conversion needed.\n",
      "discharge_dttm: Already in your timezone (UTC), no conversion needed.\n",
      "Loading adt table...\n",
      "Loading clif_adt.parquet\n",
      "Data loaded successfully from clif_adt.parquet\n",
      "in_dttm: Already in your timezone (UTC), no conversion needed.\n",
      "out_dttm: Already in your timezone (UTC), no conversion needed.\n",
      "Starting wide dataset creation...\n",
      "Using cohort_df with time windows for 2 hospitalizations\n",
      "Using 2 hospitalization IDs from cohort_df\n",
      "\n",
      "Loading and filtering base tables...\n",
      "Base tables filtered - Hospitalization: 2, Patient: 100, ADT: 11\n",
      "\n",
      "=== Processing Tables ===\n",
      "Base cohort created with 2 records\n",
      "\n",
      "Processing labs...\n",
      "Loaded 931 records from labs\n",
      "  Time filtering: 931 → 553 records\n",
      "Filtering labs categories to: ['creatinine', 'platelet_count', 'po2_arterial', 'bilirubin_total']\n",
      "Pivoted labs: 76 combo_ids with 4 category columns\n",
      "\n",
      "Processing vitals...\n",
      "Loaded 3437 records from vitals\n",
      "  Time filtering: 3437 → 1660 records\n",
      "Filtering vitals categories to: ['map', 'spo2', 'weight_kg']\n",
      "Pivoted vitals: 422 combo_ids with 3 category columns\n",
      "\n",
      "Processing patient_assessments...\n",
      "Loaded 1202 records from patient_assessments\n",
      "  Time filtering: 1202 → 616 records\n",
      "Filtering patient_assessments categories to: ['gcs_total']\n",
      "Pivoted patient_assessments: 58 combo_ids with 1 category columns\n",
      "\n",
      "Processing medication_admin_continuous...\n",
      "Loaded 256 records from medication_admin_continuous\n",
      "  Time filtering: 256 → 205 records\n",
      "Filtering medication_admin_continuous categories to: ['norepinephrine', 'epinephrine', 'phenylephrine', 'vasopressin', 'dopamine', 'angiotensin', 'dobutamine', 'milrinone']\n",
      "Pivoted medication_admin_continuous: 85 combo_ids with 3 category columns\n",
      "\n",
      "Processing respiratory_support...\n",
      "Filtered respiratory_support to 13 columns: ['hospitalization_id', 'recorded_dttm', 'device_category', 'device_name', 'mode_name', 'mode_category', 'peep_set', 'fio2_set', 'lpm_set', 'resp_rate_set', 'tracheostomy', 'resp_rate_obs', 'tidal_volume_set']\n",
      "Loaded 90 records from respiratory_support\n",
      "  Time filtering: 90 → 74 records\n",
      "\n",
      "=== Creating wide dataset ===\n",
      "Executing join query...\n",
      "Added missing column: epinephrine\n",
      "Added missing column: dopamine\n",
      "Added missing column: angiotensin\n",
      "Added missing column: dobutamine\n",
      "Added missing column: milrinone\n",
      "Wide dataset created: 770 records with 39 columns\n"
     ]
    }
   ],
   "source": [
    "cohort_df = pd.DataFrame({\n",
    "    'hospitalization_id': ['23559586', '20626031'],\n",
    "    'start_time': pd.to_datetime(['2137-01-01 14:29:00+00:00', '2132-12-14 21:00:00+00:00']),\n",
    "    'end_time': pd.to_datetime(['2137-08-25 14:00:00+00:00', '2132-12-15 09:00:00+00:00'])\n",
    "})\n",
    "\n",
    "required_sofa_categories_by_table = {\n",
    "    'labs': ['creatinine','platelet_count','po2_arterial','bilirubin_total'],\n",
    "    'vitals': ['map','spo2', 'weight_kg'],\n",
    "    'patient_assessments': ['gcs_total'],\n",
    "    \"medication_admin_continuous\": [\n",
    "        \"norepinephrine\",\"epinephrine\",\"phenylephrine\",\"vasopressin\", \"dopamine\",\"angiotensin\",\n",
    "        \"dobutamine\",\"milrinone\"\n",
    "        ],\n",
    "    'respiratory_support': [\n",
    "        'device_category','device_name','mode_name','mode_category','peep_set','fio2_set','lpm_set',\n",
    "        'resp_rate_set','tracheostomy', 'resp_rate_obs','tidal_volume_set'\n",
    "    ] \n",
    "}\n",
    "\n",
    "wide_df = co.create_wide_dataset(\n",
    "    tables_to_load=['vitals', 'labs', 'patient_assessments', 'medication_admin_continuous'],\n",
    "    category_filters=required_sofa_categories_by_table,\n",
    "    # sample=True,  # Use 20 random hospitalizations\n",
    "    cohort_df=cohort_df,\n",
    "    batch_size=-1\n",
    ")"
   ]
  },
  {
   "cell_type": "code",
   "execution_count": 27,
   "id": "554460d2",
   "metadata": {},
   "outputs": [],
   "source": [
    "required_sofa_categories = [item for sublist in required_sofa_categories_by_table.values() for item in sublist]"
   ]
  },
  {
   "cell_type": "code",
   "execution_count": 28,
   "id": "7bc05988",
   "metadata": {},
   "outputs": [],
   "source": [
    "q = f\"\"\"\n",
    "FROM wide_df\n",
    "SELECT hospitalization_id\n",
    "    -- , MAX(COLUMNS({required_sofa_categories})) AS 'max_\\\\0'\n",
    "    , any_value(COLUMNS({required_sofa_categories}) ORDER BY event_time DESC) -- AS 'latest_\\\\0'\n",
    "GROUP BY hospitalization_id\n",
    "\"\"\"\n",
    "extremals_by_id = duckdb.sql(q).df()"
   ]
  },
  {
   "cell_type": "code",
   "execution_count": null,
   "id": "d783a233",
   "metadata": {},
   "outputs": [],
   "source": [
    "q = f\"\"\"\n",
    "FROM extremals_by_id\n",
    "SELECT hospitalization_id\n",
    "    , sofa_cv_97: CASE WHEN dopamine > 15 OR epinephrine > 0.1 OR norepinephrine > 0.1 THEN 4\n",
    "        WHEN dopamine > 5 OR epinephrine <= 0.1 OR norepinephrine <= 0.1 THEN 3\n",
    "        WHEN dopamine <= 5 OR dobutamine > 0 THEN 2\n",
    "        WHEN map < 70 THEN 1\n",
    "        WHEN map >= 70 THEN 0 END\n",
    "    , sofa_coag: CASE WHEN platelet_count < 20 THEN 4\n",
    "        WHEN platelet_count < 50 THEN 3\n",
    "        WHEN platelet_count < 100 THEN 2\n",
    "        WHEN platelet_count < 150 THEN 1\n",
    "        WHEN platelet_count >= 150 THEN 0 END \n",
    "    , sofa_liver: CASE WHEN bilirubin_total >= 12 THEN 4\n",
    "        WHEN bilirubin_total < 12 AND bilirubin_total >= 6 THEN 3\n",
    "        WHEN bilirubin_total < 6 AND bilirubin_total >= 2 THEN 2\n",
    "        WHEN bilirubin_total < 2 AND bilirubin_total >= 1.2 THEN 1\n",
    "        WHEN bilirubin_total < 1.2 THEN 0 END\n",
    "    , sofa_cns: CASE WHEN gcs_total < 6 THEN 4\n",
    "        WHEN gcs_total >= 6 AND gcs_total <= 9 THEN 3\n",
    "        WHEN gcs_total >= 10 AND gcs_total <= 12 THEN 2\n",
    "        WHEN gcs_total >= 13 AND gcs_total <= 14 THEN 1\n",
    "        WHEN gcs_total == 15 THEN 0 END\n",
    "    , sofa_renal: CASE WHEN creatinine >= 5 THEN 4\n",
    "        WHEN creatinine < 5 AND creatinine >= 3.5 THEN 3\n",
    "        WHEN creatinine < 3.5 AND creatinine >= 2 THEN 2\n",
    "        WHEN creatinine < 2 AND creatinine >= 1.2 THEN 1\n",
    "        WHEN creatinine < 1.2 THEN 0 END\n",
    "    , sofa_total: sofa_cv_97 + sofa_coag + sofa_liver + sofa_renal + sofa_cns\n",
    "\"\"\"\n",
    "df = duckdb.sql(q).df()"
   ]
  },
  {
   "cell_type": "code",
   "execution_count": null,
   "id": "67af00af",
   "metadata": {},
   "outputs": [],
   "source": []
  }
 ],
 "metadata": {
  "kernelspec": {
   "display_name": ".venv",
   "language": "python",
   "name": "python3"
  },
  "language_info": {
   "codemirror_mode": {
    "name": "ipython",
    "version": 3
   },
   "file_extension": ".py",
   "mimetype": "text/x-python",
   "name": "python",
   "nbconvert_exporter": "python",
   "pygments_lexer": "ipython3",
   "version": "3.10.4"
  }
 },
 "nbformat": 4,
 "nbformat_minor": 5
}
