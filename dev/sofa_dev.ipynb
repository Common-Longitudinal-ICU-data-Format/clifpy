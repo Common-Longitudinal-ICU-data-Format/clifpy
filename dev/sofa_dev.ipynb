{
 "cells": [
  {
   "cell_type": "markdown",
   "id": "57d6d1b1",
   "metadata": {},
   "source": [
    "# Init"
   ]
  },
  {
   "cell_type": "code",
   "execution_count": 20,
   "id": "715a7428",
   "metadata": {},
   "outputs": [
    {
     "data": {
      "text/plain": [
       "'/Users/wliao0504/code'"
      ]
     },
     "execution_count": 20,
     "metadata": {},
     "output_type": "execute_result"
    }
   ],
   "source": [
    "import os\n",
    "os.chdir('..')\n",
    "os.getcwd()"
   ]
  },
  {
   "cell_type": "markdown",
   "id": "0e5c937e",
   "metadata": {},
   "source": [
    "## Reload"
   ]
  },
  {
   "cell_type": "code",
   "execution_count": 21,
   "id": "6052907c",
   "metadata": {},
   "outputs": [
    {
     "ename": "FileNotFoundError",
     "evalue": "[Errno 2] No such file or directory: 'config/config.yaml'",
     "output_type": "error",
     "traceback": [
      "\u001b[0;31m---------------------------------------------------------------------------\u001b[0m",
      "\u001b[0;31mFileNotFoundError\u001b[0m                         Traceback (most recent call last)",
      "Cell \u001b[0;32mIn[21], line 14\u001b[0m\n\u001b[1;32m     10\u001b[0m \u001b[38;5;28;01mfrom\u001b[39;00m\u001b[38;5;250m \u001b[39m\u001b[38;5;21;01mimportlib\u001b[39;00m\u001b[38;5;250m \u001b[39m\u001b[38;5;28;01mimport\u001b[39;00m reload\n\u001b[1;32m     12\u001b[0m \u001b[38;5;28;01mimport\u001b[39;00m\u001b[38;5;250m \u001b[39m\u001b[38;5;21;01myaml\u001b[39;00m\n\u001b[0;32m---> 14\u001b[0m \u001b[38;5;28;01mwith\u001b[39;00m \u001b[38;5;28;43mopen\u001b[39;49m\u001b[43m(\u001b[49m\u001b[38;5;124;43m'\u001b[39;49m\u001b[38;5;124;43mconfig/config.yaml\u001b[39;49m\u001b[38;5;124;43m'\u001b[39;49m\u001b[43m,\u001b[49m\u001b[43m \u001b[49m\u001b[38;5;124;43m'\u001b[39;49m\u001b[38;5;124;43mr\u001b[39;49m\u001b[38;5;124;43m'\u001b[39;49m\u001b[43m)\u001b[49m \u001b[38;5;28;01mas\u001b[39;00m file:\n\u001b[1;32m     15\u001b[0m     config \u001b[38;5;241m=\u001b[39m yaml\u001b[38;5;241m.\u001b[39msafe_load(file)\n\u001b[1;32m     17\u001b[0m \u001b[38;5;28;01mfrom\u001b[39;00m\u001b[38;5;250m \u001b[39m\u001b[38;5;21;01mclifpy\u001b[39;00m\u001b[38;5;21;01m.\u001b[39;00m\u001b[38;5;21;01mutils\u001b[39;00m\u001b[38;5;250m \u001b[39m\u001b[38;5;28;01mimport\u001b[39;00m sofa\n",
      "File \u001b[0;32m~/code/clif/pyCLIF/.venv/lib/python3.10/site-packages/IPython/core/interactiveshell.py:324\u001b[0m, in \u001b[0;36m_modified_open\u001b[0;34m(file, *args, **kwargs)\u001b[0m\n\u001b[1;32m    317\u001b[0m \u001b[38;5;28;01mif\u001b[39;00m file \u001b[38;5;129;01min\u001b[39;00m {\u001b[38;5;241m0\u001b[39m, \u001b[38;5;241m1\u001b[39m, \u001b[38;5;241m2\u001b[39m}:\n\u001b[1;32m    318\u001b[0m     \u001b[38;5;28;01mraise\u001b[39;00m \u001b[38;5;167;01mValueError\u001b[39;00m(\n\u001b[1;32m    319\u001b[0m         \u001b[38;5;124mf\u001b[39m\u001b[38;5;124m\"\u001b[39m\u001b[38;5;124mIPython won\u001b[39m\u001b[38;5;124m'\u001b[39m\u001b[38;5;124mt let you open fd=\u001b[39m\u001b[38;5;132;01m{\u001b[39;00mfile\u001b[38;5;132;01m}\u001b[39;00m\u001b[38;5;124m by default \u001b[39m\u001b[38;5;124m\"\u001b[39m\n\u001b[1;32m    320\u001b[0m         \u001b[38;5;124m\"\u001b[39m\u001b[38;5;124mas it is likely to crash IPython. If you know what you are doing, \u001b[39m\u001b[38;5;124m\"\u001b[39m\n\u001b[1;32m    321\u001b[0m         \u001b[38;5;124m\"\u001b[39m\u001b[38;5;124myou can use builtins\u001b[39m\u001b[38;5;124m'\u001b[39m\u001b[38;5;124m open.\u001b[39m\u001b[38;5;124m\"\u001b[39m\n\u001b[1;32m    322\u001b[0m     )\n\u001b[0;32m--> 324\u001b[0m \u001b[38;5;28;01mreturn\u001b[39;00m \u001b[43mio_open\u001b[49m\u001b[43m(\u001b[49m\u001b[43mfile\u001b[49m\u001b[43m,\u001b[49m\u001b[43m \u001b[49m\u001b[38;5;241;43m*\u001b[39;49m\u001b[43margs\u001b[49m\u001b[43m,\u001b[49m\u001b[43m \u001b[49m\u001b[38;5;241;43m*\u001b[39;49m\u001b[38;5;241;43m*\u001b[39;49m\u001b[43mkwargs\u001b[49m\u001b[43m)\u001b[49m\n",
      "\u001b[0;31mFileNotFoundError\u001b[0m: [Errno 2] No such file or directory: 'config/config.yaml'"
     ]
    }
   ],
   "source": [
    "import pandas as pd\n",
    "from pathlib import Path\n",
    "import duckdb\n",
    "\n",
    "# Import individual table classes\n",
    "from clifpy.tables.vitals import Vitals\n",
    "from clifpy.tables.labs import Labs\n",
    "from clifpy.tables.medication_admin_continuous import MedicationAdminContinuous\n",
    "\n",
    "from importlib import reload\n",
    "\n",
    "import yaml\n",
    "\n",
    "with open('config/config.yaml', 'r') as file:\n",
    "    config = yaml.safe_load(file)\n",
    "    \n",
    "from clifpy.utils import sofa\n",
    "reload(sofa)"
   ]
  },
  {
   "cell_type": "markdown",
   "id": "2bbba2ef",
   "metadata": {},
   "source": [
    "# Archive"
   ]
  },
  {
   "cell_type": "code",
   "execution_count": null,
   "id": "68aab568",
   "metadata": {},
   "outputs": [
    {
     "name": "stdout",
     "output_type": "stream",
     "text": [
      "Loading clif_vitals.parquet\n",
      "Data loaded successfully from clif_vitals.parquet\n",
      "recorded_dttm: Already in your timezone (UTC), no conversion needed.\n",
      "Loading clif_labs.parquet\n",
      "Data loaded successfully from clif_labs.parquet\n",
      "lab_order_dttm: Already in your timezone (UTC), no conversion needed.\n",
      "lab_collect_dttm: Already in your timezone (UTC), no conversion needed.\n",
      "lab_result_dttm: Already in your timezone (UTC), no conversion needed.\n",
      "Loading clif_medication_admin_continuous.parquet\n",
      "Data loaded successfully from clif_medication_admin_continuous.parquet\n",
      "admin_dttm: Already in your timezone (UTC), no conversion needed.\n"
     ]
    }
   ],
   "source": [
    "# Initialize the tables\n",
    "vitals = Vitals.from_file(\n",
    "    data_directory=config['tables_path'],\n",
    "    filetype='parquet', \n",
    "    timezone='UTC'\n",
    ")\n",
    "\n",
    "vitals_df = vitals.df\n",
    "\n",
    "# Initialize the tables\n",
    "labs = Labs.from_file(\n",
    "    data_directory=config['tables_path'],\n",
    "    filetype='parquet', \n",
    "    timezone='UTC'\n",
    ")\n",
    "\n",
    "labs_df = labs.df\n",
    "\n",
    "# Initialize the tables\n",
    "mac = MedicationAdminContinuous.from_file(\n",
    "    data_directory=config['tables_path'],\n",
    "    filetype='parquet', \n",
    "    timezone='UTC'\n",
    ")\n",
    "\n",
    "mac_df = mac.df"
   ]
  },
  {
   "cell_type": "code",
   "execution_count": null,
   "id": "0e8834a2",
   "metadata": {},
   "outputs": [],
   "source": [
    "# Mock DataFrame creation for ids_w_dttm\n",
    "cohort_df = pd.DataFrame({\n",
    "    'hospitalization_id': ['23559586', '20626031'],\n",
    "    'start_time': pd.to_datetime(['2132-12-15 14:29:00+00:00', '2132-12-14 21:00:00+00:00']),\n",
    "    'end_time': pd.to_datetime(['2137-08-25 14:00:00+00:00', '2137-09-02 09:00:00+00:00'])\n",
    "})"
   ]
  },
  {
   "cell_type": "code",
   "execution_count": null,
   "id": "ccfde9a5",
   "metadata": {},
   "outputs": [],
   "source": [
    "query_dict = {'weight_kg': ['latest', 'max'], 'spo2': ['max', 'min']}\n",
    "\n",
    "# pivoted = sofa.lookup_extremal_vital_values(ids_w_dttm, query_dict, vitals_df, )"
   ]
  },
  {
   "cell_type": "markdown",
   "id": "58bd6825",
   "metadata": {},
   "source": [
    "### Generic"
   ]
  },
  {
   "cell_type": "code",
   "execution_count": null,
   "id": "cfb826e4",
   "metadata": {},
   "outputs": [
    {
     "ename": "TypeError",
     "evalue": "lookup_extremal_values_in_long_table() takes 3 positional arguments but 4 were given",
     "output_type": "error",
     "traceback": [
      "\u001b[0;31m---------------------------------------------------------------------------\u001b[0m",
      "\u001b[0;31mTypeError\u001b[0m                                 Traceback (most recent call last)",
      "Cell \u001b[0;32mIn[9], line 1\u001b[0m\n\u001b[0;32m----> 1\u001b[0m df \u001b[38;5;241m=\u001b[39m \u001b[43msofa\u001b[49m\u001b[38;5;241;43m.\u001b[39;49m\u001b[43mlookup_extremal_values_in_long_table\u001b[49m\u001b[43m(\u001b[49m\u001b[43mcohort_df\u001b[49m\u001b[43m,\u001b[49m\u001b[43m \u001b[49m\u001b[43mquery_dict\u001b[49m\u001b[43m,\u001b[49m\u001b[43m \u001b[49m\u001b[43mvitals_df\u001b[49m\u001b[43m,\u001b[49m\u001b[43m \u001b[49m\u001b[38;5;124;43m\"\u001b[39;49m\u001b[38;5;124;43mvitals\u001b[39;49m\u001b[38;5;124;43m\"\u001b[39;49m\u001b[43m)\u001b[49m\n\u001b[1;32m      3\u001b[0m df\n",
      "\u001b[0;31mTypeError\u001b[0m: lookup_extremal_values_in_long_table() takes 3 positional arguments but 4 were given"
     ]
    }
   ],
   "source": [
    "df = sofa.lookup_extremal_values_in_long_table(cohort_df, query_dict, vitals_df, \"vitals\")\n",
    "\n",
    "df"
   ]
  },
  {
   "cell_type": "code",
   "execution_count": null,
   "id": "8d5bd26c",
   "metadata": {},
   "outputs": [
    {
     "data": {
      "text/html": [
       "<div>\n",
       "<style scoped>\n",
       "    .dataframe tbody tr th:only-of-type {\n",
       "        vertical-align: middle;\n",
       "    }\n",
       "\n",
       "    .dataframe tbody tr th {\n",
       "        vertical-align: top;\n",
       "    }\n",
       "\n",
       "    .dataframe thead th {\n",
       "        text-align: right;\n",
       "    }\n",
       "</style>\n",
       "<table border=\"1\" class=\"dataframe\">\n",
       "  <thead>\n",
       "    <tr style=\"text-align: right;\">\n",
       "      <th></th>\n",
       "      <th>hospitalization_id</th>\n",
       "      <th>start_dttm</th>\n",
       "      <th>end_dttm</th>\n",
       "      <th>fentanyl_latest</th>\n",
       "      <th>fentanyl_min</th>\n",
       "      <th>propofol_latest</th>\n",
       "      <th>propofol_max</th>\n",
       "      <th>propofol_min</th>\n",
       "    </tr>\n",
       "  </thead>\n",
       "  <tbody>\n",
       "    <tr>\n",
       "      <th>0</th>\n",
       "      <td>20626031</td>\n",
       "      <td>2132-12-14 15:00:00-06:00</td>\n",
       "      <td>2137-09-02 03:00:00-06:00</td>\n",
       "      <td>NaN</td>\n",
       "      <td>NaN</td>\n",
       "      <td>0.0</td>\n",
       "      <td>50.229695</td>\n",
       "      <td>0.0</td>\n",
       "    </tr>\n",
       "    <tr>\n",
       "      <th>1</th>\n",
       "      <td>23559586</td>\n",
       "      <td>2132-12-15 08:29:00-06:00</td>\n",
       "      <td>2137-08-25 08:00:00-06:00</td>\n",
       "      <td>0.0</td>\n",
       "      <td>0.0</td>\n",
       "      <td>0.0</td>\n",
       "      <td>30.026425</td>\n",
       "      <td>0.0</td>\n",
       "    </tr>\n",
       "  </tbody>\n",
       "</table>\n",
       "</div>"
      ],
      "text/plain": [
       "  hospitalization_id                start_dttm                  end_dttm  \\\n",
       "0           20626031 2132-12-14 15:00:00-06:00 2137-09-02 03:00:00-06:00   \n",
       "1           23559586 2132-12-15 08:29:00-06:00 2137-08-25 08:00:00-06:00   \n",
       "\n",
       "   fentanyl_latest  fentanyl_min  propofol_latest  propofol_max  propofol_min  \n",
       "0              NaN           NaN              0.0     50.229695           0.0  \n",
       "1              0.0           0.0              0.0     30.026425           0.0  "
      ]
     },
     "execution_count": 7,
     "metadata": {},
     "output_type": "execute_result"
    }
   ],
   "source": [
    "query_dict = {\"propofol\": [\"latest\", \"max\"], \"fentanyl\": [\"latest\", \"min\"]}\n",
    "\n",
    "sofa.lookup_extremal_values_in_long_table(cohort_df, query_dict, \"medication_admin_continuous\")"
   ]
  },
  {
   "cell_type": "code",
   "execution_count": null,
   "id": "c807a1bc",
   "metadata": {},
   "outputs": [
    {
     "data": {
      "text/html": [
       "<div>\n",
       "<style scoped>\n",
       "    .dataframe tbody tr th:only-of-type {\n",
       "        vertical-align: middle;\n",
       "    }\n",
       "\n",
       "    .dataframe tbody tr th {\n",
       "        vertical-align: top;\n",
       "    }\n",
       "\n",
       "    .dataframe thead th {\n",
       "        text-align: right;\n",
       "    }\n",
       "</style>\n",
       "<table border=\"1\" class=\"dataframe\">\n",
       "  <thead>\n",
       "    <tr style=\"text-align: right;\">\n",
       "      <th></th>\n",
       "      <th>hospitalization_id</th>\n",
       "      <th>start_dttm</th>\n",
       "      <th>end_dttm</th>\n",
       "      <th>bicarbonate_latest</th>\n",
       "      <th>bicarbonate_min</th>\n",
       "      <th>hemoglobin_latest</th>\n",
       "      <th>hemoglobin_max</th>\n",
       "      <th>platelet_count_latest</th>\n",
       "      <th>platelet_count_max</th>\n",
       "      <th>platelet_count_min</th>\n",
       "    </tr>\n",
       "  </thead>\n",
       "  <tbody>\n",
       "    <tr>\n",
       "      <th>0</th>\n",
       "      <td>20626031</td>\n",
       "      <td>2132-12-14 15:00:00-06:00</td>\n",
       "      <td>2137-09-02 03:00:00-06:00</td>\n",
       "      <td>27.0</td>\n",
       "      <td>22.0</td>\n",
       "      <td>7.9</td>\n",
       "      <td>9.8</td>\n",
       "      <td>NaN</td>\n",
       "      <td>375.0</td>\n",
       "      <td>192.0</td>\n",
       "    </tr>\n",
       "    <tr>\n",
       "      <th>1</th>\n",
       "      <td>23559586</td>\n",
       "      <td>2132-12-15 08:29:00-06:00</td>\n",
       "      <td>2137-08-25 08:00:00-06:00</td>\n",
       "      <td>21.0</td>\n",
       "      <td>18.0</td>\n",
       "      <td>7.4</td>\n",
       "      <td>9.3</td>\n",
       "      <td>61.0</td>\n",
       "      <td>115.0</td>\n",
       "      <td>61.0</td>\n",
       "    </tr>\n",
       "  </tbody>\n",
       "</table>\n",
       "</div>"
      ],
      "text/plain": [
       "  hospitalization_id                start_dttm                  end_dttm  \\\n",
       "0           20626031 2132-12-14 15:00:00-06:00 2137-09-02 03:00:00-06:00   \n",
       "1           23559586 2132-12-15 08:29:00-06:00 2137-08-25 08:00:00-06:00   \n",
       "\n",
       "   bicarbonate_latest  bicarbonate_min  hemoglobin_latest  hemoglobin_max  \\\n",
       "0                27.0             22.0                7.9             9.8   \n",
       "1                21.0             18.0                7.4             9.3   \n",
       "\n",
       "   platelet_count_latest  platelet_count_max  platelet_count_min  \n",
       "0                    NaN               375.0               192.0  \n",
       "1                   61.0               115.0                61.0  "
      ]
     },
     "execution_count": 8,
     "metadata": {},
     "output_type": "execute_result"
    }
   ],
   "source": [
    "query_dict = {\n",
    "    'hemoglobin': ['latest', 'max'], \n",
    "    'platelet_count': ['max', 'min'],\n",
    "    'bicarbonate': ['latest', 'min']\n",
    "    }\n",
    "\n",
    "sofa.lookup_extremal_values_in_long_table(cohort_df, query_dict, labs_df, \"labs\")"
   ]
  },
  {
   "cell_type": "markdown",
   "id": "bac77665",
   "metadata": {},
   "source": [
    "## New"
   ]
  },
  {
   "cell_type": "code",
   "execution_count": null,
   "id": "efa9ff4e",
   "metadata": {},
   "outputs": [
    {
     "ename": "NameError",
     "evalue": "name 'qualified' is not defined",
     "output_type": "error",
     "traceback": [
      "\u001b[0;31m---------------------------------------------------------------------------\u001b[0m",
      "\u001b[0;31mNameError\u001b[0m                                 Traceback (most recent call last)",
      "Cell \u001b[0;32mIn[9], line 1\u001b[0m\n\u001b[0;32m----> 1\u001b[0m melted \u001b[38;5;241m=\u001b[39m \u001b[43mqualified\u001b[49m\u001b[38;5;241m.\u001b[39mmelt(\n\u001b[1;32m      2\u001b[0m     id_vars\u001b[38;5;241m=\u001b[39m[\u001b[38;5;124m'\u001b[39m\u001b[38;5;124mhospitalization_id\u001b[39m\u001b[38;5;124m'\u001b[39m, \u001b[38;5;124m'\u001b[39m\u001b[38;5;124mstart_dttm\u001b[39m\u001b[38;5;124m'\u001b[39m, \u001b[38;5;124m'\u001b[39m\u001b[38;5;124mend_dttm\u001b[39m\u001b[38;5;124m'\u001b[39m, \u001b[38;5;124m'\u001b[39m\u001b[38;5;124mvital_category\u001b[39m\u001b[38;5;124m'\u001b[39m, \u001b[38;5;124m'\u001b[39m\u001b[38;5;124mvital_value\u001b[39m\u001b[38;5;124m'\u001b[39m],\n\u001b[1;32m      3\u001b[0m     value_vars\u001b[38;5;241m=\u001b[39m[\u001b[38;5;124m'\u001b[39m\u001b[38;5;124mrn_max\u001b[39m\u001b[38;5;124m'\u001b[39m, \u001b[38;5;124m'\u001b[39m\u001b[38;5;124mrn_latest\u001b[39m\u001b[38;5;124m'\u001b[39m, \u001b[38;5;124m'\u001b[39m\u001b[38;5;124mrn_min\u001b[39m\u001b[38;5;124m'\u001b[39m],\n\u001b[1;32m      4\u001b[0m     var_name\u001b[38;5;241m=\u001b[39m\u001b[38;5;124m'\u001b[39m\u001b[38;5;124mextreme\u001b[39m\u001b[38;5;124m'\u001b[39m,\n\u001b[1;32m      5\u001b[0m     value_name\u001b[38;5;241m=\u001b[39m\u001b[38;5;124m'\u001b[39m\u001b[38;5;124mrn\u001b[39m\u001b[38;5;124m'\u001b[39m\n\u001b[1;32m      6\u001b[0m )\u001b[38;5;241m.\u001b[39mquery(\u001b[38;5;124m'\u001b[39m\u001b[38;5;124mrn == 1\u001b[39m\u001b[38;5;124m'\u001b[39m)\u001b[38;5;241m.\u001b[39mdrop(columns\u001b[38;5;241m=\u001b[39m[\u001b[38;5;124m'\u001b[39m\u001b[38;5;124mrn\u001b[39m\u001b[38;5;124m'\u001b[39m])\n",
      "\u001b[0;31mNameError\u001b[0m: name 'qualified' is not defined"
     ]
    }
   ],
   "source": [
    "melted = qualified.melt(\n",
    "    id_vars=['hospitalization_id', 'start_dttm', 'end_dttm', 'vital_category', 'vital_value'],\n",
    "    value_vars=['rn_max', 'rn_latest', 'rn_min'],\n",
    "    var_name='extreme',\n",
    "    value_name='rn'\n",
    ").query('rn == 1').drop(columns=['rn'])"
   ]
  },
  {
   "cell_type": "code",
   "execution_count": null,
   "id": "6fa7657c",
   "metadata": {},
   "outputs": [],
   "source": [
    "# Create column names like 'spo2_max', 'weight_kg_latest'\n",
    "melted['column_name'] = melted['vital_category'] + '_' + melted['extreme'].str.replace('rn_', '')\n",
    "\n",
    "# Pivot to get the desired column structure\n",
    "pivoted = melted.pivot_table(\n",
    "    index=['hospitalization_id', 'start_dttm', 'end_dttm'],\n",
    "    columns='column_name',\n",
    "    values='vital_value'\n",
    ").reset_index()"
   ]
  },
  {
   "cell_type": "code",
   "execution_count": null,
   "id": "7ad45f14",
   "metadata": {},
   "outputs": [
    {
     "data": {
      "text/html": [
       "<div>\n",
       "<style scoped>\n",
       "    .dataframe tbody tr th:only-of-type {\n",
       "        vertical-align: middle;\n",
       "    }\n",
       "\n",
       "    .dataframe tbody tr th {\n",
       "        vertical-align: top;\n",
       "    }\n",
       "\n",
       "    .dataframe thead th {\n",
       "        text-align: right;\n",
       "    }\n",
       "</style>\n",
       "<table border=\"1\" class=\"dataframe\">\n",
       "  <thead>\n",
       "    <tr style=\"text-align: right;\">\n",
       "      <th></th>\n",
       "      <th>hospitalization_id</th>\n",
       "      <th>start_dttm</th>\n",
       "      <th>end_dttm</th>\n",
       "      <th>spo2_max</th>\n",
       "      <th>spo2_min</th>\n",
       "      <th>weight_kg_latest</th>\n",
       "      <th>weight_kg_max</th>\n",
       "    </tr>\n",
       "  </thead>\n",
       "  <tbody>\n",
       "    <tr>\n",
       "      <th>0</th>\n",
       "      <td>20626031</td>\n",
       "      <td>2132-12-14 15:00:00-06:00</td>\n",
       "      <td>2137-09-02 03:00:00-06:00</td>\n",
       "      <td>100.0</td>\n",
       "      <td>91.0</td>\n",
       "      <td>95.1</td>\n",
       "      <td>95.1</td>\n",
       "    </tr>\n",
       "    <tr>\n",
       "      <th>1</th>\n",
       "      <td>23559586</td>\n",
       "      <td>2132-12-15 08:29:00-06:00</td>\n",
       "      <td>2137-08-25 08:00:00-06:00</td>\n",
       "      <td>100.0</td>\n",
       "      <td>87.0</td>\n",
       "      <td>123.6</td>\n",
       "      <td>124.5</td>\n",
       "    </tr>\n",
       "  </tbody>\n",
       "</table>\n",
       "</div>"
      ],
      "text/plain": [
       "  hospitalization_id                start_dttm                  end_dttm  \\\n",
       "0           20626031 2132-12-14 15:00:00-06:00 2137-09-02 03:00:00-06:00   \n",
       "1           23559586 2132-12-15 08:29:00-06:00 2137-08-25 08:00:00-06:00   \n",
       "\n",
       "   spo2_max  spo2_min  weight_kg_latest  weight_kg_max  \n",
       "0     100.0      91.0              95.1           95.1  \n",
       "1     100.0      87.0             123.6          124.5  "
      ]
     },
     "execution_count": 7,
     "metadata": {},
     "output_type": "execute_result"
    }
   ],
   "source": [
    "pivoted"
   ]
  },
  {
   "cell_type": "code",
   "execution_count": null,
   "id": "6d852f40",
   "metadata": {},
   "outputs": [],
   "source": []
  },
  {
   "cell_type": "markdown",
   "id": "b045379d",
   "metadata": {},
   "source": [
    "# Using Wide"
   ]
  },
  {
   "cell_type": "code",
   "execution_count": null,
   "id": "a2d51881",
   "metadata": {},
   "outputs": [],
   "source": [
    "from clifpy.utils import create_wide_dataset\n",
    "from clifpy.clif_orchestrator import ClifOrchestrator"
   ]
  },
  {
   "cell_type": "code",
   "execution_count": null,
   "id": "940fc0ad",
   "metadata": {},
   "outputs": [
    {
     "name": "stdout",
     "output_type": "stream",
     "text": [
      "ClifOrchestrator initialized.\n",
      "Loading clif_vitals.parquet\n",
      "Data loaded successfully from clif_vitals.parquet\n",
      "recorded_dttm: Already in your timezone (UTC), no conversion needed.\n",
      "Loading clif_labs.parquet\n",
      "Data loaded successfully from clif_labs.parquet\n",
      "lab_order_dttm: Already in your timezone (UTC), no conversion needed.\n",
      "lab_collect_dttm: Already in your timezone (UTC), no conversion needed.\n",
      "lab_result_dttm: Already in your timezone (UTC), no conversion needed.\n",
      "Loading clif_patient_assessments.parquet\n",
      "Data loaded successfully from clif_patient_assessments.parquet\n",
      "recorded_dttm: Already in your timezone (UTC), no conversion needed.\n",
      "Loading clif_medication_admin_continuous.parquet\n",
      "Data loaded successfully from clif_medication_admin_continuous.parquet\n",
      "admin_dttm: Already in your timezone (UTC), no conversion needed.\n",
      "Loading clif_respiratory_support.parquet\n",
      "Data loaded successfully from clif_respiratory_support.parquet\n",
      "recorded_dttm: Already in your timezone (UTC), no conversion needed.\n"
     ]
    },
    {
     "data": {
      "text/plain": [
       "<clifpy.tables.respiratory_support.RespiratorySupport at 0x122507850>"
      ]
     },
     "execution_count": 4,
     "metadata": {},
     "output_type": "execute_result"
    }
   ],
   "source": [
    "co = ClifOrchestrator(\n",
    "    data_directory='/Users/wliao0504/code/clif/pyCLIF/clifpy/data/clif_demo',\n",
    "    filetype='parquet',\n",
    "    timezone='UTC',\n",
    "    output_directory= None,\n",
    "    snake_case=True\n",
    ")\n",
    "\n",
    "co.load_table('vitals')\n",
    "co.load_table('labs')\n",
    "co.load_table('patient_assessments')\n",
    "co.load_table('medication_admin_continuous')\n",
    "co.load_table('respiratory_support')"
   ]
  },
  {
   "cell_type": "code",
   "execution_count": null,
   "id": "22a9227b",
   "metadata": {},
   "outputs": [
    {
     "name": "stdout",
     "output_type": "stream",
     "text": [
      "Starting wide dataset creation...\n",
      "Using cohort_df with time windows for 2 hospitalizations\n",
      "Using 2 hospitalization IDs from cohort_df\n",
      "\n",
      "Loading and filtering base tables...\n",
      "  ADT time filtering: 11 → 6 records\n",
      "Base tables filtered - Hospitalization: 2, Patient: 100, ADT: 6\n",
      "\n",
      "=== Processing Tables ===\n",
      "Base cohort created with 2 records\n",
      "\n",
      "Processing labs...\n",
      "Loaded 931 records from labs\n",
      "  Time filtering: 931 → 553 records\n",
      "Filtering labs categories to: ['creatinine', 'platelet_count', 'po2_arterial', 'bilirubin_total']\n",
      "Pivoted labs: 76 combo_ids with 4 category columns\n",
      "\n",
      "Processing vitals...\n",
      "Loaded 3437 records from vitals\n",
      "  Time filtering: 3437 → 1660 records\n",
      "Filtering vitals categories to: ['map', 'spo2', 'weight_kg']\n",
      "Pivoted vitals: 422 combo_ids with 3 category columns\n",
      "\n",
      "Processing patient_assessments...\n",
      "Loaded 1202 records from patient_assessments\n",
      "  Time filtering: 1202 → 616 records\n",
      "Warning: Required columns assessment_category or assessment_value not found in patient_assessments\n",
      "\n",
      "Processing medication_admin_continuous...\n",
      "Loaded 256 records from medication_admin_continuous\n",
      "  Time filtering: 256 → 205 records\n",
      "Filtering medication_admin_continuous categories to: ['norepinephrine', 'epinephrine', 'phenylephrine', 'vasopressin', 'dopamine', 'angiotensin', 'dobutamine', 'milrinone']\n",
      "Pivoted medication_admin_continuous: 85 combo_ids with 3 category columns\n",
      "\n",
      "Processing respiratory_support...\n",
      "Filtered respiratory_support to 13 columns: ['hospitalization_id', 'recorded_dttm', 'device_category', 'device_name', 'mode_name', 'mode_category', 'peep_set', 'fio2_set', 'lpm_set', 'resp_rate_set', 'tracheostomy', 'resp_rate_obs', 'tidal_volume_set']\n",
      "Loaded 90 records from respiratory_support\n",
      "  Time filtering: 90 → 74 records\n",
      "\n",
      "=== Creating wide dataset ===\n",
      "Executing join query...\n",
      "Applying cohort time window filtering to final dataset...\n",
      "  Final time filtering: 726 → 726 records\n",
      "Added missing column: gcs_total\n",
      "Added missing column: epinephrine\n",
      "Added missing column: dopamine\n",
      "Added missing column: angiotensin\n",
      "Added missing column: dobutamine\n",
      "Added missing column: milrinone\n",
      "Wide dataset created: 726 records with 38 columns\n"
     ]
    }
   ],
   "source": [
    "cohort_df = pd.DataFrame({\n",
    "    'hospitalization_id': ['23559586', '20626031'],\n",
    "    'start_time': pd.to_datetime(['2137-01-01 14:29:00+00:00', '2132-12-14 21:00:00+00:00']),\n",
    "    'end_time': pd.to_datetime(['2137-08-25 14:00:00+00:00', '2132-12-15 09:00:00+00:00'])\n",
    "})\n",
    "\n",
    "required_sofa_categories_by_table = {\n",
    "    'labs': ['creatinine','platelet_count','po2_arterial','bilirubin_total'],\n",
    "    'vitals': ['map','spo2', 'weight_kg'],\n",
    "    'patient_assessments': ['gcs_total'],\n",
    "    \"medication_admin_continuous\": [\n",
    "        \"norepinephrine\",\"epinephrine\",\"phenylephrine\",\"vasopressin\", \"dopamine\",\"angiotensin\",\n",
    "        \"dobutamine\",\"milrinone\"\n",
    "        ],\n",
    "    'respiratory_support': [\n",
    "        'device_category','device_name','mode_name','mode_category','peep_set','fio2_set','lpm_set',\n",
    "        'resp_rate_set','tracheostomy', 'resp_rate_obs','tidal_volume_set'\n",
    "    ] \n",
    "}\n",
    "\n",
    "wide_df = co.create_wide_dataset(\n",
    "    tables_to_load=[\n",
    "        'vitals', 'labs', 'patient_assessments', 'medication_admin_continuous', 'respiratory_support'\n",
    "        ],\n",
    "    category_filters=required_sofa_categories_by_table,\n",
    "    # sample=True,  # Use 20 random hospitalizations\n",
    "    cohort_df=cohort_df,\n",
    "    batch_size=-1\n",
    ")"
   ]
  },
  {
   "cell_type": "code",
   "execution_count": null,
   "id": "8b8993d4",
   "metadata": {},
   "outputs": [
    {
     "ename": "BinderException",
     "evalue": "Binder Error: column \"patient_id\" must appear in the GROUP BY clause or must be part of an aggregate function.\nEither add it to the GROUP BY list, or use \"ANY_VALUE(patient_id)\" if the exact value of \"patient_id\" is not important.",
     "output_type": "error",
     "traceback": [
      "\u001b[0;31m---------------------------------------------------------------------------\u001b[0m",
      "\u001b[0;31mBinderException\u001b[0m                           Traceback (most recent call last)",
      "Cell \u001b[0;32mIn[16], line 27\u001b[0m\n\u001b[1;32m     14\u001b[0m device_rank_mapping \u001b[38;5;241m=\u001b[39m pd\u001b[38;5;241m.\u001b[39mDataFrame({\n\u001b[1;32m     15\u001b[0m     \u001b[38;5;124m'\u001b[39m\u001b[38;5;124mdevice_category\u001b[39m\u001b[38;5;124m'\u001b[39m: device_rank_dict\u001b[38;5;241m.\u001b[39mkeys(),\n\u001b[1;32m     16\u001b[0m     \u001b[38;5;124m'\u001b[39m\u001b[38;5;124mdevice_rank\u001b[39m\u001b[38;5;124m'\u001b[39m: device_rank_dict\u001b[38;5;241m.\u001b[39mvalues()\n\u001b[1;32m     17\u001b[0m })\n\u001b[1;32m     19\u001b[0m q \u001b[38;5;241m=\u001b[39m \u001b[38;5;124m\"\"\"\u001b[39m\n\u001b[1;32m     20\u001b[0m \u001b[38;5;124mFROM wide_df\u001b[39m\n\u001b[1;32m     21\u001b[0m \u001b[38;5;124mLEFT JOIN device_rank_mapping USING (device_category)\u001b[39m\n\u001b[0;32m   (...)\u001b[0m\n\u001b[1;32m     25\u001b[0m \u001b[38;5;124mGROUP BY hospitalization_id\u001b[39m\n\u001b[1;32m     26\u001b[0m \u001b[38;5;124m\"\"\"\u001b[39m\n\u001b[0;32m---> 27\u001b[0m device_ranked \u001b[38;5;241m=\u001b[39m \u001b[43mduckdb\u001b[49m\u001b[38;5;241;43m.\u001b[39;49m\u001b[43msql\u001b[49m\u001b[43m(\u001b[49m\u001b[43mq\u001b[49m\u001b[43m)\u001b[49m\u001b[38;5;241m.\u001b[39mdf()\n",
      "\u001b[0;31mBinderException\u001b[0m: Binder Error: column \"patient_id\" must appear in the GROUP BY clause or must be part of an aggregate function.\nEither add it to the GROUP BY list, or use \"ANY_VALUE(patient_id)\" if the exact value of \"patient_id\" is not important."
     ]
    }
   ],
   "source": [
    "device_rank_dict = {\n",
    "    'imv': 1,\n",
    "    'nippv': 2,\n",
    "    'cpap': 3,\n",
    "    'high_flow_nc': 4,\n",
    "    'face_mask': 5,\n",
    "    'trach_collar': 6,\n",
    "    'nasal_cannula': 7,\n",
    "    'other': 8,\n",
    "    'room_air': 9\n",
    "}\n",
    "\n",
    "# create a mappping df\n",
    "device_rank_mapping = pd.DataFrame({\n",
    "    'device_category': device_rank_dict.keys(),\n",
    "    'device_rank': device_rank_dict.values()\n",
    "})\n",
    "\n",
    "# q = \"\"\"\n",
    "# FROM wide_df\n",
    "# LEFT JOIN device_rank_mapping USING (device_category)\n",
    "# SELECT *\n",
    "#     , device_rank_min: MIN(device_rank)\n",
    "#     , fio2_max: MAX(fio2_set)\n",
    "# GROUP BY hospitalization_id\n",
    "# \"\"\"\n",
    "# device_ranked = duckdb.sql(q).df()"
   ]
  },
  {
   "cell_type": "code",
   "execution_count": null,
   "id": "554460d2",
   "metadata": {},
   "outputs": [],
   "source": [
    "required_sofa_categories = [item for sublist in required_sofa_categories_by_table.values() for item in sublist] "
   ]
  },
  {
   "cell_type": "code",
   "execution_count": 25,
   "id": "7bc05988",
   "metadata": {},
   "outputs": [],
   "source": [
    "q = f\"\"\"\n",
    "FROM wide_df\n",
    "LEFT JOIN device_rank_mapping USING (device_category)\n",
    "SELECT hospitalization_id\n",
    "    -- , MAX(COLUMNS({required_sofa_categories})) AS 'max_\\\\0'\n",
    "    , any_value(COLUMNS({required_sofa_categories}) ORDER BY event_time DESC) -- AS 'latest_\\\\0'\n",
    "    , device_rank_min: MIN(device_rank)\n",
    "GROUP BY hospitalization_id\n",
    "\"\"\"\n",
    "extremals_by_id = duckdb.sql(q).df()"
   ]
  },
  {
   "cell_type": "code",
   "execution_count": 29,
   "id": "d783a233",
   "metadata": {},
   "outputs": [],
   "source": [
    "q = f\"\"\"\n",
    "FROM extremals_by_id df\n",
    "LEFT JOIN device_rank_mapping m on df.device_rank_min = m.device_rank\n",
    "SELECT hospitalization_id\n",
    "    , p_f: po2_arterial / fio2_set\n",
    "    , sofa_cv_97: CASE WHEN dopamine > 15 OR epinephrine > 0.1 OR norepinephrine > 0.1 THEN 4\n",
    "        WHEN dopamine > 5 OR epinephrine <= 0.1 OR norepinephrine <= 0.1 THEN 3\n",
    "        WHEN dopamine <= 5 OR dobutamine > 0 THEN 2\n",
    "        WHEN map < 70 THEN 1\n",
    "        WHEN map >= 70 THEN 0 END\n",
    "    , sofa_coag: CASE WHEN platelet_count < 20 THEN 4\n",
    "        WHEN platelet_count < 50 THEN 3\n",
    "        WHEN platelet_count < 100 THEN 2\n",
    "        WHEN platelet_count < 150 THEN 1\n",
    "        WHEN platelet_count >= 150 THEN 0 END \n",
    "    , sofa_liver: CASE WHEN bilirubin_total >= 12 THEN 4\n",
    "        WHEN bilirubin_total < 12 AND bilirubin_total >= 6 THEN 3\n",
    "        WHEN bilirubin_total < 6 AND bilirubin_total >= 2 THEN 2\n",
    "        WHEN bilirubin_total < 2 AND bilirubin_total >= 1.2 THEN 1\n",
    "        WHEN bilirubin_total < 1.2 THEN 0 END\n",
    "    , sofa_resp: CASE WHEN p_f < 100 AND m.device_category IN ('imv', 'nippv', 'cpap') THEN 4 \n",
    "        WHEN p_f >= 100 and p_f < 200 AND m.device_category IN ('imv', 'nippv', 'cpap') THEN 3\n",
    "        WHEN p_f >= 200 AND p_f < 300 THEN 2\n",
    "        WHEN p_f >= 300 AND p_f < 400 THEN 1\n",
    "        WHEN p_f >= 400 THEN 0 END\n",
    "    , sofa_cns: CASE WHEN gcs_total < 6 THEN 4\n",
    "        WHEN gcs_total >= 6 AND gcs_total <= 9 THEN 3\n",
    "        WHEN gcs_total >= 10 AND gcs_total <= 12 THEN 2\n",
    "        WHEN gcs_total >= 13 AND gcs_total <= 14 THEN 1\n",
    "        WHEN gcs_total == 15 THEN 0 END\n",
    "    , sofa_renal: CASE WHEN creatinine >= 5 THEN 4\n",
    "        WHEN creatinine < 5 AND creatinine >= 3.5 THEN 3\n",
    "        WHEN creatinine < 3.5 AND creatinine >= 2 THEN 2\n",
    "        WHEN creatinine < 2 AND creatinine >= 1.2 THEN 1\n",
    "        WHEN creatinine < 1.2 THEN 0 END\n",
    "    , sofa_total: sofa_cv_97 + sofa_coag + sofa_liver + sofa_resp + sofa_renal + sofa_cns\n",
    "\"\"\"\n",
    "df = duckdb.sql(q).df()"
   ]
  },
  {
   "cell_type": "code",
   "execution_count": null,
   "id": "67af00af",
   "metadata": {},
   "outputs": [],
   "source": [
    "def compute_sofa(args, snake = True):\n",
    "    cat_suffix = '_snake' if snake else ''\n",
    "    \n",
    "    pass"
   ]
  }
 ],
 "metadata": {
  "kernelspec": {
   "display_name": ".venv",
   "language": "python",
   "name": "python3"
  },
  "language_info": {
   "codemirror_mode": {
    "name": "ipython",
    "version": 3
   },
   "file_extension": ".py",
   "mimetype": "text/x-python",
   "name": "python",
   "nbconvert_exporter": "python",
   "pygments_lexer": "ipython3",
   "version": "3.10.4"
  }
 },
 "nbformat": 4,
 "nbformat_minor": 5
}
