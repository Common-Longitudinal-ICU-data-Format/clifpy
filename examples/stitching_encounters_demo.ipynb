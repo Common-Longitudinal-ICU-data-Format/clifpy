{
 "cells": [
  {
   "cell_type": "markdown",
   "metadata": {},
   "source": [
    "# Encounter Stitching Demo\n",
    "\n",
    "This notebook demonstrates how to use the encounter stitching functionality in CLIFpy to link related hospital encounters that occur within a specified time window."
   ]
  },
  {
   "cell_type": "markdown",
   "metadata": {},
   "source": [
    "## 1. Setup and Imports"
   ]
  },
  {
   "cell_type": "code",
   "execution_count": null,
   "metadata": {},
   "outputs": [],
   "source": [
    "import sys\n",
    "from pathlib import Path\n",
    "import pandas as pd\n",
    "import numpy as np\n",
    "from clifpy.clif_orchestrator import ClifOrchestrator"
   ]
  },
  {
   "cell_type": "code",
   "execution_count": null,
   "metadata": {},
   "outputs": [],
   "source": [
    "def find_project_root(start=None):\n",
    "    p = Path(start or Path.cwd())\n",
    "    for d in [p, *p.parents]:\n",
    "        if (d / \"pyproject.toml\").exists() or (d / \"clifpy\").is_dir():\n",
    "            return d\n",
    "    return p\n",
    "\n",
    "project_root = find_project_root()\n",
    "if str(project_root) not in sys.path:\n",
    "    sys.path.insert(0, str(project_root))\n",
    "DATA_DIR = (project_root / \"clifpy\" / \"data\" / \"clif_demo\").resolve()\n",
    "OUTPUT_DIR = (project_root / \"examples\" / \"output\").resolve()\n",
    "FILETYPE = \"parquet\"\n",
    "TIMEZONE = \"US/Eastern\"\n",
    "\n",
    "print(f\"Data directory: {DATA_DIR}\")\n",
    "print(f\"Output directory: {OUTPUT_DIR}\")"
   ]
  },
  {
   "cell_type": "markdown",
   "metadata": {},
   "source": [
    "## 2. Initialize ClifOrchestrator with Encounter Stitching\n",
    "\n",
    "The encounter stitching feature can be enabled by setting `stitch_encounter=True` when creating the orchestrator."
   ]
  },
  {
   "cell_type": "code",
   "execution_count": null,
   "metadata": {},
   "outputs": [],
   "source": [
    "# Initialize orchestrator with encounter stitching enabled\n",
    "clif = ClifOrchestrator(\n",
    "    data_directory=str(DATA_DIR),\n",
    "    filetype=FILETYPE,\n",
    "    timezone=TIMEZONE,\n",
    "    output_directory=str(OUTPUT_DIR),\n",
    "    stitch_encounter=True,  # Enable encounter stitching\n",
    "    stitch_time_interval=6  # 6-hour window (default)\n",
    ")"
   ]
  },
  {
   "cell_type": "markdown",
   "metadata": {},
   "source": [
    "## 3. Load Required Tables\n",
    "\n",
    "Encounter stitching requires both hospitalization and ADT tables. The stitching will happen automatically during initialization."
   ]
  },
  {
   "cell_type": "code",
   "execution_count": null,
   "metadata": {},
   "outputs": [],
   "source": [
    "# Load the required tables - stitching happens automatically\n",
    "clif.initialize(['hospitalization', 'adt'])"
   ]
  },
  {
   "cell_type": "markdown",
   "metadata": {},
   "source": [
    "## 4. Examine the Results\n",
    "\n",
    "After stitching, both tables will have a new `encounter_block` column that groups related encounters."
   ]
  },
  {
   "cell_type": "code",
   "execution_count": null,
   "metadata": {},
   "outputs": [],
   "source": [
    "clif.hospitalization.df"
   ]
  },
  {
   "cell_type": "code",
   "execution_count": null,
   "metadata": {},
   "outputs": [],
   "source": [
    "# Access the encounter mapping\n",
    "encounter_mapping = clif.get_encounter_mapping()\n",
    "\n",
    "if encounter_mapping is not None:\n",
    "    print(f\"Total hospitalizations: {len(encounter_mapping)}\")\n",
    "    print(f\"Total encounter blocks: {encounter_mapping['encounter_block'].nunique()}\")\n",
    "    print(f\"\\nEncounter mapping shape: {encounter_mapping.shape}\")"
   ]
  },
  {
   "cell_type": "markdown",
   "metadata": {},
   "source": [
    "## 5. Direct function usage "
   ]
  },
  {
   "cell_type": "code",
   "execution_count": null,
   "metadata": {},
   "outputs": [],
   "source": [
    "from clifpy import Adt, Hospitalization\n",
    "from clifpy.utils.stitching_encounters import stitch_encounters\n",
    "\n",
    "hospitalization = Hospitalization.from_file(\n",
    "    data_directory=str(DATA_DIR),\n",
    "    filetype=FILETYPE,\n",
    "    timezone=TIMEZONE,\n",
    "    output_directory=str(OUTPUT_DIR),\n",
    ")\n",
    "print(\"Hospitalization data loaded:\", hospitalization.df is not None)\n",
    "\n",
    "adt = Adt.from_file(\n",
    "    data_directory=str(DATA_DIR),\n",
    "    filetype=FILETYPE,\n",
    "    timezone=TIMEZONE,\n",
    "    output_directory=str(OUTPUT_DIR),\n",
    ")\n",
    "print(\"ADT data loaded:\", adt.df is not None)\n",
    "\n"
   ]
  },
  {
   "cell_type": "code",
   "execution_count": null,
   "metadata": {},
   "outputs": [],
   "source": [
    "hospitalization.df.dtypes"
   ]
  },
  {
   "cell_type": "code",
   "execution_count": null,
   "metadata": {},
   "outputs": [],
   "source": [
    "# Perform stitching\n",
    "hosp_stitched, adt_stitched, encounter_mapping = stitch_encounters(\n",
    "    hospitalization=hospitalization.df,\n",
    "    adt=adt.df,\n",
    "    time_interval=12  # 12-hour window\n",
    ")"
   ]
  },
  {
   "cell_type": "code",
   "execution_count": null,
   "metadata": {},
   "outputs": [],
   "source": [
    "hosp_stitched"
   ]
  },
  {
   "cell_type": "code",
   "execution_count": null,
   "metadata": {},
   "outputs": [],
   "source": [
    "encounter_mapping"
   ]
  }
 ],
 "metadata": {
  "kernelspec": {
   "display_name": ".venv",
   "language": "python",
   "name": "python3"
  },
  "language_info": {
   "codemirror_mode": {
    "name": "ipython",
    "version": 3
   },
   "file_extension": ".py",
   "mimetype": "text/x-python",
   "name": "python",
   "nbconvert_exporter": "python",
   "pygments_lexer": "ipython3",
   "version": "3.11.11"
  }
 },
 "nbformat": 4,
 "nbformat_minor": 4
}
