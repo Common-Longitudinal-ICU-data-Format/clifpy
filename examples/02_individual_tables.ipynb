{
 "cells": [
  {
   "cell_type": "markdown",
   "metadata": {},
   "source": [
    "# Working with Individual Table Classes\n",
    "\n",
    "This notebook demonstrates how to work with individual CLIF table classes, providing more flexibility and control over data loading and processing.\n",
    "\n",
    "## Overview\n",
    "\n",
    "Instead of using the main CLIF class, you can work directly with individual table classes:\n",
    "- More granular control over data loading\n",
    "- Independent validation and processing\n",
    "- Flexibility to load specific columns or apply filters\n",
    "- Better for memory management with large datasets"
   ]
  },
  {
   "cell_type": "markdown",
   "metadata": {},
   "source": [
    "## Setup and Imports"
   ]
  },
  {
   "cell_type": "code",
   "execution_count": 1,
   "metadata": {},
   "outputs": [
    {
     "name": "stdout",
     "output_type": "stream",
     "text": [
      "Individual table classes imported successfully!\n",
      "Python version: 3.10.9 (main, Mar  1 2023, 12:20:14) [Clang 14.0.6 ]\n"
     ]
    }
   ],
   "source": [
    "import sys\n",
    "import os\n",
    "import pandas as pd\n",
    "from datetime import datetime\n",
    "\n",
    "# Import individual table classes\n",
    "from pyclif.tables.patient import patient\n",
    "from pyclif.tables.vitals import vitals\n",
    "from pyclif.tables.hospitalization import hospitalization\n",
    "from pyclif.tables.labs import labs\n",
    "from pyclif.tables.adt import adt\n",
    "from pyclif.tables.respiratory_support import respiratory_support\n",
    "\n",
    "print(f\"Individual table classes imported successfully!\")\n",
    "print(f\"Python version: {sys.version}\")"
   ]
  },
  {
   "cell_type": "markdown",
   "metadata": {},
   "source": [
    "## Method 1: Loading from Files\n",
    "\n",
    "Each table class has a `from_file()` class method for loading data directly from files."
   ]
  },
  {
   "cell_type": "code",
   "execution_count": 2,
   "metadata": {},
   "outputs": [
    {
     "name": "stdout",
     "output_type": "stream",
     "text": [
      "Loading data from: ../src/pyclif/data/clif_demo/\n"
     ]
    }
   ],
   "source": [
    "# Set your data directory path\n",
    "DATA_DIR = \"../src/pyclif/data/clif_demo/\"\n",
    "\n",
    "print(f\"Loading data from: {DATA_DIR}\")"
   ]
  },
  {
   "cell_type": "markdown",
   "metadata": {},
   "source": [
    "### Load Patient Table"
   ]
  },
  {
   "cell_type": "code",
   "execution_count": 3,
   "metadata": {},
   "outputs": [
    {
     "name": "stdout",
     "output_type": "stream",
     "text": [
      "Loading clif_patient.parquet\n",
      "Data loaded successfully from clif_patient.parquet\n",
      "death_dttm: null count before conversion= 85\n",
      "death_dttm: Your timezone is UTC, Converting to your site timezone (UTC).\n",
      "death_dttm: null count after conversion= 85\n",
      "Validation completed with 2 error(s). See `errors` attribute.\n",
      "Patient table loaded successfully!\n",
      "Shape: (100, 11)\n",
      "Columns: ['patient_id', 'race_name', 'race_category', 'ethnicity_name', 'ethnicity_category', 'sex_name', 'sex_category', 'birth_date', 'death_dttm', 'language_name', 'language_category']\n",
      "Is valid: False\n"
     ]
    }
   ],
   "source": [
    "# Load patient table using from_file class method\n",
    "patient_table = patient.from_file(\n",
    "    table_path=DATA_DIR,\n",
    "    table_format_type=\"parquet\"\n",
    ")\n",
    "\n",
    "print(f\"Patient table loaded successfully!\")\n",
    "print(f\"Shape: {patient_table.df.shape}\")\n",
    "print(f\"Columns: {list(patient_table.df.columns)}\")\n",
    "print(f\"Is valid: {patient_table.isvalid()}\")"
   ]
  },
  {
   "cell_type": "code",
   "execution_count": 4,
   "metadata": {},
   "outputs": [
    {
     "name": "stdout",
     "output_type": "stream",
     "text": [
      "Sample patient data:\n"
     ]
    },
    {
     "data": {
      "text/html": [
       "<div>\n",
       "<style scoped>\n",
       "    .dataframe tbody tr th:only-of-type {\n",
       "        vertical-align: middle;\n",
       "    }\n",
       "\n",
       "    .dataframe tbody tr th {\n",
       "        vertical-align: top;\n",
       "    }\n",
       "\n",
       "    .dataframe thead th {\n",
       "        text-align: right;\n",
       "    }\n",
       "</style>\n",
       "<table border=\"1\" class=\"dataframe\">\n",
       "  <thead>\n",
       "    <tr style=\"text-align: right;\">\n",
       "      <th></th>\n",
       "      <th>patient_id</th>\n",
       "      <th>race_name</th>\n",
       "      <th>race_category</th>\n",
       "      <th>ethnicity_name</th>\n",
       "      <th>ethnicity_category</th>\n",
       "      <th>sex_name</th>\n",
       "      <th>sex_category</th>\n",
       "      <th>birth_date</th>\n",
       "      <th>death_dttm</th>\n",
       "      <th>language_name</th>\n",
       "      <th>language_category</th>\n",
       "    </tr>\n",
       "  </thead>\n",
       "  <tbody>\n",
       "    <tr>\n",
       "      <th>0</th>\n",
       "      <td>10002495</td>\n",
       "      <td>UNKNOWN</td>\n",
       "      <td>Unknown</td>\n",
       "      <td>UNKNOWN</td>\n",
       "      <td>Unknown</td>\n",
       "      <td>M</td>\n",
       "      <td>Male</td>\n",
       "      <td>NaT</td>\n",
       "      <td>NaT</td>\n",
       "      <td>ENGLISH</td>\n",
       "      <td>Unknown or NA</td>\n",
       "    </tr>\n",
       "    <tr>\n",
       "      <th>1</th>\n",
       "      <td>10012552</td>\n",
       "      <td>UNKNOWN</td>\n",
       "      <td>Unknown</td>\n",
       "      <td>UNKNOWN</td>\n",
       "      <td>Unknown</td>\n",
       "      <td>M</td>\n",
       "      <td>Male</td>\n",
       "      <td>NaT</td>\n",
       "      <td>NaT</td>\n",
       "      <td>ENGLISH</td>\n",
       "      <td>Unknown or NA</td>\n",
       "    </tr>\n",
       "    <tr>\n",
       "      <th>2</th>\n",
       "      <td>10015272</td>\n",
       "      <td>WHITE</td>\n",
       "      <td>White</td>\n",
       "      <td>WHITE</td>\n",
       "      <td>Non-Hispanic</td>\n",
       "      <td>F</td>\n",
       "      <td>Female</td>\n",
       "      <td>NaT</td>\n",
       "      <td>NaT</td>\n",
       "      <td>ENGLISH</td>\n",
       "      <td>Unknown or NA</td>\n",
       "    </tr>\n",
       "    <tr>\n",
       "      <th>3</th>\n",
       "      <td>10016810</td>\n",
       "      <td>UNKNOWN</td>\n",
       "      <td>Unknown</td>\n",
       "      <td>UNKNOWN</td>\n",
       "      <td>Unknown</td>\n",
       "      <td>F</td>\n",
       "      <td>Female</td>\n",
       "      <td>NaT</td>\n",
       "      <td>NaT</td>\n",
       "      <td>ENGLISH</td>\n",
       "      <td>Unknown or NA</td>\n",
       "    </tr>\n",
       "    <tr>\n",
       "      <th>4</th>\n",
       "      <td>10026406</td>\n",
       "      <td>WHITE</td>\n",
       "      <td>White</td>\n",
       "      <td>WHITE</td>\n",
       "      <td>Non-Hispanic</td>\n",
       "      <td>M</td>\n",
       "      <td>Male</td>\n",
       "      <td>NaT</td>\n",
       "      <td>NaT</td>\n",
       "      <td>ENGLISH</td>\n",
       "      <td>Unknown or NA</td>\n",
       "    </tr>\n",
       "  </tbody>\n",
       "</table>\n",
       "</div>"
      ],
      "text/plain": [
       "  patient_id race_name race_category ethnicity_name ethnicity_category  \\\n",
       "0   10002495   UNKNOWN       Unknown        UNKNOWN            Unknown   \n",
       "1   10012552   UNKNOWN       Unknown        UNKNOWN            Unknown   \n",
       "2   10015272     WHITE         White          WHITE       Non-Hispanic   \n",
       "3   10016810   UNKNOWN       Unknown        UNKNOWN            Unknown   \n",
       "4   10026406     WHITE         White          WHITE       Non-Hispanic   \n",
       "\n",
       "  sex_name sex_category birth_date death_dttm language_name language_category  \n",
       "0        M         Male        NaT        NaT       ENGLISH     Unknown or NA  \n",
       "1        M         Male        NaT        NaT       ENGLISH     Unknown or NA  \n",
       "2        F       Female        NaT        NaT       ENGLISH     Unknown or NA  \n",
       "3        F       Female        NaT        NaT       ENGLISH     Unknown or NA  \n",
       "4        M         Male        NaT        NaT       ENGLISH     Unknown or NA  "
      ]
     },
     "execution_count": 4,
     "metadata": {},
     "output_type": "execute_result"
    }
   ],
   "source": [
    "# Display sample patient data\n",
    "print(\"Sample patient data:\")\n",
    "patient_table.df.head()"
   ]
  },
  {
   "cell_type": "markdown",
   "metadata": {},
   "source": [
    "### Load Vitals Table"
   ]
  },
  {
   "cell_type": "code",
   "execution_count": 5,
   "metadata": {},
   "outputs": [
    {
     "name": "stdout",
     "output_type": "stream",
     "text": [
      "Loading clif_vitals.parquet\n",
      "Data loaded successfully from clif_vitals.parquet\n",
      "recorded_dttm: null count before conversion= 0\n",
      "recorded_dttm: Your timezone is UTC, Converting to your site timezone (UTC).\n",
      "recorded_dttm: null count after conversion= 0\n",
      "Validation completed with 5 error(s).\n",
      "  - 5 range validation error(s)\n",
      "See `errors` and `range_validation_errors` attributes for details.\n",
      "Vitals table loaded successfully!\n",
      "Shape: (89085, 6)\n",
      "Is valid: False\n",
      "Vital categories: ['spo2', 'map', 'sbp', 'heart_rate', 'dbp', 'respiratory_rate', 'weight_kg', 'height_cm', 'temp_c']\n"
     ]
    }
   ],
   "source": [
    "# Load vitals table\n",
    "vitals_table = vitals.from_file(\n",
    "    table_path=DATA_DIR,\n",
    "    table_format_type=\"parquet\"\n",
    ")\n",
    "\n",
    "print(f\"Vitals table loaded successfully!\")\n",
    "print(f\"Shape: {vitals_table.df.shape}\")\n",
    "print(f\"Is valid: {vitals_table.isvalid()}\")\n",
    "\n",
    "# Show unique vital categories\n",
    "vital_categories = vitals_table.get_vital_categories()\n",
    "print(f\"Vital categories: {vital_categories}\")"
   ]
  },
  {
   "cell_type": "markdown",
   "metadata": {},
   "source": [
    "### Load Hospitalization Table"
   ]
  },
  {
   "cell_type": "code",
   "execution_count": 7,
   "metadata": {},
   "outputs": [
    {
     "name": "stdout",
     "output_type": "stream",
     "text": [
      "Loading clif_hospitalization.parquet\n",
      "Data loaded successfully from clif_hospitalization.parquet\n",
      "admission_dttm: null count before conversion= 0\n",
      "admission_dttm: Your timezone is UTC, Converting to your site timezone (UTC).\n",
      "admission_dttm: null count after conversion= 0\n",
      "discharge_dttm: null count before conversion= 0\n",
      "discharge_dttm: Your timezone is UTC, Converting to your site timezone (UTC).\n",
      "discharge_dttm: null count after conversion= 0\n",
      "Validation completed successfully.\n",
      "Hospitalization table loaded successfully!\n",
      "Shape: (275, 17)\n",
      "Is valid: True\n"
     ]
    }
   ],
   "source": [
    "# Load hospitalization table\n",
    "hosp_table = hospitalization.from_file(\n",
    "    table_path=DATA_DIR,\n",
    "    table_format_type=\"parquet\"\n",
    ")\n",
    "\n",
    "print(f\"Hospitalization table loaded successfully!\")\n",
    "print(f\"Shape: {hosp_table.df.shape}\")\n",
    "print(f\"Is valid: {hosp_table.isvalid()}\")"
   ]
  },
  {
   "cell_type": "markdown",
   "metadata": {},
   "source": [
    "## Method 2: Loading with Custom Data\n",
    "\n",
    "You can also initialize table classes with existing DataFrames for more control."
   ]
  },
  {
   "cell_type": "code",
   "execution_count": 8,
   "metadata": {},
   "outputs": [
    {
     "name": "stdout",
     "output_type": "stream",
     "text": [
      "Loading clif_vitals.parquet\n",
      "Data loaded successfully from clif_vitals.parquet\n",
      "recorded_dttm: null count before conversion= 0\n",
      "recorded_dttm: Your timezone is UTC, Converting to your site timezone (US/Eastern).\n",
      "recorded_dttm: null count after conversion= 0\n",
      "Custom vitals data loaded: (1000, 6)\n",
      "Columns: ['hospitalization_id', 'recorded_dttm', 'vital_name', 'vital_category', 'vital_value', 'meas_site_name']\n"
     ]
    }
   ],
   "source": [
    "# Load data manually with custom parameters using the load_data function\n",
    "from pyclif.utils.io import load_data\n",
    "\n",
    "# Load vitals data with specific filters and timezone conversion\n",
    "vitals_df = load_data(\n",
    "    table_name=\"vitals\",\n",
    "    table_path=DATA_DIR,\n",
    "    table_format_type=\"parquet\",\n",
    "    sample_size=1000,  # Load only first 1000 rows for demo\n",
    "    site_tz=\"US/Eastern\"  # Apply timezone conversion\n",
    ")\n",
    "\n",
    "print(f\"Custom vitals data loaded: {vitals_df.shape}\")\n",
    "print(f\"Columns: {list(vitals_df.columns)}\")"
   ]
  },
  {
   "cell_type": "code",
   "execution_count": 9,
   "metadata": {},
   "outputs": [
    {
     "name": "stdout",
     "output_type": "stream",
     "text": [
      "Validation completed successfully.\n",
      "Custom vitals table created!\n",
      "Is valid: True\n",
      "Validation errors: 0\n",
      "Range validation errors: 0\n"
     ]
    }
   ],
   "source": [
    "# Create vitals table object from the custom DataFrame\n",
    "custom_vitals = vitals(data=vitals_df)\n",
    "\n",
    "print(f\"Custom vitals table created!\")\n",
    "print(f\"Is valid: {custom_vitals.isvalid()}\")\n",
    "print(f\"Validation errors: {len(custom_vitals.errors)}\")\n",
    "print(f\"Range validation errors: {len(custom_vitals.range_validation_errors)}\")"
   ]
  },
  {
   "cell_type": "markdown",
   "metadata": {},
   "source": [
    "## Table-Specific Features\n",
    "\n",
    "Each table class has specialized methods and properties for working with that type of data."
   ]
  },
  {
   "cell_type": "markdown",
   "metadata": {},
   "source": [
    "### Vitals Table Features"
   ]
  },
  {
   "cell_type": "code",
   "execution_count": 10,
   "metadata": {},
   "outputs": [
    {
     "name": "stdout",
     "output_type": "stream",
     "text": [
      "Vital units mapping:\n",
      "  temp_c: Celsius\n",
      "  heart_rate: (no units)\n",
      "  sbp: mmHg\n",
      "  dbp: mmHg\n",
      "  spo2: %\n"
     ]
    }
   ],
   "source": [
    "# Get vital units mapping\n",
    "vital_units = vitals_table.vital_units\n",
    "print(\"Vital units mapping:\")\n",
    "for vital, unit in list(vital_units.items())[:5]:  # Show first 5\n",
    "    print(f\"  {vital}: {unit}\")"
   ]
  },
  {
   "cell_type": "code",
   "execution_count": 11,
   "metadata": {},
   "outputs": [
    {
     "name": "stdout",
     "output_type": "stream",
     "text": [
      "\n",
      "Vital ranges for validation:\n",
      "  temp_c: {'min': 25.0, 'max': 44.0}\n",
      "  heart_rate: {'min': 0, 'max': 300}\n",
      "  sbp: {'min': 0, 'max': 300}\n"
     ]
    }
   ],
   "source": [
    "# Get vital ranges for validation\n",
    "vital_ranges = vitals_table.vital_ranges\n",
    "print(\"\\nVital ranges for validation:\")\n",
    "for vital, ranges in list(vital_ranges.items())[:3]:  # Show first 3\n",
    "    print(f\"  {vital}: {ranges}\")"
   ]
  },
  {
   "cell_type": "code",
   "execution_count": 12,
   "metadata": {},
   "outputs": [
    {
     "name": "stdout",
     "output_type": "stream",
     "text": [
      "Heart rate measurements: 13913\n",
      "\n",
      "Heart rate statistics:\n",
      "count    13913.000000\n",
      "mean        91.122332\n",
      "std         18.689358\n",
      "min          0.000000\n",
      "25%         78.000000\n",
      "50%         90.000000\n",
      "75%        104.000000\n",
      "max        200.000000\n",
      "Name: vital_value, dtype: float64\n"
     ]
    }
   ],
   "source": [
    "# Filter vitals by category\n",
    "heart_rate_data = vitals_table.filter_by_vital_category('heart_rate')\n",
    "print(f\"Heart rate measurements: {len(heart_rate_data)}\")\n",
    "\n",
    "if not heart_rate_data.empty:\n",
    "    print(\"\\nHeart rate statistics:\")\n",
    "    print(heart_rate_data['vital_value'].describe())"
   ]
  },
  {
   "cell_type": "code",
   "execution_count": 13,
   "metadata": {},
   "outputs": [
    {
     "name": "stdout",
     "output_type": "stream",
     "text": [
      "Recent vitals (last 30 days): 324 records\n",
      "Date range: 2201-11-13 to 2201-12-13\n"
     ]
    }
   ],
   "source": [
    "# Filter by date range\n",
    "from datetime import datetime, timedelta\n",
    "\n",
    "# Get recent data (last 30 days from the latest timestamp)\n",
    "if 'recorded_dttm' in vitals_table.df.columns:\n",
    "    latest_date = pd.to_datetime(vitals_table.df['recorded_dttm']).max()\n",
    "    start_date = latest_date - timedelta(days=30)\n",
    "    \n",
    "    recent_vitals = vitals_table.filter_by_date_range(start_date, latest_date)\n",
    "    print(f\"Recent vitals (last 30 days): {len(recent_vitals)} records\")\n",
    "    print(f\"Date range: {start_date.date()} to {latest_date.date()}\")"
   ]
  },
  {
   "cell_type": "code",
   "execution_count": 14,
   "metadata": {},
   "outputs": [
    {
     "name": "stdout",
     "output_type": "stream",
     "text": [
      "=== VITALS SUMMARY STATISTICS ===\n",
      "Total records: 89085\n",
      "Unique hospitalizations: 128\n",
      "\n",
      "Vital category counts:\n",
      "  map: 14368\n",
      "  sbp: 14356\n",
      "  dbp: 14351\n",
      "  heart_rate: 13913\n",
      "  respiratory_rate: 13913\n",
      "\n",
      "Date range: 2110-04-11 20:52:00+00:00 to 2201-12-13 23:00:00+00:00\n"
     ]
    }
   ],
   "source": [
    "# Get comprehensive summary statistics\n",
    "summary = vitals_table.get_summary_stats()\n",
    "print(\"=== VITALS SUMMARY STATISTICS ===\")\n",
    "print(f\"Total records: {summary.get('total_records', 'N/A')}\")\n",
    "print(f\"Unique hospitalizations: {summary.get('unique_hospitalizations', 'N/A')}\")\n",
    "\n",
    "print(\"\\nVital category counts:\")\n",
    "for category, count in list(summary.get('vital_category_counts', {}).items())[:5]:\n",
    "    print(f\"  {category}: {count}\")\n",
    "\n",
    "date_range = summary.get('date_range', {})\n",
    "print(f\"\\nDate range: {date_range.get('earliest')} to {date_range.get('latest')}\")"
   ]
  },
  {
   "cell_type": "markdown",
   "metadata": {},
   "source": [
    "### Range Validation Report"
   ]
  },
  {
   "cell_type": "code",
   "execution_count": 15,
   "metadata": {},
   "outputs": [
    {
     "name": "stdout",
     "output_type": "stream",
     "text": [
      "Range validation report:\n",
      "            error_type vital_category  affected_rows  min_value  max_value  \\\n",
      "0  values_out_of_range      height_cm             71       61.0      188.0   \n",
      "1  values_out_of_range            map          14368      -27.0      801.0   \n",
      "2  values_out_of_range           spo2          13540       29.0      100.0   \n",
      "3  values_out_of_range         temp_c           3767       31.1       99.0   \n",
      "4  values_out_of_range      weight_kg            806        0.0      164.0   \n",
      "\n",
      "   mean_value              expected_range  \\\n",
      "0      167.80     {'min': 70, 'max': 255}   \n",
      "1       76.44      {'min': 0, 'max': 250}   \n",
      "2       96.81     {'min': 50, 'max': 100}   \n",
      "3       37.02  {'min': 25.0, 'max': 44.0}   \n",
      "4       87.96    {'min': 30, 'max': 1100}   \n",
      "\n",
      "                                              issues  \\\n",
      "0             [minimum value 61.0 below expected 70]   \n",
      "1  [minimum value -27.0 below expected 0, maximum...   \n",
      "2             [minimum value 29.0 below expected 50]   \n",
      "3           [maximum value 99.0 above expected 44.0]   \n",
      "4              [minimum value 0.0 below expected 30]   \n",
      "\n",
      "                                             message  \n",
      "0  Vital 'height_cm' has values out of expected r...  \n",
      "1  Vital 'map' has values out of expected range: ...  \n",
      "2  Vital 'spo2' has values out of expected range:...  \n",
      "3  Vital 'temp_c' has values out of expected rang...  \n",
      "4  Vital 'weight_kg' has values out of expected r...  \n",
      "\n",
      "Range validation issues found:\n",
      "  - Vital 'height_cm' has values out of expected range: minimum value 61.0 below expected 70\n",
      "  - Vital 'map' has values out of expected range: minimum value -27.0 below expected 0; maximum value 801.0 above expected 250\n",
      "  - Vital 'spo2' has values out of expected range: minimum value 29.0 below expected 50\n"
     ]
    }
   ],
   "source": [
    "# Get detailed range validation report\n",
    "range_report = vitals_table.get_range_validation_report()\n",
    "print(\"Range validation report:\")\n",
    "print(range_report)\n",
    "\n",
    "if not range_report.empty:\n",
    "    print(\"\\nRange validation issues found:\")\n",
    "    for _, row in range_report.head(3).iterrows():\n",
    "        print(f\"  - {row['message']}\")"
   ]
  },
  {
   "cell_type": "markdown",
   "metadata": {},
   "source": [
    "## Advanced Usage: Custom Filtering and Processing"
   ]
  },
  {
   "cell_type": "code",
   "execution_count": 16,
   "metadata": {},
   "outputs": [
    {
     "name": "stdout",
     "output_type": "stream",
     "text": [
      "Loading clif_vitals.parquet\n",
      "Data loaded successfully from clif_vitals.parquet\n",
      "recorded_dttm: null count before conversion= 0\n",
      "recorded_dttm: Your timezone is UTC, Converting to your site timezone (US/Eastern).\n",
      "recorded_dttm: null count after conversion= 0\n",
      "Filtered vitals data: (500, 4)\n",
      "Unique vital categories: ['sbp' 'heart_rate' 'dbp']\n"
     ]
    }
   ],
   "source": [
    "# Load data with custom filters using load_data\n",
    "from pyclif.utils.io import load_data\n",
    "\n",
    "# Example: Load only specific vital categories\n",
    "filtered_vitals_df = load_data(\n",
    "    table_name=\"vitals\",\n",
    "    table_path=DATA_DIR,\n",
    "    table_format_type=\"parquet\",\n",
    "    columns=[ 'hospitalization_id', 'vital_category', 'vital_value', 'recorded_dttm'],\n",
    "    filters={'vital_category': ['heart_rate', 'sbp', 'dbp']},  # Only BP and HR\n",
    "    sample_size=500,\n",
    "    site_tz=\"US/Eastern\"\n",
    ")\n",
    "\n",
    "print(f\"Filtered vitals data: {filtered_vitals_df.shape}\")\n",
    "print(f\"Unique vital categories: {filtered_vitals_df['vital_category'].unique()}\")"
   ]
  },
  {
   "cell_type": "code",
   "execution_count": 17,
   "metadata": {},
   "outputs": [
    {
     "name": "stdout",
     "output_type": "stream",
     "text": [
      "Validation completed successfully.\n",
      "Filtered vitals table created!\n",
      "Is valid: True\n",
      "\n",
      "Filtered data summary:\n",
      "Total records: 500\n",
      "Vital categories: ['heart_rate', 'sbp', 'dbp']\n"
     ]
    }
   ],
   "source": [
    "# Create table object from filtered data\n",
    "filtered_vitals_table = vitals(data=filtered_vitals_df)\n",
    "\n",
    "print(f\"Filtered vitals table created!\")\n",
    "print(f\"Is valid: {filtered_vitals_table.isvalid()}\")\n",
    "\n",
    "# Get statistics for filtered data\n",
    "filtered_summary = filtered_vitals_table.get_summary_stats()\n",
    "print(f\"\\nFiltered data summary:\")\n",
    "print(f\"Total records: {filtered_summary.get('total_records')}\")\n",
    "print(f\"Vital categories: {list(filtered_summary.get('vital_category_counts', {}).keys())}\")"
   ]
  },
  {
   "cell_type": "markdown",
   "metadata": {},
   "source": [
    "## Working with Multiple Individual Tables"
   ]
  },
  {
   "cell_type": "code",
   "execution_count": 18,
   "metadata": {},
   "outputs": [
    {
     "name": "stdout",
     "output_type": "stream",
     "text": [
      "Loading clif_patient.parquet\n",
      "Data loaded successfully from clif_patient.parquet\n",
      "death_dttm: null count before conversion= 85\n",
      "death_dttm: Your timezone is UTC, Converting to your site timezone (UTC).\n",
      "death_dttm: null count after conversion= 85\n",
      "Validation completed with 2 error(s). See `errors` attribute.\n",
      "Loading clif_vitals.parquet\n",
      "Data loaded successfully from clif_vitals.parquet\n",
      "recorded_dttm: null count before conversion= 0\n",
      "recorded_dttm: Your timezone is UTC, Converting to your site timezone (UTC).\n",
      "recorded_dttm: null count after conversion= 0\n",
      "Validation completed with 5 error(s).\n",
      "  - 5 range validation error(s)\n",
      "See `errors` and `range_validation_errors` attributes for details.\n",
      "Loading clif_hospitalization.parquet\n",
      "Data loaded successfully from clif_hospitalization.parquet\n",
      "admission_dttm: null count before conversion= 0\n",
      "admission_dttm: Your timezone is UTC, Converting to your site timezone (UTC).\n",
      "admission_dttm: null count after conversion= 0\n",
      "discharge_dttm: null count before conversion= 0\n",
      "discharge_dttm: Your timezone is UTC, Converting to your site timezone (UTC).\n",
      "discharge_dttm: null count after conversion= 0\n",
      "Validation completed successfully.\n",
      "=== TABLE COMPARISON ===\n",
      "\n",
      "PATIENT:\n",
      "  Shape: (100, 11)\n",
      "  Valid: False\n",
      "  Columns: 11\n",
      "  Memory: 0.06 MB\n",
      "\n",
      "VITALS:\n",
      "  Shape: (89085, 6)\n",
      "  Valid: False\n",
      "  Columns: 6\n",
      "  Memory: 21.42 MB\n",
      "\n",
      "HOSPITALIZATION:\n",
      "  Shape: (275, 17)\n",
      "  Valid: True\n",
      "  Columns: 17\n",
      "  Memory: 0.17 MB\n"
     ]
    }
   ],
   "source": [
    "# Load multiple tables independently for comparison\n",
    "tables_info = {}\n",
    "\n",
    "# Load different tables\n",
    "table_classes = {\n",
    "    'patient': patient,\n",
    "    'vitals': vitals,\n",
    "    'hospitalization': hospitalization\n",
    "}\n",
    "\n",
    "for table_name, table_class in table_classes.items():\n",
    "    try:\n",
    "        table_obj = table_class.from_file(DATA_DIR, \"parquet\")\n",
    "        tables_info[table_name] = {\n",
    "            'shape': table_obj.df.shape,\n",
    "            'is_valid': table_obj.isvalid(),\n",
    "            'columns': len(table_obj.df.columns),\n",
    "            'memory_usage': f\"{table_obj.df.memory_usage(deep=True).sum() / 1024**2:.2f} MB\"\n",
    "        }\n",
    "    except Exception as e:\n",
    "        tables_info[table_name] = {'error': str(e)}\n",
    "\n",
    "# Display summary\n",
    "print(\"=== TABLE COMPARISON ===\")\n",
    "for table_name, info in tables_info.items():\n",
    "    print(f\"\\n{table_name.upper()}:\")\n",
    "    if 'error' in info:\n",
    "        print(f\"  Error: {info['error']}\")\n",
    "    else:\n",
    "        print(f\"  Shape: {info['shape']}\")\n",
    "        print(f\"  Valid: {info['is_valid']}\")\n",
    "        print(f\"  Columns: {info['columns']}\")\n",
    "        print(f\"  Memory: {info['memory_usage']}\")"
   ]
  },
  {
   "cell_type": "markdown",
   "metadata": {},
   "source": [
    "## Benefits of Individual Table Approach\n",
    "\n",
    "### Advantages:\n",
    "1. **Memory Efficiency**: Load only the tables you need\n",
    "2. **Custom Processing**: Apply specific filters, column selection, and transformations\n",
    "3. **Independent Validation**: Each table validates independently\n",
    "4. **Flexible Loading**: Different parameters for different tables\n",
    "5. **Specialized Methods**: Each table class has domain-specific functionality\n",
    "\n",
    "### When to Use:\n",
    "- Working with large datasets where memory is a concern\n",
    "- Need custom filtering or column selection\n",
    "- Performing analysis on specific table types\n",
    "- Building specialized data processing pipelines\n",
    "- Need fine-grained control over validation and error handling"
   ]
  },
  {
   "cell_type": "markdown",
   "metadata": {},
   "source": [
    "## Next Steps\n",
    "\n",
    "This notebook demonstrated:\n",
    "- Loading individual table classes\n",
    "- Using `from_file()` class methods\n",
    "- Creating tables from custom DataFrames\n",
    "- Table-specific features and methods\n",
    "- Custom filtering and processing\n",
    "- Memory and performance considerations\n",
    "\n",
    "### Explore Other Notebooks:\n",
    "- `01_basic_usage.ipynb` - Main CLIF class approach\n",
    "- `03_data_validation.ipynb` - Advanced validation techniques\n",
    "- `04_vitals_analysis.ipynb` - Deep dive into vitals analysis\n",
    "- `05_timezone_handling.ipynb` - Timezone conversion details\n",
    "- `06_data_filtering.ipynb` - Advanced filtering techniques"
   ]
  }
 ],
 "metadata": {
  "kernelspec": {
   "display_name": ".pyclif_dev",
   "language": "python",
   "name": "python3"
  },
  "language_info": {
   "codemirror_mode": {
    "name": "ipython",
    "version": 3
   },
   "file_extension": ".py",
   "mimetype": "text/x-python",
   "name": "python",
   "nbconvert_exporter": "python",
   "pygments_lexer": "ipython3",
   "version": "3.10.9"
  }
 },
 "nbformat": 4,
 "nbformat_minor": 4
}
