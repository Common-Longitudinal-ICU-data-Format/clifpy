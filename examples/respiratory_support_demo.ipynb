{
 "cells": [
  {
   "cell_type": "code",
   "execution_count": null,
   "id": "471dec16",
   "metadata": {},
   "outputs": [],
   "source": [
    "import sys\n",
    "from pathlib import Path\n",
    "from clifpy import Patient, Hospitalization, Adt, RespiratorySupport"
   ]
  },
  {
   "cell_type": "code",
   "execution_count": 3,
   "id": "7481413f",
   "metadata": {},
   "outputs": [],
   "source": [
    "def find_project_root(start=None):\n",
    "    p = Path(start or Path.cwd())\n",
    "    for d in [p, *p.parents]:\n",
    "        if (d / \"pyproject.toml\").exists() or (d / \"clifpy\").is_dir():\n",
    "            return d\n",
    "    return p\n",
    "\n",
    "project_root = find_project_root()\n",
    "if str(project_root) not in sys.path:\n",
    "    sys.path.insert(0, str(project_root))\n",
    "DATA_DIR = (project_root / \"clifpy\" / \"data\" / \"clif_demo\").resolve()\n",
    "OUTPUT_DIR = (project_root / \"examples\" / \"output\").resolve()\n",
    "FILETYPE = \"parquet\"\n",
    "TIMEZONE = \"US/Eastern\""
   ]
  },
  {
   "cell_type": "code",
   "execution_count": 6,
   "id": "63f4cb7f",
   "metadata": {},
   "outputs": [
    {
     "name": "stdout",
     "output_type": "stream",
     "text": [
      "Loading clif_patient.parquet\n",
      "Data loaded successfully from clif_patient.parquet\n",
      "death_dttm: null count before conversion= 85\n",
      "death_dttm: Your timezone is UTC, Converting to your site timezone (US/Eastern).\n",
      "death_dttm: null count after conversion= 85\n",
      "Loading clif_hospitalization.parquet\n",
      "Data loaded successfully from clif_hospitalization.parquet\n",
      "admission_dttm: null count before conversion= 0\n",
      "admission_dttm: Your timezone is UTC, Converting to your site timezone (US/Eastern).\n",
      "admission_dttm: null count after conversion= 0\n",
      "discharge_dttm: null count before conversion= 0\n",
      "discharge_dttm: Your timezone is UTC, Converting to your site timezone (US/Eastern).\n",
      "discharge_dttm: null count after conversion= 0\n",
      "Loading clif_adt.parquet\n",
      "Data loaded successfully from clif_adt.parquet\n",
      "in_dttm: null count before conversion= 0\n",
      "in_dttm: Your timezone is UTC, Converting to your site timezone (US/Eastern).\n",
      "in_dttm: null count after conversion= 0\n",
      "out_dttm: null count before conversion= 275\n",
      "out_dttm: Your timezone is UTC, Converting to your site timezone (US/Eastern).\n",
      "out_dttm: null count after conversion= 275\n",
      "Loading clif_respiratory_support.parquet\n",
      "Data loaded successfully from clif_respiratory_support.parquet\n",
      "recorded_dttm: null count before conversion= 0\n",
      "recorded_dttm: Your timezone is UTC, Converting to your site timezone (US/Eastern).\n",
      "recorded_dttm: null count after conversion= 0\n"
     ]
    }
   ],
   "source": [
    "patient_table = Patient.from_file(\n",
    "    data_directory=str(DATA_DIR),\n",
    "    filetype=FILETYPE,\n",
    "    timezone=TIMEZONE,\n",
    "    output_directory=str(OUTPUT_DIR),\n",
    ")\n",
    "\n",
    "hospitalization_table = Hospitalization.from_file(\n",
    "    data_directory=str(DATA_DIR),\n",
    "    filetype=FILETYPE,\n",
    "    timezone=TIMEZONE,\n",
    "    output_directory=str(OUTPUT_DIR),\n",
    ")\n",
    "\n",
    "adt_table = Adt.from_file(\n",
    "    data_directory=str(DATA_DIR),\n",
    "    filetype=FILETYPE,\n",
    "    timezone=TIMEZONE,\n",
    "    output_directory=str(OUTPUT_DIR),\n",
    ")\n",
    "\n",
    "resp_support_table = RespiratorySupport.from_file(\n",
    "    data_directory=str(DATA_DIR),\n",
    "    filetype=FILETYPE,\n",
    "    timezone=TIMEZONE,\n",
    "    output_directory=str(OUTPUT_DIR),\n",
    ")"
   ]
  },
  {
   "cell_type": "code",
   "execution_count": 7,
   "id": "afbe904e",
   "metadata": {},
   "outputs": [
    {
     "name": "stdout",
     "output_type": "stream",
     "text": [
      "Validation completed with 2 error(s). See `errors` attribute.\n"
     ]
    }
   ],
   "source": [
    "resp_support_table.validate()"
   ]
  },
  {
   "cell_type": "code",
   "execution_count": 10,
   "id": "44b0767c",
   "metadata": {},
   "outputs": [
    {
     "data": {
      "text/plain": [
       "[{'type': 'null_values', 'column': 'device_category', 'count': 763},\n",
       " {'type': 'datatype_mismatch', 'column': 'tracheostomy', 'expected': 'INT'}]"
      ]
     },
     "execution_count": 10,
     "metadata": {},
     "output_type": "execute_result"
    }
   ],
   "source": [
    "resp_support_table.errors"
   ]
  },
  {
   "cell_type": "code",
   "execution_count": 11,
   "id": "0012ca7c",
   "metadata": {},
   "outputs": [
    {
     "data": {
      "text/plain": [
       "False"
      ]
     },
     "execution_count": 11,
     "metadata": {},
     "output_type": "execute_result"
    }
   ],
   "source": [
    "resp_support_table.isvalid()"
   ]
  }
 ],
 "metadata": {
  "kernelspec": {
   "display_name": ".venv",
   "language": "python",
   "name": "python3"
  },
  "language_info": {
   "codemirror_mode": {
    "name": "ipython",
    "version": 3
   },
   "file_extension": ".py",
   "mimetype": "text/x-python",
   "name": "python",
   "nbconvert_exporter": "python",
   "pygments_lexer": "ipython3",
   "version": "3.11.11"
  }
 },
 "nbformat": 4,
 "nbformat_minor": 5
}
