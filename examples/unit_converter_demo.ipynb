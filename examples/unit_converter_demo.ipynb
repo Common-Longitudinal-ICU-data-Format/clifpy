{
 "cells": [
  {
   "cell_type": "markdown",
   "metadata": {},
   "source": [
    "# Unit Converter Demo\n",
    "\n",
    "Demonstration of `standardize_dose_to_limited_units()` using CLIF medication data."
   ]
  },
  {
   "cell_type": "code",
   "execution_count": 1,
   "metadata": {},
   "outputs": [],
   "source": [
    "import pandas as pd\n",
    "import sys\n",
    "from pathlib import Path\n",
    "\n",
    "# Add parent directory to path\n",
    "sys.path.append(str(Path().absolute().parent))\n",
    "\n",
    "from clifpy.utils.unit_converter import standardize_dose_to_limited_units"
   ]
  },
  {
   "cell_type": "markdown",
   "metadata": {},
   "source": [
    "## Load CLIF Medication Data"
   ]
  },
  {
   "cell_type": "code",
   "execution_count": 2,
   "metadata": {},
   "outputs": [
    {
     "name": "stdout",
     "output_type": "stream",
     "text": [
      "Loaded 6810 medication records\n",
      "Unique dose units: 8\n",
      "\n",
      "Dose unit distribution:\n",
      "med_dose_unit\n",
      "mcg/kg/min     2780\n",
      "mL/hour        2105\n",
      "units/hour      601\n",
      "mcg/hour        511\n",
      "mcg/kg/hour     300\n",
      "mg/hour         282\n",
      "mg/min           95\n",
      "grams/hour       12\n",
      "Name: count, dtype: int64\n"
     ]
    }
   ],
   "source": [
    "# Load medication data\n",
    "med_df = pd.read_parquet('../clifpy/data/clif_demo/clif_medication_admin_continuous.parquet')\n",
    "\n",
    "# Add weight_kg column (using dummy weights for demo)\n",
    "med_df['weight_kg'] = 75.0  # Default weight for demo\n",
    "\n",
    "print(f\"Loaded {len(med_df)} medication records\")\n",
    "print(f\"Unique dose units: {med_df['med_dose_unit'].nunique()}\")\n",
    "print(\"\\nDose unit distribution:\")\n",
    "print(med_df['med_dose_unit'].value_counts())"
   ]
  },
  {
   "cell_type": "markdown",
   "metadata": {},
   "source": [
    "## Run Standardization"
   ]
  },
  {
   "cell_type": "code",
   "execution_count": 3,
   "metadata": {},
   "outputs": [
    {
     "name": "stdout",
     "output_type": "stream",
     "text": [
      "Conversion complete!\n"
     ]
    }
   ],
   "source": [
    "# Prepare required columns\n",
    "input_df = med_df[['hospitalization_id', 'admin_dttm', 'med_dose', 'med_dose_unit', 'weight_kg']].copy()\n",
    "\n",
    "# Rename for compatibility\n",
    "input_df = input_df.rename(columns={'med_dose_unit': 'med_dose_unit'})\n",
    "\n",
    "# Run standardization\n",
    "converted_df, counts_df = standardize_dose_to_limited_units(input_df)\n",
    "\n",
    "print(\"Conversion complete!\")"
   ]
  },
  {
   "cell_type": "markdown",
   "metadata": {},
   "source": [
    "## Output 1: Converted Data"
   ]
  },
  {
   "cell_type": "code",
   "execution_count": 4,
   "metadata": {},
   "outputs": [
    {
     "name": "stdout",
     "output_type": "stream",
     "text": [
      "Sample conversions:\n"
     ]
    },
    {
     "data": {
      "text/html": [
       "<div>\n",
       "<style scoped>\n",
       "    .dataframe tbody tr th:only-of-type {\n",
       "        vertical-align: middle;\n",
       "    }\n",
       "\n",
       "    .dataframe tbody tr th {\n",
       "        vertical-align: top;\n",
       "    }\n",
       "\n",
       "    .dataframe thead th {\n",
       "        text-align: right;\n",
       "    }\n",
       "</style>\n",
       "<table border=\"1\" class=\"dataframe\">\n",
       "  <thead>\n",
       "    <tr style=\"text-align: right;\">\n",
       "      <th></th>\n",
       "      <th>med_dose</th>\n",
       "      <th>med_dose_unit</th>\n",
       "      <th>med_dose_unit_normalized</th>\n",
       "      <th>med_dose_converted</th>\n",
       "      <th>med_dose_unit_converted</th>\n",
       "      <th>unit_class</th>\n",
       "    </tr>\n",
       "  </thead>\n",
       "  <tbody>\n",
       "    <tr>\n",
       "      <th>0</th>\n",
       "      <td>5.000000</td>\n",
       "      <td>mL/hour</td>\n",
       "      <td>ml/hr</td>\n",
       "      <td>0.083333</td>\n",
       "      <td>ml/min</td>\n",
       "      <td>rate</td>\n",
       "    </tr>\n",
       "    <tr>\n",
       "      <th>46</th>\n",
       "      <td>40.064104</td>\n",
       "      <td>mcg/kg/min</td>\n",
       "      <td>mcg/kg/min</td>\n",
       "      <td>3004.807793</td>\n",
       "      <td>mcg/min</td>\n",
       "      <td>rate</td>\n",
       "    </tr>\n",
       "    <tr>\n",
       "      <th>56</th>\n",
       "      <td>2.000000</td>\n",
       "      <td>units/hour</td>\n",
       "      <td>u/hr</td>\n",
       "      <td>0.033333</td>\n",
       "      <td>u/min</td>\n",
       "      <td>rate</td>\n",
       "    </tr>\n",
       "    <tr>\n",
       "      <th>157</th>\n",
       "      <td>5.000000</td>\n",
       "      <td>mg/hour</td>\n",
       "      <td>mg/hr</td>\n",
       "      <td>83.333325</td>\n",
       "      <td>mcg/min</td>\n",
       "      <td>rate</td>\n",
       "    </tr>\n",
       "    <tr>\n",
       "      <th>232</th>\n",
       "      <td>NaN</td>\n",
       "      <td>None</td>\n",
       "      <td>None</td>\n",
       "      <td>NaN</td>\n",
       "      <td>None</td>\n",
       "      <td>unrecognized</td>\n",
       "    </tr>\n",
       "    <tr>\n",
       "      <th>247</th>\n",
       "      <td>25.000002</td>\n",
       "      <td>mcg/hour</td>\n",
       "      <td>mcg/hr</td>\n",
       "      <td>0.416667</td>\n",
       "      <td>mcg/min</td>\n",
       "      <td>rate</td>\n",
       "    </tr>\n",
       "    <tr>\n",
       "      <th>257</th>\n",
       "      <td>1.000000</td>\n",
       "      <td>mg/min</td>\n",
       "      <td>mg/min</td>\n",
       "      <td>1000.000000</td>\n",
       "      <td>mcg/min</td>\n",
       "      <td>rate</td>\n",
       "    </tr>\n",
       "    <tr>\n",
       "      <th>344</th>\n",
       "      <td>0.702905</td>\n",
       "      <td>mcg/kg/hour</td>\n",
       "      <td>mcg/kg/hr</td>\n",
       "      <td>0.878632</td>\n",
       "      <td>mcg/min</td>\n",
       "      <td>rate</td>\n",
       "    </tr>\n",
       "    <tr>\n",
       "      <th>1266</th>\n",
       "      <td>4.000000</td>\n",
       "      <td>grams/hour</td>\n",
       "      <td>g/hr</td>\n",
       "      <td>66666.666667</td>\n",
       "      <td>mcg/min</td>\n",
       "      <td>rate</td>\n",
       "    </tr>\n",
       "  </tbody>\n",
       "</table>\n",
       "</div>"
      ],
      "text/plain": [
       "       med_dose med_dose_unit med_dose_unit_normalized  med_dose_converted  \\\n",
       "0      5.000000       mL/hour                    ml/hr            0.083333   \n",
       "46    40.064104    mcg/kg/min               mcg/kg/min         3004.807793   \n",
       "56     2.000000    units/hour                     u/hr            0.033333   \n",
       "157    5.000000       mg/hour                    mg/hr           83.333325   \n",
       "232         NaN          None                     None                 NaN   \n",
       "247   25.000002      mcg/hour                   mcg/hr            0.416667   \n",
       "257    1.000000        mg/min                   mg/min         1000.000000   \n",
       "344    0.702905   mcg/kg/hour                mcg/kg/hr            0.878632   \n",
       "1266   4.000000    grams/hour                     g/hr        66666.666667   \n",
       "\n",
       "     med_dose_unit_converted    unit_class  \n",
       "0                     ml/min          rate  \n",
       "46                   mcg/min          rate  \n",
       "56                     u/min          rate  \n",
       "157                  mcg/min          rate  \n",
       "232                     None  unrecognized  \n",
       "247                  mcg/min          rate  \n",
       "257                  mcg/min          rate  \n",
       "344                  mcg/min          rate  \n",
       "1266                 mcg/min          rate  "
      ]
     },
     "execution_count": 4,
     "metadata": {},
     "output_type": "execute_result"
    }
   ],
   "source": [
    "# Show sample conversions\n",
    "display_cols = ['med_dose', 'med_dose_unit', 'med_dose_unit_normalized', \n",
    "                'med_dose_converted', 'med_dose_unit_converted', 'unit_class']\n",
    "\n",
    "print(\"Sample conversions:\")\n",
    "converted_df[display_cols].drop_duplicates('med_dose_unit').head(10)"
   ]
  },
  {
   "cell_type": "markdown",
   "metadata": {},
   "source": [
    "## Output 2: Conversion Counts Summary"
   ]
  },
  {
   "cell_type": "code",
   "execution_count": 7,
   "metadata": {},
   "outputs": [
    {
     "name": "stdout",
     "output_type": "stream",
     "text": [
      "Conversion patterns summary:\n"
     ]
    },
    {
     "data": {
      "text/html": [
       "<div>\n",
       "<style scoped>\n",
       "    .dataframe tbody tr th:only-of-type {\n",
       "        vertical-align: middle;\n",
       "    }\n",
       "\n",
       "    .dataframe tbody tr th {\n",
       "        vertical-align: top;\n",
       "    }\n",
       "\n",
       "    .dataframe thead th {\n",
       "        text-align: right;\n",
       "    }\n",
       "</style>\n",
       "<table border=\"1\" class=\"dataframe\">\n",
       "  <thead>\n",
       "    <tr style=\"text-align: right;\">\n",
       "      <th></th>\n",
       "      <th>med_dose_unit</th>\n",
       "      <th>med_dose_unit_normalized</th>\n",
       "      <th>med_dose_unit_converted</th>\n",
       "      <th>unit_class</th>\n",
       "      <th>count</th>\n",
       "    </tr>\n",
       "  </thead>\n",
       "  <tbody>\n",
       "    <tr>\n",
       "      <th>0</th>\n",
       "      <td>mcg/kg/min</td>\n",
       "      <td>mcg/kg/min</td>\n",
       "      <td>mcg/min</td>\n",
       "      <td>rate</td>\n",
       "      <td>2780</td>\n",
       "    </tr>\n",
       "    <tr>\n",
       "      <th>1</th>\n",
       "      <td>None</td>\n",
       "      <td>None</td>\n",
       "      <td>None</td>\n",
       "      <td>unrecognized</td>\n",
       "      <td>124</td>\n",
       "    </tr>\n",
       "    <tr>\n",
       "      <th>2</th>\n",
       "      <td>mg/hour</td>\n",
       "      <td>mg/hr</td>\n",
       "      <td>mcg/min</td>\n",
       "      <td>rate</td>\n",
       "      <td>282</td>\n",
       "    </tr>\n",
       "    <tr>\n",
       "      <th>3</th>\n",
       "      <td>mcg/hour</td>\n",
       "      <td>mcg/hr</td>\n",
       "      <td>mcg/min</td>\n",
       "      <td>rate</td>\n",
       "      <td>511</td>\n",
       "    </tr>\n",
       "    <tr>\n",
       "      <th>4</th>\n",
       "      <td>mL/hour</td>\n",
       "      <td>ml/hr</td>\n",
       "      <td>ml/min</td>\n",
       "      <td>rate</td>\n",
       "      <td>2105</td>\n",
       "    </tr>\n",
       "    <tr>\n",
       "      <th>5</th>\n",
       "      <td>units/hour</td>\n",
       "      <td>u/hr</td>\n",
       "      <td>u/min</td>\n",
       "      <td>rate</td>\n",
       "      <td>601</td>\n",
       "    </tr>\n",
       "    <tr>\n",
       "      <th>6</th>\n",
       "      <td>mg/min</td>\n",
       "      <td>mg/min</td>\n",
       "      <td>mcg/min</td>\n",
       "      <td>rate</td>\n",
       "      <td>95</td>\n",
       "    </tr>\n",
       "    <tr>\n",
       "      <th>7</th>\n",
       "      <td>mcg/kg/hour</td>\n",
       "      <td>mcg/kg/hr</td>\n",
       "      <td>mcg/min</td>\n",
       "      <td>rate</td>\n",
       "      <td>300</td>\n",
       "    </tr>\n",
       "    <tr>\n",
       "      <th>8</th>\n",
       "      <td>grams/hour</td>\n",
       "      <td>g/hr</td>\n",
       "      <td>mcg/min</td>\n",
       "      <td>rate</td>\n",
       "      <td>12</td>\n",
       "    </tr>\n",
       "  </tbody>\n",
       "</table>\n",
       "</div>"
      ],
      "text/plain": [
       "  med_dose_unit med_dose_unit_normalized med_dose_unit_converted  \\\n",
       "0    mcg/kg/min               mcg/kg/min                 mcg/min   \n",
       "1          None                     None                    None   \n",
       "2       mg/hour                    mg/hr                 mcg/min   \n",
       "3      mcg/hour                   mcg/hr                 mcg/min   \n",
       "4       mL/hour                    ml/hr                  ml/min   \n",
       "5    units/hour                     u/hr                   u/min   \n",
       "6        mg/min                   mg/min                 mcg/min   \n",
       "7   mcg/kg/hour                mcg/kg/hr                 mcg/min   \n",
       "8    grams/hour                     g/hr                 mcg/min   \n",
       "\n",
       "     unit_class  count  \n",
       "0          rate   2780  \n",
       "1  unrecognized    124  \n",
       "2          rate    282  \n",
       "3          rate    511  \n",
       "4          rate   2105  \n",
       "5          rate    601  \n",
       "6          rate     95  \n",
       "7          rate    300  \n",
       "8          rate     12  "
      ]
     },
     "execution_count": 7,
     "metadata": {},
     "output_type": "execute_result"
    }
   ],
   "source": [
    "# Show conversion patterns and frequencies\n",
    "print(\"Conversion patterns summary:\")\n",
    "counts_df #.sort_values('count', ascending=False)"
   ]
  },
  {
   "cell_type": "markdown",
   "metadata": {},
   "source": [
    "## Summary Statistics"
   ]
  },
  {
   "cell_type": "code",
   "execution_count": 6,
   "metadata": {},
   "outputs": [
    {
     "name": "stdout",
     "output_type": "stream",
     "text": [
      "Total records: 6810\n",
      "Successfully converted: 6686 (98.2%)\n",
      "\n",
      "Standardized output units:\n",
      "  mcg/min: 3980 records\n",
      "  ml/min: 2105 records\n",
      "  u/min: 601 records\n"
     ]
    }
   ],
   "source": [
    "# Conversion statistics\n",
    "total = len(converted_df)\n",
    "converted = converted_df['med_dose_unit_converted'].notna().sum()\n",
    "\n",
    "print(f\"Total records: {total}\")\n",
    "print(f\"Successfully converted: {converted} ({100*converted/total:.1f}%)\")\n",
    "print(f\"\\nStandardized output units:\")\n",
    "for unit in sorted(converted_df['med_dose_unit_converted'].dropna().unique()):\n",
    "    count = (converted_df['med_dose_unit_converted'] == unit).sum()\n",
    "    print(f\"  {unit}: {count} records\")"
   ]
  }
 ],
 "metadata": {
  "kernelspec": {
   "display_name": ".venv",
   "language": "python",
   "name": "python3"
  },
  "language_info": {
   "codemirror_mode": {
    "name": "ipython",
    "version": 3
   },
   "file_extension": ".py",
   "mimetype": "text/x-python",
   "name": "python",
   "nbconvert_exporter": "python",
   "pygments_lexer": "ipython3",
   "version": "3.10.4"
  }
 },
 "nbformat": 4,
 "nbformat_minor": 4
}
