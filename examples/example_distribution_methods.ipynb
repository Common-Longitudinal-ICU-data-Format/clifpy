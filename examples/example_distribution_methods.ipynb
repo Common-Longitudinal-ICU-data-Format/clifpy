{
 "cells": [
  {
   "cell_type": "markdown",
   "metadata": {},
   "source": [
    "# Examples on ditribution methods\n",
    "\n",
    "This notebook demonstrates the distribution analysis methods added to the BaseTable class:\n",
    "1. `analyze_categorical_distributions()` - For categorical variable distributions\n",
    "2. `calculate_ecdf()` - For continuous variable ECDF calculations\n"
   ]
  },
  {
   "cell_type": "markdown",
   "metadata": {},
   "source": [
    "## Setup and Data Loading"
   ]
  },
  {
   "cell_type": "code",
   "execution_count": null,
   "metadata": {},
   "outputs": [],
   "source": [
    "import sys\n",
    "from pathlib import Path\n",
    "from clifpy.tables.labs import Labs\n"
   ]
  },
  {
   "cell_type": "code",
   "execution_count": 5,
   "metadata": {},
   "outputs": [
    {
     "name": "stdout",
     "output_type": "stream",
     "text": [
      "Data directory: /Users/dema/WD/clifpy/clifpy/data/clif_demo\n",
      "Output directory: /Users/dema/WD/clifpy/examples/output\n"
     ]
    }
   ],
   "source": [
    "def find_project_root(start=None):\n",
    "    p = Path(start or Path.cwd())\n",
    "    for d in [p, *p.parents]:\n",
    "        if (d / \"pyproject.toml\").exists() or (d / \"clifpy\").is_dir():\n",
    "            return d\n",
    "    return p\n",
    "\n",
    "project_root = find_project_root()\n",
    "if str(project_root) not in sys.path:\n",
    "    sys.path.insert(0, str(project_root))\n",
    "DATA_DIR = (project_root / \"clifpy\" / \"data\" / \"clif_demo\").resolve()\n",
    "OUTPUT_DIR = (project_root / \"examples\" / \"output\").resolve()\n",
    "FILETYPE = \"parquet\"\n",
    "TIMEZONE = \"US/Eastern\"\n",
    "\n",
    "print(f\"Data directory: {DATA_DIR}\")\n",
    "print(f\"Output directory: {OUTPUT_DIR}\")"
   ]
  },
  {
   "cell_type": "markdown",
   "metadata": {},
   "source": [
    "## Load Labs Table"
   ]
  },
  {
   "cell_type": "code",
   "execution_count": null,
   "metadata": {},
   "outputs": [],
   "source": [
    "labs_table = Labs.from_file(\n",
    "    data_directory=DATA_DIR,\n",
    "    filetype=FILETYPE,\n",
    "    timezone=TIMEZONE,\n",
    "    output_directory=OUTPUT_DIR\n",
    ")"
   ]
  },
  {
   "cell_type": "markdown",
   "metadata": {},
   "source": [
    "## Example 1: Categorical Distribution Analysis"
   ]
  },
  {
   "cell_type": "markdown",
   "metadata": {},
   "source": [
    "### Overall Categorical Distributions\n",
    "- % = (unique hospitalizations with this lab category) / (total \n",
    "  unique hospitalizations in the entire table) × 100"
   ]
  },
  {
   "cell_type": "code",
   "execution_count": null,
   "metadata": {},
   "outputs": [],
   "source": [
    "cat_distributions = labs_table.analyze_categorical_distributions()\n",
    "\n",
    "cat_distributions"
   ]
  },
  {
   "cell_type": "code",
   "execution_count": null,
   "metadata": {},
   "outputs": [],
   "source": [
    "cat_distributions_plot = labs_table.plot_categorical_distributions() \n",
    "cat_distributions_plot"
   ]
  },
  {
   "cell_type": "markdown",
   "metadata": {},
   "source": [
    "## Example 2: ECDF Calculation for Continuous Variables"
   ]
  },
  {
   "cell_type": "code",
   "execution_count": null,
   "metadata": {},
   "outputs": [],
   "source": [
    "from clifpy.tables.vitals import Vitals\n",
    "vitals_table = Vitals.from_file(\n",
    "    data_directory=DATA_DIR,\n",
    "    filetype=FILETYPE,\n",
    "    timezone=TIMEZONE,\n",
    "    output_directory=OUTPUT_DIR\n",
    ")"
   ]
  },
  {
   "cell_type": "code",
   "execution_count": null,
   "metadata": {},
   "outputs": [],
   "source": [
    "ecdf_plot_vitals = vitals_table.plot_stratified_ecdf('vital_value', 'vital_category')"
   ]
  },
  {
   "cell_type": "code",
   "execution_count": null,
   "metadata": {},
   "outputs": [],
   "source": [
    "ecdf_plot_B = labs_table.plot_stratified_ecdf('lab_value_numeric','lab_category', category_values=['bun', 'creatinine', 'sodium'])\n"
   ]
  }
 ],
 "metadata": {
  "kernelspec": {
   "display_name": "Python 3",
   "language": "python",
   "name": "python3"
  },
  "language_info": {
   "codemirror_mode": {
    "name": "ipython",
    "version": 3
   },
   "file_extension": ".py",
   "mimetype": "text/x-python",
   "name": "python",
   "nbconvert_exporter": "python",
   "pygments_lexer": "ipython3",
   "version": "3.9.6"
  }
 },
 "nbformat": 4,
 "nbformat_minor": 4
}
