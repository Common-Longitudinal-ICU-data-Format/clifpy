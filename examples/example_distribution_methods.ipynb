{
 "cells": [
  {
   "cell_type": "markdown",
   "metadata": {},
   "source": [
    "# Test ECDF Calculation \n",
    "\n",
    "This notebook tests the `calculate_stratified_ecdf` method to identify why it returns empty results."
   ]
  },
  {
   "cell_type": "code",
   "execution_count": null,
   "metadata": {},
   "outputs": [],
   "source": [
    "import sys\n",
    "from pathlib import Path\n",
    "import pandas as pd\n",
    "import polars as pl\n",
    "\n",
    "# Setup paths\n",
    "project_root = Path.cwd()\n",
    "if str(project_root) not in sys.path:\n",
    "    sys.path.insert(0, str(project_root))\n",
    "\n",
    "DATA_DIR = \"/Users/dema/Downloads/WIP_2_1_1001\"\n",
    "OUTPUT_DIR = Path(\"./test_output\").resolve()\n",
    "OUTPUT_DIR.mkdir(exist_ok=True)\n",
    "\n",
    "FILETYPE = \"parquet\"\n",
    "TIMEZONE = \"UTC\"\n"
   ]
  },
  {
   "cell_type": "code",
   "execution_count": null,
   "metadata": {},
   "outputs": [],
   "source": [
    "# Force reload modules to ensure we get latest code\n",
    "import importlib\n",
    "\n",
    "if 'clifpy.tables.base_table' in sys.modules:\n",
    "    importlib.reload(sys.modules['clifpy.tables.base_table'])\n",
    "if 'clifpy.tables.labs' in sys.modules:\n",
    "    importlib.reload(sys.modules['clifpy.tables.labs'])\n",
    "\n",
    "from clifpy.tables.labs import Labs\n",
    "\n",
    "print(\"Modules loaded successfully\")"
   ]
  },
  {
   "cell_type": "code",
   "execution_count": null,
   "metadata": {},
   "outputs": [],
   "source": [
    "# Load Labs table\n",
    "print(\"Loading Labs table...\")\n",
    "labs_table = Labs.from_file(\n",
    "    data_directory=DATA_DIR,\n",
    "    filetype=FILETYPE,\n",
    "    timezone=TIMEZONE,\n",
    "    output_directory=OUTPUT_DIR\n",
    ")\n",
    "print(f\"Labs table loaded successfully!\")\n",
    "print(f\"Shape: {labs_table.df.shape}\")"
   ]
  },
  {
   "cell_type": "code",
   "execution_count": null,
   "metadata": {},
   "outputs": [],
   "source": [
    "\n",
    "import time\n",
    "start_time = time.time()\n",
    "dist = labs_table.calculate_stratified_ecdf(\n",
    "    value_column=\"lab_value_numeric\",\n",
    "    category_column=\"lab_category\"\n",
    ")\n",
    "end_time = time.time()\n",
    "print(f\"ECDF calculation took {end_time - start_time:.2f} seconds\")\n",
    "\n"
   ]
  },
  {
   "cell_type": "code",
   "execution_count": null,
   "metadata": {},
   "outputs": [],
   "source": [
    "dist2 = labs_table.calculate_stratified_ecdf(\n",
    "    value_column=\"lab_value_numeric\",\n",
    "    category_column=\"lab_category\",\n",
    "    category_values=[\"albumin\"]\n",
    ")"
   ]
  },
  {
   "cell_type": "code",
   "execution_count": null,
   "metadata": {},
   "outputs": [],
   "source": [
    "dist2"
   ]
  }
 ],
 "metadata": {
  "kernelspec": {
   "display_name": "Python 3",
   "language": "python",
   "name": "python3"
  },
  "language_info": {
   "codemirror_mode": {
    "name": "ipython",
    "version": 3
   },
   "file_extension": ".py",
   "mimetype": "text/x-python",
   "name": "python",
   "nbconvert_exporter": "python",
   "pygments_lexer": "ipython3",
   "version": "3.9.6"
  }
 },
 "nbformat": 4,
 "nbformat_minor": 4
}
