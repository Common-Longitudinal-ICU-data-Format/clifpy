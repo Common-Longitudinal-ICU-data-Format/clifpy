{
 "cells": [
  {
   "cell_type": "markdown",
   "metadata": {},
   "source": [
    "# 🔧 CLIF Configuration Loading Demo\n",
    "\n",
    "This notebook demonstrates the **three ways** to load CLIF data using the new configuration file feature:\n",
    "\n",
    "1. **Direct Parameters** - Traditional explicit parameter method (backward compatible)\n",
    "2. **Config File Path** - Specify path to a configuration JSON file\n",
    "3. **Auto-detect** - Automatically find `config.json` in the current directory\n",
    "\n",
    "The configuration feature makes it easier to:\n",
    "- 🎯 Maintain consistent settings across projects\n",
    "- 🔄 Switch between different environments (dev/prod)\n",
    "- 📝 Reduce boilerplate code\n",
    "- ⚙️ Share configurations with team members"
   ]
  },
  {
   "cell_type": "markdown",
   "metadata": {},
   "source": [
    "## 📋 Setup & Imports"
   ]
  },
  {
   "cell_type": "code",
   "execution_count": null,
   "metadata": {},
   "outputs": [],
   "source": [
    "# Environment setup\n",
    "import sys\n",
    "import json\n",
    "from pathlib import Path\n",
    "import pandas as pd\n",
    "\n",
    "# Add repository root to sys.path for importing clifpy\n",
    "project_root = Path().cwd().parent  # assuming we're in examples/ directory\n",
    "if str(project_root) not in sys.path:\n",
    "    sys.path.insert(0, str(project_root))\n",
    "\n",
    "# Import CLIF classes\n",
    "from clifpy import Patient, Hospitalization, Labs, Vitals\n",
    "from clifpy import ClifOrchestrator\n",
    "from clifpy.utils.config import create_example_config, load_config\n",
    "\n",
    "print(\"✅ Imports successful!\")\n",
    "print(f\"📁 Project root: {project_root}\")"
   ]
  },
  {
   "cell_type": "code",
   "execution_count": null,
   "metadata": {},
   "outputs": [],
   "source": [
    "# Helper function to show configuration details\n",
    "def show_config_info(table_obj, method_name):\n",
    "    \"\"\"Display configuration details for a loaded table.\"\"\"\n",
    "    print(f\"\\n🔍 {method_name} Results:\")\n",
    "    print(f\"   📊 Rows loaded: {len(table_obj.df)}\")\n",
    "    print(f\"   📂 Data directory: {table_obj.data_directory}\")\n",
    "    print(f\"   📄 File type: {table_obj.filetype}\")\n",
    "    print(f\"   🕐 Timezone: {table_obj.timezone}\")\n",
    "    print(f\"   📤 Output directory: {table_obj.output_directory}\")\n",
    "    return table_obj.get_summary()"
   ]
  },
  {
   "cell_type": "markdown",
   "metadata": {},
   "source": [
    "## 📋 Check Available Configuration\n",
    "\n",
    "Let's see what configuration files are available in our project."
   ]
  },
  {
   "cell_type": "code",
   "execution_count": null,
   "metadata": {},
   "outputs": [],
   "source": [
    "# Check if config.json exists in project root\n",
    "config_path = project_root / \"config.json\"\n",
    "print(f\"🔍 Looking for config at: {config_path}\")\n",
    "\n",
    "if config_path.exists():\n",
    "    print(\"✅ Config file found!\")\n",
    "    config = load_config(str(config_path))\n",
    "    print(\"📋 Current configuration:\")\n",
    "    for key, value in config.items():\n",
    "        print(f\"   {key}: {value}\")\n",
    "else:\n",
    "    print(\"❌ No config file found. We'll create examples below.\")"
   ]
  },
  {
   "cell_type": "markdown",
   "metadata": {},
   "source": [
    "---\n",
    "# Method 1: 📝 Direct Parameters (Traditional)\n",
    "\n",
    "This is the **original way** of loading CLIF data - by providing all parameters explicitly. This method remains **fully backward compatible**."
   ]
  },
  {
   "cell_type": "code",
   "execution_count": null,
   "metadata": {},
   "outputs": [],
   "source": [
    "# Method 1: Load Patient table with explicit parameters\n",
    "print(\"🔄 Loading Patient table with direct parameters...\")\n",
    "\n",
    "patient_direct = Patient.from_file(\n",
    "    data_directory=\"../clifpy/data/clif_demo\",\n",
    "    filetype=\"parquet\",\n",
    "    timezone=\"US/Eastern\",\n",
    "    sample_size=5\n",
    ")\n",
    "\n",
    "summary1 = show_config_info(patient_direct, \"Method 1 - Direct Parameters\")\n",
    "print(f\"\\n📊 Sample of data:\")\n",
    "patient_direct.df.head(2)"
   ]
  },
  {
   "cell_type": "code",
   "execution_count": null,
   "metadata": {},
   "outputs": [],
   "source": [
    "# Load another table with different parameters\n",
    "print(\"🔄 Loading Hospitalization table with different timezone...\")\n",
    "\n",
    "hosp_direct = Hospitalization.from_file(\n",
    "    data_directory=\"../clifpy/data/clif_demo\",\n",
    "    filetype=\"parquet\",\n",
    "    timezone=\"UTC\",  # Different timezone\n",
    "    sample_size=3\n",
    ")\n",
    "\n",
    "show_config_info(hosp_direct, \"Hospitalization - Direct Parameters\")"
   ]
  },
  {
   "cell_type": "markdown",
   "metadata": {},
   "source": [
    "---\n",
    "# Method 2: 📄 Config File Path\n",
    "\n",
    "Specify the path to a **configuration JSON file**. This method allows you to:\n",
    "- Store configuration separately from code\n",
    "- Use different configs for different environments\n",
    "- Override config values with parameters when needed"
   ]
  },
  {
   "cell_type": "code",
   "execution_count": null,
   "metadata": {},
   "outputs": [],
   "source": [
    "# Create a custom configuration file for demo\n",
    "custom_config_path = \"./demo_config.json\"\n",
    "\n",
    "create_example_config(\n",
    "    data_directory=\"../clifpy/data/clif_demo\",\n",
    "    filetype=\"parquet\",\n",
    "    timezone=\"US/Central\",\n",
    "    output_directory=\"./custom_output\",\n",
    "    config_path=custom_config_path\n",
    ")\n",
    "\n",
    "print(f\"✅ Created custom config at: {custom_config_path}\")\n",
    "\n",
    "# Display the config contents\n",
    "with open(custom_config_path, 'r') as f:\n",
    "    config_contents = json.load(f)\n",
    "print(\"📋 Custom config contents:\")\n",
    "for key, value in config_contents.items():\n",
    "    print(f\"   {key}: {value}\")"
   ]
  },
  {
   "cell_type": "code",
   "execution_count": null,
   "metadata": {},
   "outputs": [],
   "source": [
    "# Method 2: Load Patient table using config file path\n",
    "print(\"🔄 Loading Patient table from custom config file...\")\n",
    "\n",
    "patient_config = Patient.from_file(\n",
    "    config_path=custom_config_path,\n",
    "    sample_size=4\n",
    ")\n",
    "\n",
    "show_config_info(patient_config, \"Method 2 - Config File Path\")"
   ]
  },
  {
   "cell_type": "code",
   "execution_count": null,
   "metadata": {},
   "outputs": [],
   "source": [
    "# Method 2b: Use config file BUT override specific parameters\n",
    "print(\"🔄 Loading Labs table with config + parameter overrides...\")\n",
    "\n",
    "labs_override = Labs.from_file(\n",
    "    config_path=custom_config_path,\n",
    "    timezone=\"UTC\",  # Override timezone from config\n",
    "    sample_size=6,\n",
    "    columns=[ \"hospitalization_id\", \"lab_category\", \"lab_value_numeric\"]  # Select specific columns\n",
    ")\n",
    "\n",
    "show_config_info(labs_override, \"Method 2b - Config + Overrides\")\n",
    "print(f\"\\n📊 Selected columns: {list(labs_override.df.columns)}\")"
   ]
  },
  {
   "cell_type": "markdown",
   "metadata": {},
   "source": [
    "---\n",
    "# Method 3: 🔍 Auto-detect Config\n",
    "\n",
    "The **simplest method** - automatically finds `config.json` in the current working directory. No parameters needed!"
   ]
  },
  {
   "cell_type": "code",
   "execution_count": null,
   "metadata": {},
   "outputs": [],
   "source": [
    "# Method 3: Load Vitals table with auto-detection\n",
    "print(\"🔄 Loading Vitals table with auto-detected config...\")\n",
    "print(\"   (This will look for 'config.json' in the project root)\")\n",
    "\n",
    "try:\n",
    "    vitals_auto = Vitals.from_file(\n",
    "        sample_size=5\n",
    "    )\n",
    "    \n",
    "    show_config_info(vitals_auto, \"Method 3 - Auto-detect\")\n",
    "    \n",
    "except Exception as e:\n",
    "    print(f\"⚠️  Auto-detection failed: {e}\")\n",
    "    print(\"   This might happen if config.json doesn't exist in project root.\")"
   ]
  },
  {
   "cell_type": "code",
   "execution_count": null,
   "metadata": {},
   "outputs": [],
   "source": [
    "# Method 3b: Auto-detect with additional parameters\n",
    "print(\"🔄 Loading Patient table with auto-detect + filters...\")\n",
    "\n",
    "try:\n",
    "    patient_auto_filtered = Patient.from_file(\n",
    "        sample_size=10,\n",
    "        filters={\"gender\": \"M\"}  # Only male patients\n",
    "    )\n",
    "    \n",
    "    show_config_info(patient_auto_filtered, \"Method 3b - Auto-detect + Filters\")\n",
    "    print(f\"\\n📊 Gender distribution:\")\n",
    "    print(patient_auto_filtered.df['gender'].value_counts())\n",
    "    \n",
    "except Exception as e:\n",
    "    print(f\"⚠️  Loading failed: {e}\")"
   ]
  },
  {
   "cell_type": "markdown",
   "metadata": {},
   "source": [
    "---\n",
    "# 🎯 ClifOrchestrator with Configuration\n",
    "\n",
    "The `ClifOrchestrator` also supports all three configuration methods and provides convenient ways to manage multiple tables."
   ]
  },
  {
   "cell_type": "code",
   "execution_count": null,
   "metadata": {},
   "outputs": [],
   "source": [
    "# Orchestrator Method 1: Using config_path parameter\n",
    "print(\"🔄 Creating ClifOrchestrator with config path...\")\n",
    "\n",
    "orch_config = ClifOrchestrator(config_path=custom_config_path)\n",
    "print(f\"✅ Orchestrator created with:\")\n",
    "print(f\"   📂 Data directory: {orch_config.data_directory}\")\n",
    "print(f\"   📄 File type: {orch_config.filetype}\")\n",
    "print(f\"   🕐 Timezone: {orch_config.timezone}\")"
   ]
  },
  {
   "cell_type": "code",
   "execution_count": null,
   "metadata": {},
   "outputs": [],
   "source": [
    "# Orchestrator Method 2: Using from_config() class method\n",
    "print(\"🔄 Creating ClifOrchestrator with from_config() method...\")\n",
    "\n",
    "orch_from_config = ClifOrchestrator.from_config(custom_config_path)\n",
    "print(f\"✅ Orchestrator created successfully!\")"
   ]
  },
  {
   "cell_type": "code",
   "execution_count": null,
   "metadata": {},
   "outputs": [],
   "source": [
    "# Orchestrator Method 3: Auto-detect configuration\n",
    "print(\"🔄 Creating ClifOrchestrator with auto-detect...\")\n",
    "\n",
    "try:\n",
    "    orch_auto = ClifOrchestrator()  # Will look for config.json\n",
    "    print(f\"✅ Orchestrator auto-detected config successfully!\")\n",
    "    print(f\"   📂 Data directory: {orch_auto.data_directory}\")\n",
    "    \n",
    "except Exception as e:\n",
    "    print(f\"⚠️  Auto-detection failed: {e}\")\n",
    "    print(\"   Using the config path method instead...\")\n",
    "    orch_auto = orch_config  # Fallback to previous orchestrator"
   ]
  },
  {
   "cell_type": "code",
   "execution_count": null,
   "metadata": {},
   "outputs": [],
   "source": [
    "# Load multiple tables through the orchestrator\n",
    "print(\"🔄 Loading multiple tables through orchestrator...\")\n",
    "\n",
    "# Load patient table\n",
    "orch_config.load_table('patient', sample_size=3)\n",
    "print(f\"✅ Patient table: {len(orch_config.patient.df)} rows\")\n",
    "\n",
    "# Load hospitalization table with filters\n",
    "orch_config.load_table('hospitalization', \n",
    "                      sample_size=5)\n",
    "print(f\"✅ Hospitalization table: {len(orch_config.hospitalization.df)} rows\")\n",
    "\n",
    "# Load labs table with specific columns\n",
    "orch_config.load_table('labs', \n",
    "                      sample_size=10,\n",
    "                      columns=['lab_category', 'lab_value_numeric'])\n",
    "print(f\"✅ Labs table: {len(orch_config.labs.df)} rows, {len(orch_config.labs.df.columns)} columns\")"
   ]
  },
  {
   "cell_type": "markdown",
   "metadata": {},
   "source": [
    "---\n",
    "# 🚀 Advanced Usage Examples\n",
    "\n",
    "Here are some advanced patterns for using the configuration system effectively."
   ]
  },
  {
   "cell_type": "code",
   "execution_count": null,
   "metadata": {},
   "outputs": [],
   "source": [
    "# Advanced: Different configs for different environments\n",
    "print(\"🔄 Creating environment-specific configurations...\")\n",
    "\n",
    "# Development config\n",
    "create_example_config(\n",
    "    data_directory=\"../clifpy/data/clif_demo\",\n",
    "    filetype=\"parquet\",\n",
    "    timezone=\"US/Eastern\",\n",
    "    output_directory=\"./dev_output\",\n",
    "    config_path=\"./config_dev.json\"\n",
    ")\n",
    "\n",
    "# Production config (different paths, timezone)\n",
    "create_example_config(\n",
    "    data_directory=\"/prod/data/clif\",  # Different path for production\n",
    "    filetype=\"parquet\",\n",
    "    timezone=\"UTC\",  # UTC for production\n",
    "    output_directory=\"/prod/output\",\n",
    "    config_path=\"./config_prod.json\"\n",
    ")\n",
    "\n",
    "print(\"✅ Created config_dev.json and config_prod.json\")\n",
    "print(\"   Switch between environments by changing the config_path parameter!\")"
   ]
  },
  {
   "cell_type": "code",
   "execution_count": null,
   "metadata": {},
   "outputs": [],
   "source": [
    "# Advanced: Configuration with complex filters and column selection\n",
    "print(\"🔄 Advanced usage: Config + complex parameters...\")\n",
    "\n",
    "try:\n",
    "    # Load labs data with complex filtering\n",
    "    labs_advanced = Labs.from_file(\n",
    "        config_path=\"./config_dev.json\",\n",
    "        sample_size=20,\n",
    "        columns=[\n",
    "            \"patient_id\", \n",
    "            \"hospitalization_id\", \n",
    "            \"lab_category\", \n",
    "            \"lab_value_numeric\",\n",
    "            \"lab_collection_dttm\",\n",
    "            \"lab_units\"\n",
    "        ],\n",
    "        filters={\n",
    "            \"lab_category\": [\"chemistry\", \"hematology\"]  # Multiple categories\n",
    "        }\n",
    "    )\n",
    "    \n",
    "    print(f\"✅ Advanced labs loading successful!\")\n",
    "    print(f\"   📊 Rows: {len(labs_advanced.df)}\")\n",
    "    print(f\"   📋 Categories: {labs_advanced.df['lab_category'].unique()}\")\n",
    "    print(f\"   📅 Date range: {labs_advanced.df['lab_collection_dttm'].min()} to {labs_advanced.df['lab_collection_dttm'].max()}\")\n",
    "    \n",
    "except Exception as e:\n",
    "    print(f\"⚠️  Advanced loading failed: {e}\")\n",
    "    print(\"   This might happen if the data directory in config doesn't exist.\")"
   ]
  },
  {
   "cell_type": "markdown",
   "metadata": {},
   "source": [
    "---\n",
    "# ⚠️ Error Handling & Troubleshooting\n",
    "\n",
    "Let's demonstrate what happens when things go wrong and how to handle errors gracefully."
   ]
  },
  {
   "cell_type": "code",
   "execution_count": null,
   "metadata": {},
   "outputs": [],
   "source": [
    "# Error handling: Missing config file\n",
    "print(\"🔍 Testing error handling for missing config file...\")\n",
    "\n",
    "try:\n",
    "    patient_missing_config = Patient.from_file(config_path=\"./nonexistent_config.json\")\n",
    "except FileNotFoundError as e:\n",
    "    print(f\"✅ Correctly caught FileNotFoundError:\")\n",
    "    print(f\"   {str(e)[:100]}...\")"
   ]
  },
  {
   "cell_type": "code",
   "execution_count": null,
   "metadata": {},
   "outputs": [],
   "source": [
    "# Error handling: Incomplete parameters without config\n",
    "print(\"🔍 Testing error handling for incomplete parameters...\")\n",
    "\n",
    "try:\n",
    "    # Move to a directory without config.json to test incomplete params\n",
    "    patient_incomplete = Patient.from_file(\n",
    "        data_directory=\"../clifpy/data/clif_demo\",\n",
    "        # Missing filetype and timezone\n",
    "    )\n",
    "except (ValueError, FileNotFoundError) as e:\n",
    "    print(f\"✅ Correctly caught error for incomplete parameters:\")\n",
    "    print(f\"   {str(e)[:150]}...\")"
   ]
  },
  {
   "cell_type": "code",
   "execution_count": null,
   "metadata": {},
   "outputs": [],
   "source": [
    "# Create an invalid config file to test JSON error handling\n",
    "print(\"🔍 Testing error handling for invalid JSON...\")\n",
    "\n",
    "# Create invalid JSON file\n",
    "with open(\"./invalid_config.json\", \"w\") as f:\n",
    "    f.write('{ \"data_directory\": \"./data\", \"filetype\": \"parquet\" missing_comma \"timezone\": \"UTC\" }')\n",
    "\n",
    "try:\n",
    "    invalid_config = load_config(\"./invalid_config.json\")\n",
    "except json.JSONDecodeError as e:\n",
    "    print(f\"✅ Correctly caught JSONDecodeError:\")\n",
    "    print(f\"   {str(e)[:100]}...\")\n",
    "finally:\n",
    "    # Clean up\n",
    "    import os\n",
    "    if os.path.exists(\"./invalid_config.json\"):\n",
    "        os.remove(\"./invalid_config.json\")"
   ]
  },
  {
   "cell_type": "markdown",
   "metadata": {},
   "source": [
    "---\n",
    "# 📝 Best Practices & Tips\n",
    "\n",
    "## ✅ Configuration Best Practices\n",
    "\n",
    "1. **Version Control**: Add your config files to version control, but consider using environment-specific configs for sensitive paths\n",
    "\n",
    "2. **Environment Separation**: Use different config files for development, staging, and production:\n",
    "   ```python\n",
    "   # Development\n",
    "   orch = ClifOrchestrator(config_path=\"./config_dev.json\")\n",
    "   \n",
    "   # Production  \n",
    "   orch = ClifOrchestrator(config_path=\"./config_prod.json\")\n",
    "   ```\n",
    "\n",
    "3. **Parameter Overrides**: Use config for defaults, override with parameters for specific needs:\n",
    "   ```python\n",
    "   # Use config defaults but override timezone\n",
    "   table = Patient.from_file(config_path=\"./config.json\", timezone=\"UTC\")\n",
    "   ```\n",
    "\n",
    "4. **Auto-detection**: Place `config.json` in your project root for the simplest experience:\n",
    "   ```python\n",
    "   # No parameters needed!\n",
    "   table = Patient.from_file()\n",
    "   ```\n",
    "\n",
    "## 🔄 Migration from Old Code\n",
    "\n",
    "**Your existing code continues to work unchanged!** Gradually migrate by:\n",
    "\n",
    "1. Create a `config.json` with your common settings\n",
    "2. Remove redundant parameters from your code\n",
    "3. Use parameter overrides only when needed"
   ]
  },
  {
   "cell_type": "code",
   "execution_count": null,
   "metadata": {},
   "outputs": [],
   "source": [
    "# Cleanup: Remove temporary config files created during demo\n",
    "import os\n",
    "\n",
    "files_to_cleanup = [\n",
    "    \"./demo_config.json\",\n",
    "    \"./config_dev.json\", \n",
    "    \"./config_prod.json\"\n",
    "]\n",
    "\n",
    "print(\"🧹 Cleaning up temporary config files...\")\n",
    "for file_path in files_to_cleanup:\n",
    "    if os.path.exists(file_path):\n",
    "        os.remove(file_path)\n",
    "        print(f\"   ✅ Removed {file_path}\")\n",
    "\n",
    "print(\"\\n🎉 Demo completed successfully!\")\n",
    "print(\"\\n📚 Summary of the 3 loading methods:\")\n",
    "print(\"   1️⃣  Direct Parameters: Patient.from_file(data_directory='...', filetype='...', timezone='...')\")\n",
    "print(\"   2️⃣  Config File Path:  Patient.from_file(config_path='./my_config.json')\")\n",
    "print(\"   3️⃣  Auto-detect:       Patient.from_file()  # Finds config.json automatically\")\n",
    "print(\"\\n💡 Mix and match these methods based on your needs!\")"
   ]
  }
 ],
 "metadata": {
  "kernelspec": {
   "display_name": "Python 3",
   "language": "python",
   "name": "python3"
  },
  "language_info": {
   "name": "python"
  }
 },
 "nbformat": 4,
 "nbformat_minor": 4
}
