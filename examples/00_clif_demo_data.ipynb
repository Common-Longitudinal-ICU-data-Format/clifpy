{
 "cells": [
  {
   "cell_type": "markdown",
   "metadata": {},
   "source": [
    "# pyCLIF Demo Data - Getting Started\n",
    "\n",
    "Welcome to pyCLIF! This notebook demonstrates how to use the built-in demo datasets to quickly get started with CLIF.\n",
    "\n",
    "## What is pyCLIF?\n",
    "\n",
    "pyCLIF is a Python library designed to work with CLIF format healthcare data. It provides:\n",
    "- **Structured data loading** for ICU longitudinal datasets\n",
    "- **Data validation** against CLIF 2.0.0 specifications\n",
    "- **Easy data manipulation** and analysis tools\n",
    "- **Wide dataset creation** for machine learning workflows"
   ]
  },
  {
   "cell_type": "markdown",
   "metadata": {},
   "source": [
    "## Demo Data Overview\n",
    "\n",
    "The CLIF Demo data is constructed using [MIMIC-IV Clinical Database Demo](https://physionet.org/content/mimic-iv-demo/2.2/), which is an openly-available demo of MIMIC-IV containing a subset of 100 patients\n",
    "\n",
    "The demo datasets included with pyCLIF contain **anonymized synthetic ICU data** representing a small cohort of patients. This data follows the CLIF 2.0.0 standard and includes all major table types:\n",
    "\n",
    "- **Patient** - Demographics and static patient information\n",
    "- **Hospitalization** - Hospital encounter details\n",
    "- **Labs** - Laboratory results (blood work, chemistry panels, etc.)\n",
    "- **Vitals** - Vital signs (heart rate, blood pressure, temperature, etc.)\n",
    "- **Respiratory Support** - Ventilator settings and measurements\n",
    "- **Position** - Patient positioning (especially prone positioning)\n",
    "- **ADT** - Admission, Discharge, Transfer events\n",
    "- **Medication Admin Continuous** - Continuous medication infusions\n",
    "- **Patient Assessments** - Clinical assessments (GCS, sedation scales, etc.)\n"
   ]
  },
  {
   "cell_type": "markdown",
   "metadata": {},
   "source": [
    "## Quick Start Examples"
   ]
  },
  {
   "cell_type": "code",
   "execution_count": 1,
   "metadata": {},
   "outputs": [],
   "source": [
    "import sys\n",
    "import os\n",
    "import pandas as pd\n",
    "\n",
    "# Import the pyCLIF library\n",
    "from pyclif import CLIF\n",
    "from pyclif.data import load_demo_clif"
   ]
  },
  {
   "cell_type": "markdown",
   "metadata": {},
   "source": [
    "## Explore Demo Dataset"
   ]
  },
  {
   "cell_type": "code",
   "execution_count": 2,
   "metadata": {},
   "outputs": [
    {
     "name": "stdout",
     "output_type": "stream",
     "text": [
      "🏥 pyCLIF Demo Datasets Summary\n",
      "==================================================\n",
      "patient                        |    100 rows | 11 cols |   8.3 KB\n",
      "hospitalization                |    275 rows | 17 cols |  19.8 KB\n",
      "labs                           | 43,419 rows | 14 cols | 399.3 KB\n",
      "vitals                         | 89,085 rows |  6 cols | 474.9 KB\n",
      "respiratory_support            |  3,232 rows | 25 cols |  68.8 KB\n",
      "position                       |  4,742 rows |  4 cols |  46.2 KB\n",
      "adt                            |  1,136 rows |  8 cols |  29.7 KB\n",
      "medication_admin_continuous    |  6,810 rows | 12 cols | 121.2 KB\n",
      "patient_assessments            | 30,803 rows |  8 cols | 119.8 KB\n",
      "==================================================\n",
      "Total records                  | 179,602 rows\n",
      "\n",
      "📖 Usage examples:\n",
      "  from pyclif.data import load_demo_clif, load_demo_patient\n",
      "  clif_demo = load_demo_clif()  # Load all tables\n",
      "  patient_data = load_demo_patient()  # Load single table\n",
      "  raw_df = load_demo_labs(return_raw=True)  # Get raw DataFrame\n"
     ]
    }
   ],
   "source": [
    "from pyclif.data import get_demo_summary\n",
    "\n",
    "# Print a nice summary of all demo datasets\n",
    "get_demo_summary()"
   ]
  },
  {
   "cell_type": "markdown",
   "metadata": {},
   "source": [
    "## Load Complete CLIF object with all demo tables"
   ]
  },
  {
   "cell_type": "code",
   "execution_count": 3,
   "metadata": {},
   "outputs": [
    {
     "name": "stdout",
     "output_type": "stream",
     "text": [
      "📊 Demo dataset loaded successfully!\n",
      "   Tables: patient, hospitalization, labs, vitals, respiratory_support, position, adt, medication_admin_continuous, patient_assessments\n",
      "   Patients: 100 unique patients\n",
      "📊 Demo dataset contains:\n",
      "   Patients: 100 unique patients\n"
     ]
    }
   ],
   "source": [
    "# Load complete CLIF object with all demo tables\n",
    "clif_demo = load_demo_clif()\n",
    "\n",
    "# Access individual tables\n",
    "print(f\"📊 Demo dataset contains:\")\n",
    "print(f\"   Patients: {len(clif_demo.patient.df)} unique patients\")"
   ]
  },
  {
   "cell_type": "markdown",
   "metadata": {},
   "source": [
    "## Load Individual Tables"
   ]
  },
  {
   "cell_type": "code",
   "execution_count": 4,
   "metadata": {},
   "outputs": [
    {
     "name": "stdout",
     "output_type": "stream",
     "text": [
      "Validation completed with 2 error(s). See `errors` attribute.\n",
      "Validation completed with 19 error(s).\n",
      "  - 3 schema validation error(s)\n",
      "  - 16 reference unit error(s)\n",
      "See `errors` and `unit_validation_errors` attributes for details.\n"
     ]
    }
   ],
   "source": [
    "from pyclif.data import load_demo_patient, load_demo_labs\n",
    "\n",
    "# Load specific table objects\n",
    "patient_data = load_demo_patient()\n",
    "labs_data = load_demo_labs()\n",
    "\n",
    "# Or get raw DataFrames for direct analysis\n",
    "patient_df = load_demo_patient(return_raw=True)\n",
    "labs_df = load_demo_labs(return_raw=True)"
   ]
  },
  {
   "cell_type": "code",
   "execution_count": null,
   "metadata": {},
   "outputs": [],
   "source": [
    "# # Example 1: Load complete CLIF demo data\n",
    "# from pyclif.data import load_demo_clif\n",
    "# clif_demo = load_demo_clif()\n",
    "# print(f\"Demo patients: {len(clif_demo.patient.df)}\")\n",
    "\n",
    "# # Example 2: Load specific tables only\n",
    "# clif_subset = load_demo_clif(tables=['patient', 'labs', 'vitals'])\n",
    "\n",
    "# # Example 3: Load individual table objects\n",
    "# from pyclif.data import load_demo_patient, load_demo_labs\n",
    "# patient_data = load_demo_patient()\n",
    "# labs_data = load_demo_labs()\n",
    "\n",
    "# # Example 4: Get raw DataFrames\n",
    "# patient_df = load_demo_patient(return_raw=True)\n",
    "# labs_df = load_demo_labs(return_raw=True)\n",
    "\n",
    "# # Example 5: Explore available datasets\n",
    "# from pyclif.data import get_demo_summary, list_demo_datasets\n",
    "# get_demo_summary()  # Pretty print summary\n",
    "# datasets_info = list_demo_datasets()\n",
    "\n",
    "# # Example 6: Quick analysis\n",
    "# from pyclif.data import load_demo_clif\n",
    "# demo = load_demo_clif()\n",
    "# demo.create_wide_dataset()  # Test wide dataset creation"
   ]
  },
  {
   "cell_type": "markdown",
   "metadata": {},
   "source": [
    "## 🔍 Why Use Demo Data?\n",
    "\n",
    "**Perfect for:**\n",
    "- 🎓 **Learning pyCLIF** - Understand the API without needing real data\n",
    "- 🧪 **Testing workflows** - Validate your analysis pipelines\n",
    "- 📚 **Documentation examples** - Reproducible examples in tutorials\n",
    "- 🚀 **Quick prototyping** - Test ideas before working with full datasets\n",
    "- 🎯 **Method development** - Develop new analysis methods\n",
    "\n",
    "**Demo data characteristics:**\n",
    "- ✅ **Realistic structure** - Follows actual CLIF data patterns\n",
    "- ✅ **Complete coverage** - All major CLIF tables represented\n",
    "- ✅ **Validated format** - Passes all CLIF 2.0.0 specifications\n",
    "- ✅ **Synthetic & safe** - No real patient information\n",
    "- ✅ **Lightweight** - Only ~1.3MB total, loads instantly"
   ]
  }
 ],
 "metadata": {
  "kernelspec": {
   "display_name": ".pyclif_dev",
   "language": "python",
   "name": "python3"
  },
  "language_info": {
   "codemirror_mode": {
    "name": "ipython",
    "version": 3
   },
   "file_extension": ".py",
   "mimetype": "text/x-python",
   "name": "python",
   "nbconvert_exporter": "python",
   "pygments_lexer": "ipython3",
   "version": "3.10.9"
  }
 },
 "nbformat": 4,
 "nbformat_minor": 2
}
