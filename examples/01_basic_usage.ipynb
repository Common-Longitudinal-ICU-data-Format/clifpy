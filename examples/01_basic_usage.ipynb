{
 "cells": [
  {
   "cell_type": "markdown",
   "metadata": {},
   "source": [
    "# pyCLIF Basic Usage\n",
    "\n",
    "This notebook demonstrates the basic usage of the pyCLIF library for loading and working with CLIF (Critical Care Data Exchange Format) tables.\n",
    "\n",
    "## Overview\n",
    "\n",
    "The pyCLIF library provides two main ways to work with CLIF data:\n",
    "1. **Main CLIF class** - Initialize once and load multiple tables\n",
    "2. **Individual table classes** - Load specific tables independently\n",
    "\n",
    "This notebook focuses on the main CLIF class approach."
   ]
  },
  {
   "cell_type": "markdown",
   "metadata": {},
   "source": [
    "## Setup and Imports"
   ]
  },
  {
   "cell_type": "code",
   "execution_count": 1,
   "metadata": {},
   "outputs": [
    {
     "name": "stdout",
     "output_type": "stream",
     "text": [
      "pyCLIF imported successfully!\n",
      "Python version: 3.10.9 (main, Mar  1 2023, 12:20:14) [Clang 14.0.6 ]\n",
      "Pandas version: 2.3.0\n"
     ]
    }
   ],
   "source": [
    "import sys\n",
    "import os\n",
    "import pandas as pd\n",
    "\n",
    "# Import the pyCLIF library\n",
    "from pyclif import CLIF\n",
    "\n",
    "print(f\"pyCLIF imported successfully!\")\n",
    "print(f\"Python version: {sys.version}\")\n",
    "print(f\"Pandas version: {pd.__version__}\")"
   ]
  },
  {
   "cell_type": "markdown",
   "metadata": {},
   "source": [
    "## Initialize CLIF Object\n",
    "\n",
    "The CLIF class is the main entry point for working with CLIF data. It requires:\n",
    "- `data_dir`: Path to your CLIF data directory\n",
    "- `filetype`: Format of your data files ('csv' or 'parquet')\n",
    "- `timezone`: Timezone for datetime conversion (e.g., 'US/Eastern', 'UTC')"
   ]
  },
  {
   "cell_type": "code",
   "execution_count": 6,
   "metadata": {},
   "outputs": [
    {
     "name": "stdout",
     "output_type": "stream",
     "text": [
      "CLIF Object Initialized.\n",
      "CLIF object initialized successfully!\n",
      "Data directory: ../src/pyclif/data/clif_demo/\n",
      "File type: parquet\n",
      "Timezone: US/Eastern\n"
     ]
    }
   ],
   "source": [
    "# Set your data directory path - update this to your CLIF data location\n",
    "DATA_DIR = \"../src/pyclif/data/clif_demo/\"\n",
    "\n",
    "# Initialize CLIF object\n",
    "clif = CLIF(\n",
    "    data_dir=DATA_DIR,\n",
    "    filetype='parquet',  # Your data is in parquet format\n",
    "    timezone='US/Eastern'  # Your site timezone\n",
    ")\n",
    "\n",
    "print(\"CLIF object initialized successfully!\")\n",
    "print(f\"Data directory: {clif.data_dir}\")\n",
    "print(f\"File type: {clif.filetype}\")\n",
    "print(f\"Timezone: {clif.timezone}\")"
   ]
  },
  {
   "cell_type": "markdown",
   "metadata": {},
   "source": [
    "## Loading Tables\n",
    "\n",
    "Use the `initialize()` method to load specific tables. You can load one or multiple tables at once.\n",
    "\n",
    "### Available Tables:\n",
    "- `patient` - Patient demographics and basic information\n",
    "- `hospitalization` - Hospital admission details\n",
    "- `vitals` - Vital signs measurements\n",
    "- `labs` - Laboratory results\n",
    "- `adt` - Admission, Discharge, Transfer events\n",
    "- `respiratory_support` - Respiratory support data\n",
    "- `medication_admin_continuous` - Continuous medication administration"
   ]
  },
  {
   "cell_type": "markdown",
   "metadata": {},
   "source": [
    "### Load Patient Table"
   ]
  },
  {
   "cell_type": "code",
   "execution_count": 7,
   "metadata": {},
   "outputs": [
    {
     "name": "stdout",
     "output_type": "stream",
     "text": [
      "Loading clif_patient.parquet\n",
      "Data loaded successfully from clif_patient.parquet\n",
      "Validation completed with 2 error(s). See `errors` attribute.\n",
      "Patient table loaded!\n",
      "Patient data shape: (100, 11)\n",
      "Patient columns: ['patient_id', 'race_name', 'race_category', 'ethnicity_name', 'ethnicity_category', 'sex_name', 'sex_category', 'birth_date', 'death_dttm', 'language_name', 'language_category']\n"
     ]
    }
   ],
   "source": [
    "# Load just the patient table\n",
    "clif.initialize(tables=['patient'])\n",
    "\n",
    "print(\"Patient table loaded!\")\n",
    "print(f\"Patient data shape: {clif.patient.df.shape}\")\n",
    "print(f\"Patient columns: {list(clif.patient.df.columns)}\")"
   ]
  },
  {
   "cell_type": "code",
   "execution_count": 8,
   "metadata": {},
   "outputs": [
    {
     "data": {
      "text/plain": [
       "[{'type': 'null_values', 'column': 'birth_date', 'count': 100},\n",
       " {'type': 'null_values', 'column': 'death_dttm', 'count': 85}]"
      ]
     },
     "execution_count": 8,
     "metadata": {},
     "output_type": "execute_result"
    }
   ],
   "source": [
    "clif.patient.errors"
   ]
  },
  {
   "cell_type": "code",
   "execution_count": 9,
   "metadata": {},
   "outputs": [
    {
     "name": "stdout",
     "output_type": "stream",
     "text": [
      "First 5 patient records:\n"
     ]
    },
    {
     "data": {
      "text/html": [
       "<div>\n",
       "<style scoped>\n",
       "    .dataframe tbody tr th:only-of-type {\n",
       "        vertical-align: middle;\n",
       "    }\n",
       "\n",
       "    .dataframe tbody tr th {\n",
       "        vertical-align: top;\n",
       "    }\n",
       "\n",
       "    .dataframe thead th {\n",
       "        text-align: right;\n",
       "    }\n",
       "</style>\n",
       "<table border=\"1\" class=\"dataframe\">\n",
       "  <thead>\n",
       "    <tr style=\"text-align: right;\">\n",
       "      <th></th>\n",
       "      <th>patient_id</th>\n",
       "      <th>race_name</th>\n",
       "      <th>race_category</th>\n",
       "      <th>ethnicity_name</th>\n",
       "      <th>ethnicity_category</th>\n",
       "      <th>sex_name</th>\n",
       "      <th>sex_category</th>\n",
       "      <th>birth_date</th>\n",
       "      <th>death_dttm</th>\n",
       "      <th>language_name</th>\n",
       "      <th>language_category</th>\n",
       "    </tr>\n",
       "  </thead>\n",
       "  <tbody>\n",
       "    <tr>\n",
       "      <th>0</th>\n",
       "      <td>10002495</td>\n",
       "      <td>UNKNOWN</td>\n",
       "      <td>Unknown</td>\n",
       "      <td>UNKNOWN</td>\n",
       "      <td>Unknown</td>\n",
       "      <td>M</td>\n",
       "      <td>Male</td>\n",
       "      <td>NaT</td>\n",
       "      <td>NaT</td>\n",
       "      <td>ENGLISH</td>\n",
       "      <td>Unknown or NA</td>\n",
       "    </tr>\n",
       "    <tr>\n",
       "      <th>1</th>\n",
       "      <td>10012552</td>\n",
       "      <td>UNKNOWN</td>\n",
       "      <td>Unknown</td>\n",
       "      <td>UNKNOWN</td>\n",
       "      <td>Unknown</td>\n",
       "      <td>M</td>\n",
       "      <td>Male</td>\n",
       "      <td>NaT</td>\n",
       "      <td>NaT</td>\n",
       "      <td>ENGLISH</td>\n",
       "      <td>Unknown or NA</td>\n",
       "    </tr>\n",
       "    <tr>\n",
       "      <th>2</th>\n",
       "      <td>10015272</td>\n",
       "      <td>WHITE</td>\n",
       "      <td>White</td>\n",
       "      <td>WHITE</td>\n",
       "      <td>Non-Hispanic</td>\n",
       "      <td>F</td>\n",
       "      <td>Female</td>\n",
       "      <td>NaT</td>\n",
       "      <td>NaT</td>\n",
       "      <td>ENGLISH</td>\n",
       "      <td>Unknown or NA</td>\n",
       "    </tr>\n",
       "    <tr>\n",
       "      <th>3</th>\n",
       "      <td>10016810</td>\n",
       "      <td>UNKNOWN</td>\n",
       "      <td>Unknown</td>\n",
       "      <td>UNKNOWN</td>\n",
       "      <td>Unknown</td>\n",
       "      <td>F</td>\n",
       "      <td>Female</td>\n",
       "      <td>NaT</td>\n",
       "      <td>NaT</td>\n",
       "      <td>ENGLISH</td>\n",
       "      <td>Unknown or NA</td>\n",
       "    </tr>\n",
       "    <tr>\n",
       "      <th>4</th>\n",
       "      <td>10026406</td>\n",
       "      <td>WHITE</td>\n",
       "      <td>White</td>\n",
       "      <td>WHITE</td>\n",
       "      <td>Non-Hispanic</td>\n",
       "      <td>M</td>\n",
       "      <td>Male</td>\n",
       "      <td>NaT</td>\n",
       "      <td>NaT</td>\n",
       "      <td>ENGLISH</td>\n",
       "      <td>Unknown or NA</td>\n",
       "    </tr>\n",
       "  </tbody>\n",
       "</table>\n",
       "</div>"
      ],
      "text/plain": [
       "  patient_id race_name race_category ethnicity_name ethnicity_category  \\\n",
       "0   10002495   UNKNOWN       Unknown        UNKNOWN            Unknown   \n",
       "1   10012552   UNKNOWN       Unknown        UNKNOWN            Unknown   \n",
       "2   10015272     WHITE         White          WHITE       Non-Hispanic   \n",
       "3   10016810   UNKNOWN       Unknown        UNKNOWN            Unknown   \n",
       "4   10026406     WHITE         White          WHITE       Non-Hispanic   \n",
       "\n",
       "  sex_name sex_category birth_date death_dttm language_name language_category  \n",
       "0        M         Male        NaT        NaT       ENGLISH     Unknown or NA  \n",
       "1        M         Male        NaT        NaT       ENGLISH     Unknown or NA  \n",
       "2        F       Female        NaT        NaT       ENGLISH     Unknown or NA  \n",
       "3        F       Female        NaT        NaT       ENGLISH     Unknown or NA  \n",
       "4        M         Male        NaT        NaT       ENGLISH     Unknown or NA  "
      ]
     },
     "execution_count": 9,
     "metadata": {},
     "output_type": "execute_result"
    }
   ],
   "source": [
    "# Display first few rows of patient data\n",
    "print(\"First 5 patient records:\")\n",
    "clif.patient.df.head()"
   ]
  },
  {
   "cell_type": "markdown",
   "metadata": {},
   "source": [
    "### Load Multiple Tables"
   ]
  },
  {
   "cell_type": "code",
   "execution_count": 10,
   "metadata": {},
   "outputs": [
    {
     "name": "stdout",
     "output_type": "stream",
     "text": [
      "Loading clif_patient.parquet\n",
      "Data loaded successfully from clif_patient.parquet\n",
      "Validation completed with 2 error(s). See `errors` attribute.\n",
      "Loading clif_hospitalization.parquet\n",
      "Data loaded successfully from clif_hospitalization.parquet\n",
      "Validation completed successfully.\n",
      "Loading clif_vitals.parquet\n",
      "Data loaded successfully from clif_vitals.parquet\n",
      "Validation completed with 5 error(s).\n",
      "  - 5 range validation error(s)\n",
      "See `errors` and `range_validation_errors` attributes for details.\n",
      "Multiple tables loaded!\n",
      "Patient data: (100, 11)\n",
      "Hospitalization data: (275, 17)\n",
      "Vitals data: (89085, 6)\n"
     ]
    }
   ],
   "source": [
    "# Load multiple tables at once\n",
    "tables_to_load = ['patient', 'hospitalization', 'vitals']\n",
    "clif.initialize(tables=tables_to_load)\n",
    "\n",
    "print(\"Multiple tables loaded!\")\n",
    "print(f\"Patient data: {clif.patient.df.shape if clif.patient else 'Not loaded'}\")\n",
    "print(f\"Hospitalization data: {clif.hospitalization.df.shape if clif.hospitalization else 'Not loaded'}\")\n",
    "print(f\"Vitals data: {clif.vitals.df.shape if clif.vitals else 'Not loaded'}\")"
   ]
  },
  {
   "cell_type": "markdown",
   "metadata": {},
   "source": [
    "## Data Validation\n",
    "\n",
    "Each loaded table automatically validates against the CLIF schema specifications."
   ]
  },
  {
   "cell_type": "code",
   "execution_count": 11,
   "metadata": {},
   "outputs": [
    {
     "name": "stdout",
     "output_type": "stream",
     "text": [
      "Patient table is valid: False\n",
      "Validation errors: 2\n",
      "  - {'type': 'null_values', 'column': 'birth_date', 'count': 100}\n",
      "  - {'type': 'null_values', 'column': 'death_dttm', 'count': 85}\n",
      "\n",
      "Vitals table is valid: False\n",
      "Schema validation errors: 0\n",
      "Range validation errors: 5\n"
     ]
    }
   ],
   "source": [
    "# Check validation status for patient table\n",
    "if clif.patient:\n",
    "    print(f\"Patient table is valid: {clif.patient.isvalid()}\")\n",
    "    if not clif.patient.isvalid():\n",
    "        print(f\"Validation errors: {len(clif.patient.errors)}\")\n",
    "        for error in clif.patient.errors[:3]:  # Show first 3 errors\n",
    "            print(f\"  - {error}\")\n",
    "\n",
    "# Check validation for vitals table\n",
    "if clif.vitals:\n",
    "    print(f\"\\nVitals table is valid: {clif.vitals.isvalid()}\")\n",
    "    if not clif.vitals.isvalid():\n",
    "        print(f\"Schema validation errors: {len(clif.vitals.errors)}\")\n",
    "        print(f\"Range validation errors: {len(clif.vitals.range_validation_errors)}\")"
   ]
  },
  {
   "cell_type": "markdown",
   "metadata": {},
   "source": [
    "## Basic Data Exploration"
   ]
  },
  {
   "cell_type": "code",
   "execution_count": 12,
   "metadata": {},
   "outputs": [
    {
     "name": "stdout",
     "output_type": "stream",
     "text": [
      "=== PATIENT TABLE SUMMARY ===\n",
      "Total patients: 100\n",
      "Unique patient IDs: 100\n",
      "\n",
      "Column information:\n",
      "<class 'pandas.core.frame.DataFrame'>\n",
      "RangeIndex: 100 entries, 0 to 99\n",
      "Data columns (total 11 columns):\n",
      " #   Column              Non-Null Count  Dtype              \n",
      "---  ------              --------------  -----              \n",
      " 0   patient_id          100 non-null    string             \n",
      " 1   race_name           100 non-null    object             \n",
      " 2   race_category       100 non-null    object             \n",
      " 3   ethnicity_name      100 non-null    object             \n",
      " 4   ethnicity_category  100 non-null    object             \n",
      " 5   sex_name            100 non-null    object             \n",
      " 6   sex_category        100 non-null    object             \n",
      " 7   birth_date          0 non-null      datetime64[us]     \n",
      " 8   death_dttm          15 non-null     datetime64[us, UTC]\n",
      " 9   language_name       100 non-null    object             \n",
      " 10  language_category   100 non-null    object             \n",
      "dtypes: datetime64[us, UTC](1), datetime64[us](1), object(8), string(1)\n",
      "memory usage: 8.7+ KB\n",
      "None\n"
     ]
    }
   ],
   "source": [
    "# Patient table summary\n",
    "if clif.patient and clif.patient.df is not None:\n",
    "    print(\"=== PATIENT TABLE SUMMARY ===\")\n",
    "    print(f\"Total patients: {len(clif.patient.df)}\")\n",
    "    print(f\"Unique patient IDs: {clif.patient.df['patient_id'].nunique() if 'patient_id' in clif.patient.df.columns else 'N/A'}\")\n",
    "    \n",
    "    # Show column info\n",
    "    print(\"\\nColumn information:\")\n",
    "    print(clif.patient.df.info())"
   ]
  },
  {
   "cell_type": "code",
   "execution_count": 13,
   "metadata": {},
   "outputs": [
    {
     "name": "stdout",
     "output_type": "stream",
     "text": [
      "=== VITALS TABLE SUMMARY ===\n",
      "Total vital measurements: 89085\n",
      "Vital categories available: ['spo2', 'map', 'sbp', 'heart_rate', 'dbp', 'respiratory_rate', 'weight_kg', 'height_cm', 'temp_c']\n",
      "\n",
      "Summary statistics:\n",
      "  total_records: 89085\n",
      "  unique_hospitalizations: 128\n",
      "  vital_category_counts: {'map': 14368, 'sbp': 14356, 'dbp': 14351, 'heart_rate': 13913, 'respiratory_rate': 13913, 'spo2': 13540, 'temp_c': 3767, 'weight_kg': 806, 'height_cm': 71}\n",
      "  date_range: {'earliest': Timestamp('2110-04-11 20:52:00+0000', tz='UTC'), 'latest': Timestamp('2201-12-13 23:00:00+0000', tz='UTC')}\n"
     ]
    }
   ],
   "source": [
    "# Vitals table summary\n",
    "if clif.vitals and clif.vitals.df is not None:\n",
    "    print(\"=== VITALS TABLE SUMMARY ===\")\n",
    "    print(f\"Total vital measurements: {len(clif.vitals.df)}\")\n",
    "    \n",
    "    # Get vital categories\n",
    "    vital_categories = clif.vitals.get_vital_categories()\n",
    "    print(f\"Vital categories available: {vital_categories}\")\n",
    "    \n",
    "    # Get summary statistics\n",
    "    summary_stats = clif.vitals.get_summary_stats()\n",
    "    print(f\"\\nSummary statistics:\")\n",
    "    for key, value in summary_stats.items():\n",
    "        if key != 'vital_value_stats':  # Skip detailed stats for now\n",
    "            print(f\"  {key}: {value}\")"
   ]
  },
  {
   "cell_type": "markdown",
   "metadata": {},
   "source": [
    "## Timezone Handling\n",
    "\n",
    "The CLIF library automatically handles timezone conversion for datetime columns when loading data."
   ]
  },
  {
   "cell_type": "code",
   "execution_count": 14,
   "metadata": {},
   "outputs": [
    {
     "name": "stdout",
     "output_type": "stream",
     "text": [
      "DateTime columns in vitals: ['recorded_dttm']\n",
      "  recorded_dttm: 2137-08-25 14:00:00+00:00 (timezone: UTC)\n"
     ]
    }
   ],
   "source": [
    "# Check datetime columns and their timezones\n",
    "if clif.vitals and clif.vitals.df is not None:\n",
    "    datetime_cols = [col for col in clif.vitals.df.columns if 'dttm' in col]\n",
    "    print(f\"DateTime columns in vitals: {datetime_cols}\")\n",
    "    \n",
    "    for col in datetime_cols:\n",
    "        if col in clif.vitals.df.columns:\n",
    "            sample_datetime = clif.vitals.df[col].dropna().iloc[0] if not clif.vitals.df[col].dropna().empty else None\n",
    "            if sample_datetime is not None:\n",
    "                print(f\"  {col}: {sample_datetime} (timezone: {getattr(sample_datetime, 'tz', 'naive')})\")"
   ]
  },
  {
   "cell_type": "markdown",
   "metadata": {},
   "source": [
    "## Next Steps\n",
    "\n",
    "This notebook covered the basics of:\n",
    "- Initializing the CLIF object\n",
    "- Loading single and multiple tables\n",
    "- Basic data validation\n",
    "- Simple data exploration\n",
    "- Timezone handling\n",
    "\n",
    "### Explore Other Notebooks:\n",
    "- `02_individual_tables.ipynb` - Working with individual table classes\n",
    "- `03_data_validation.ipynb` - Advanced validation and error handling\n",
    "- `04_vitals_analysis.ipynb` - Detailed vitals analysis\n",
    "- `05_timezone_handling.ipynb` - Advanced timezone operations\n",
    "- `06_data_filtering.ipynb` - Filtering and querying data"
   ]
  }
 ],
 "metadata": {
  "kernelspec": {
   "display_name": ".pyclif_dev",
   "language": "python",
   "name": "python3"
  },
  "language_info": {
   "codemirror_mode": {
    "name": "ipython",
    "version": 3
   },
   "file_extension": ".py",
   "mimetype": "text/x-python",
   "name": "python",
   "nbconvert_exporter": "python",
   "pygments_lexer": "ipython3",
   "version": "3.10.9"
  }
 },
 "nbformat": 4,
 "nbformat_minor": 4
}
