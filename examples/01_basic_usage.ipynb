{
 "cells": [
  {
   "cell_type": "markdown",
   "metadata": {},
   "source": [
    "# pyCLIF Basic Usage\n",
    "\n",
    "This notebook demonstrates the basic usage of the pyCLIF library for loading and working with CLIF (Critical Care Data Exchange Format) tables.\n",
    "\n",
    "## Overview\n",
    "\n",
    "The pyCLIF library provides two main ways to work with CLIF data:\n",
    "1. **Main CLIF class** - Initialize once and load multiple tables\n",
    "2. **Individual table classes** - Load specific tables independently\n",
    "\n",
    "This notebook focuses on the main CLIF class approach."
   ]
  },
  {
   "cell_type": "markdown",
   "metadata": {},
   "source": [
    "## Setup and Imports"
   ]
  },
  {
   "cell_type": "code",
   "execution_count": null,
   "metadata": {},
   "outputs": [],
   "source": [
    "import sys\n",
    "import os\n",
    "import pandas as pd\n",
    "\n",
    "# Import the pyCLIF library\n",
    "from pyclif import CLIF\n",
    "\n",
    "print(f\"pyCLIF imported successfully!\")\n",
    "print(f\"Python version: {sys.version}\")\n",
    "print(f\"Pandas version: {pd.__version__}\")"
   ]
  },
  {
   "cell_type": "markdown",
   "metadata": {},
   "source": [
    "## Initialize CLIF Object\n",
    "\n",
    "The CLIF class is the main entry point for working with CLIF data. It requires:\n",
    "- `data_dir`: Path to your CLIF data directory\n",
    "- `filetype`: Format of your data files ('csv' or 'parquet')\n",
    "- `timezone`: Timezone for datetime conversion (e.g., 'US/Eastern', 'UTC')"
   ]
  },
  {
   "cell_type": "code",
   "execution_count": null,
   "metadata": {},
   "outputs": [],
   "source": [
    "# Set your data directory path - update this to your CLIF data location\n",
    "DATA_DIR = \"/Users/vaishvik/downloads/CLIF_MIMIC\"\n",
    "\n",
    "# Initialize CLIF object\n",
    "clif = CLIF(\n",
    "    data_dir=DATA_DIR,\n",
    "    filetype='parquet',  # Your data is in parquet format\n",
    "    timezone='US/Eastern'  # Your site timezone\n",
    ")\n",
    "\n",
    "print(\"CLIF object initialized successfully!\")\n",
    "print(f\"Data directory: {clif.data_dir}\")\n",
    "print(f\"File type: {clif.filetype}\")\n",
    "print(f\"Timezone: {clif.timezone}\")"
   ]
  },
  {
   "cell_type": "markdown",
   "metadata": {},
   "source": [
    "## Loading Tables\n",
    "\n",
    "Use the `initialize()` method to load specific tables. You can load one or multiple tables at once.\n",
    "\n",
    "### Available Tables:\n",
    "- `patient` - Patient demographics and basic information\n",
    "- `hospitalization` - Hospital admission details\n",
    "- `vitals` - Vital signs measurements\n",
    "- `labs` - Laboratory results\n",
    "- `adt` - Admission, Discharge, Transfer events\n",
    "- `respiratory_support` - Respiratory support data\n",
    "- `medication_admin_continuous` - Continuous medication administration"
   ]
  },
  {
   "cell_type": "markdown",
   "metadata": {},
   "source": [
    "### Load Patient Table"
   ]
  },
  {
   "cell_type": "code",
   "execution_count": null,
   "metadata": {},
   "outputs": [],
   "source": [
    "# Load just the patient table\n",
    "clif.initialize(tables=['patient'])\n",
    "\n",
    "print(\"Patient table loaded!\")\n",
    "print(f\"Patient data shape: {clif.patient.df.shape}\")\n",
    "print(f\"Patient columns: {list(clif.patient.df.columns)}\")"
   ]
  },
  {
   "cell_type": "code",
   "execution_count": null,
   "metadata": {},
   "outputs": [],
   "source": [
    "clif.patient.errors"
   ]
  },
  {
   "cell_type": "code",
   "execution_count": null,
   "metadata": {},
   "outputs": [],
   "source": [
    "# Display first few rows of patient data\n",
    "print(\"First 5 patient records:\")\n",
    "clif.patient.df.head()"
   ]
  },
  {
   "cell_type": "markdown",
   "metadata": {},
   "source": [
    "### Load Multiple Tables"
   ]
  },
  {
   "cell_type": "code",
   "execution_count": null,
   "metadata": {},
   "outputs": [],
   "source": [
    "# Load multiple tables at once\n",
    "tables_to_load = ['patient', 'hospitalization', 'vitals']\n",
    "clif.initialize(tables=tables_to_load)\n",
    "\n",
    "print(\"Multiple tables loaded!\")\n",
    "print(f\"Patient data: {clif.patient.df.shape if clif.patient else 'Not loaded'}\")\n",
    "print(f\"Hospitalization data: {clif.hospitalization.df.shape if clif.hospitalization else 'Not loaded'}\")\n",
    "print(f\"Vitals data: {clif.vitals.df.shape if clif.vitals else 'Not loaded'}\")"
   ]
  },
  {
   "cell_type": "markdown",
   "metadata": {},
   "source": [
    "## Data Validation\n",
    "\n",
    "Each loaded table automatically validates against the CLIF schema specifications."
   ]
  },
  {
   "cell_type": "code",
   "execution_count": null,
   "metadata": {},
   "outputs": [],
   "source": [
    "# Check validation status for patient table\n",
    "if clif.patient:\n",
    "    print(f\"Patient table is valid: {clif.patient.isvalid()}\")\n",
    "    if not clif.patient.isvalid():\n",
    "        print(f\"Validation errors: {len(clif.patient.errors)}\")\n",
    "        for error in clif.patient.errors[:3]:  # Show first 3 errors\n",
    "            print(f\"  - {error}\")\n",
    "\n",
    "# Check validation for vitals table\n",
    "if clif.vitals:\n",
    "    print(f\"\\nVitals table is valid: {clif.vitals.isvalid()}\")\n",
    "    if not clif.vitals.isvalid():\n",
    "        print(f\"Schema validation errors: {len(clif.vitals.errors)}\")\n",
    "        print(f\"Range validation errors: {len(clif.vitals.range_validation_errors)}\")"
   ]
  },
  {
   "cell_type": "markdown",
   "metadata": {},
   "source": [
    "## Basic Data Exploration"
   ]
  },
  {
   "cell_type": "code",
   "execution_count": null,
   "metadata": {},
   "outputs": [],
   "source": [
    "# Patient table summary\n",
    "if clif.patient and clif.patient.df is not None:\n",
    "    print(\"=== PATIENT TABLE SUMMARY ===\")\n",
    "    print(f\"Total patients: {len(clif.patient.df)}\")\n",
    "    print(f\"Unique patient IDs: {clif.patient.df['patient_id'].nunique() if 'patient_id' in clif.patient.df.columns else 'N/A'}\")\n",
    "    \n",
    "    # Show column info\n",
    "    print(\"\\nColumn information:\")\n",
    "    print(clif.patient.df.info())"
   ]
  },
  {
   "cell_type": "code",
   "execution_count": null,
   "metadata": {},
   "outputs": [],
   "source": [
    "# Vitals table summary\n",
    "if clif.vitals and clif.vitals.df is not None:\n",
    "    print(\"=== VITALS TABLE SUMMARY ===\")\n",
    "    print(f\"Total vital measurements: {len(clif.vitals.df)}\")\n",
    "    \n",
    "    # Get vital categories\n",
    "    vital_categories = clif.vitals.get_vital_categories()\n",
    "    print(f\"Vital categories available: {vital_categories}\")\n",
    "    \n",
    "    # Get summary statistics\n",
    "    summary_stats = clif.vitals.get_summary_stats()\n",
    "    print(f\"\\nSummary statistics:\")\n",
    "    for key, value in summary_stats.items():\n",
    "        if key != 'vital_value_stats':  # Skip detailed stats for now\n",
    "            print(f\"  {key}: {value}\")"
   ]
  },
  {
   "cell_type": "markdown",
   "metadata": {},
   "source": [
    "## Timezone Handling\n",
    "\n",
    "The CLIF library automatically handles timezone conversion for datetime columns when loading data."
   ]
  },
  {
   "cell_type": "code",
   "execution_count": null,
   "metadata": {},
   "outputs": [],
   "source": [
    "# Check datetime columns and their timezones\n",
    "if clif.vitals and clif.vitals.df is not None:\n",
    "    datetime_cols = [col for col in clif.vitals.df.columns if 'dttm' in col]\n",
    "    print(f\"DateTime columns in vitals: {datetime_cols}\")\n",
    "    \n",
    "    for col in datetime_cols:\n",
    "        if col in clif.vitals.df.columns:\n",
    "            sample_datetime = clif.vitals.df[col].dropna().iloc[0] if not clif.vitals.df[col].dropna().empty else None\n",
    "            if sample_datetime is not None:\n",
    "                print(f\"  {col}: {sample_datetime} (timezone: {getattr(sample_datetime, 'tz', 'naive')})\")"
   ]
  },
  {
   "cell_type": "markdown",
   "metadata": {},
   "source": [
    "## Next Steps\n",
    "\n",
    "This notebook covered the basics of:\n",
    "- Initializing the CLIF object\n",
    "- Loading single and multiple tables\n",
    "- Basic data validation\n",
    "- Simple data exploration\n",
    "- Timezone handling\n",
    "\n",
    "### Explore Other Notebooks:\n",
    "- `02_individual_tables.ipynb` - Working with individual table classes\n",
    "- `03_data_validation.ipynb` - Advanced validation and error handling\n",
    "- `04_vitals_analysis.ipynb` - Detailed vitals analysis\n",
    "- `05_timezone_handling.ipynb` - Advanced timezone operations\n",
    "- `06_data_filtering.ipynb` - Filtering and querying data"
   ]
  }
 ],
 "metadata": {
  "kernelspec": {
   "display_name": ".venv",
   "language": "python",
   "name": "python3"
  },
  "language_info": {
   "codemirror_mode": {
    "name": "ipython",
    "version": 3
   },
   "file_extension": ".py",
   "mimetype": "text/x-python",
   "name": "python",
   "nbconvert_exporter": "python",
   "pygments_lexer": "ipython3",
   "version": "3.13.5"
  }
 },
 "nbformat": 4,
 "nbformat_minor": 4
}
